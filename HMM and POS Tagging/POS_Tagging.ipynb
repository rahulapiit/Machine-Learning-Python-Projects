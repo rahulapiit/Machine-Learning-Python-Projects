{
 "cells": [
  {
   "cell_type": "markdown",
   "metadata": {},
   "source": [
    "<div class=\"alert alert-block alert-info\">\n",
    "    <h1> POS tagging using modified Viterbi </h1>\n",
    "</div>"
   ]
  },
  {
   "cell_type": "markdown",
   "metadata": {},
   "source": [
    "### Data Preparation"
   ]
  },
  {
   "cell_type": "code",
   "execution_count": 1,
   "metadata": {},
   "outputs": [],
   "source": [
    "#Importing libraries\n",
    "import nltk\n",
    "import random\n",
    "import seaborn as sns\n",
    "import matplotlib.pyplot as plt\n",
    "import pprint, time\n",
    "from sklearn.model_selection import train_test_split\n",
    "from nltk.tokenize import word_tokenize\n",
    "import numpy as np\n",
    "import pandas as pd\n",
    "from sklearn.model_selection import train_test_split\n",
    "from nltk.tokenize import word_tokenize"
   ]
  },
  {
   "cell_type": "code",
   "execution_count": 2,
   "metadata": {},
   "outputs": [],
   "source": [
    "# reading the Treebank tagged sentences\n",
    "nltk_data = list(nltk.corpus.treebank.tagged_sents(tagset='universal'))"
   ]
  },
  {
   "cell_type": "code",
   "execution_count": 3,
   "metadata": {},
   "outputs": [
    {
     "data": {
      "text/plain": [
       "[[('Pierre', 'NOUN'),\n",
       "  ('Vinken', 'NOUN'),\n",
       "  (',', '.'),\n",
       "  ('61', 'NUM'),\n",
       "  ('years', 'NOUN'),\n",
       "  ('old', 'ADJ'),\n",
       "  (',', '.'),\n",
       "  ('will', 'VERB'),\n",
       "  ('join', 'VERB'),\n",
       "  ('the', 'DET'),\n",
       "  ('board', 'NOUN'),\n",
       "  ('as', 'ADP'),\n",
       "  ('a', 'DET'),\n",
       "  ('nonexecutive', 'ADJ'),\n",
       "  ('director', 'NOUN'),\n",
       "  ('Nov.', 'NOUN'),\n",
       "  ('29', 'NUM'),\n",
       "  ('.', '.')]]"
      ]
     },
     "execution_count": 3,
     "metadata": {},
     "output_type": "execute_result"
    }
   ],
   "source": [
    "# samples: Each sentence is a list of (word, pos) tuples\n",
    "nltk_data[:1]  #Check first Sentence"
   ]
  },
  {
   "cell_type": "markdown",
   "metadata": {},
   "source": [
    "### Splitting Dataset into 95:5"
   ]
  },
  {
   "cell_type": "code",
   "execution_count": 4,
   "metadata": {},
   "outputs": [
    {
     "name": "stdout",
     "output_type": "stream",
     "text": [
      "Length of Training Set:  3718\n",
      "Length of Testing Set:  196\n"
     ]
    }
   ],
   "source": [
    "# Splitting into train and test\n",
    "random.seed(1234)\n",
    "train_set, test_set = train_test_split(nltk_data,test_size=0.05)\n",
    "\n",
    "print('Length of Training Set: ', len(train_set))\n",
    "print('Length of Testing Set: ', len(test_set))\n"
   ]
  },
  {
   "cell_type": "code",
   "execution_count": 5,
   "metadata": {},
   "outputs": [
    {
     "name": "stdout",
     "output_type": "stream",
     "text": [
      "[[('One', 'NOUN'), ('claims', 'VERB'), ('0', 'X'), ('he', 'PRON'), (\"'s\", 'VERB'), ('pro-choice', 'ADJ'), ('.', '.')], [('Moreover', 'ADV'), (',', '.'), ('the', 'DET'), ('framers', 'NOUN'), ('believed', 'VERB'), ('that', 'ADP'), ('the', 'DET'), ('nation', 'NOUN'), ('needed', 'VERB'), ('a', 'DET'), ('unitary', 'ADJ'), ('executive', 'NOUN'), ('with', 'ADP'), ('the', 'DET'), ('independence', 'NOUN'), ('and', 'CONJ'), ('resources', 'NOUN'), ('0', 'X'), ('*', 'X'), ('to', 'PRT'), ('perform', 'VERB'), ('the', 'DET'), ('executive', 'NOUN'), ('functions', 'NOUN'), ('that', 'ADP'), ('the', 'DET'), ('Confederation', 'NOUN'), ('Congress', 'NOUN'), ('had', 'VERB'), ('performed', 'VERB'), ('*T*-2', 'X'), ('poorly', 'ADV'), ('under', 'ADP'), ('the', 'DET'), ('Articles', 'NOUN'), ('of', 'ADP'), ('Confederation', 'NOUN'), ('*T*-1', 'X'), ('.', '.')], [('However', 'ADV'), (',', '.'), ('after', 'ADP'), ('two', 'NUM'), ('meetings', 'NOUN'), ('with', 'ADP'), ('the', 'DET'), ('Soviets', 'NOUN'), (',', '.'), ('a', 'DET'), ('State', 'NOUN'), ('Department', 'NOUN'), ('spokesman', 'NOUN'), ('said', 'VERB'), ('that', 'ADP'), ('it', 'PRON'), ('*EXP*-1', 'X'), (\"'s\", 'VERB'), ('``', '.'), ('too', 'ADV'), ('early', 'ADV'), ('*', 'X'), ('to', 'PRT'), ('say', 'VERB'), (\"''\", '.'), ('whether', 'ADP'), ('that', 'DET'), ('will', 'VERB'), ('happen', 'VERB'), ('.', '.')], [('``', '.'), ('It', 'PRON'), ('could', 'VERB'), ('operate', 'VERB'), ('*-1', 'X'), ('to', 'PRT'), ('augment', 'VERB'), ('our', 'PRON'), ('budget', 'NOUN'), (',', '.'), (\"''\", '.'), ('James', 'NOUN'), ('Rill', 'NOUN'), (',', '.'), ('the', 'DET'), ('Justice', 'NOUN'), ('Department', 'NOUN'), (\"'s\", 'PRT'), ('antitrust', 'ADJ'), ('chief', 'NOUN'), (',', '.'), ('said', 'VERB'), ('*T*-2', 'X'), ('in', 'ADP'), ('an', 'DET'), ('interview', 'NOUN'), ('.', '.')], [('But', 'CONJ'), ('a', 'DET'), ('survey', 'NOUN'), ('early', 'ADV'), ('this', 'DET'), ('summer', 'NOUN'), ('indicated', 'VERB'), ('that', 'ADP'), ('the', 'DET'), ('volume', 'NOUN'), ('of', 'ADP'), ('index-options', 'NOUN'), ('trading', 'NOUN'), ('was', 'VERB'), ('only', 'ADV'), ('15', 'NUM'), ('%', 'NOUN'), ('of', 'ADP'), ('the', 'DET'), ('size', 'NOUN'), ('of', 'ADP'), ('the', 'DET'), ('underlying', 'VERB'), ('equity', 'NOUN'), ('market', 'NOUN'), (',', '.'), ('exchange', 'NOUN'), ('officials', 'NOUN'), ('said', 'VERB'), ('0', 'X'), ('*T*-1', 'X'), ('.', '.')]]\n"
     ]
    }
   ],
   "source": [
    "print(train_set[:5])   #Check samples of Train set"
   ]
  },
  {
   "cell_type": "code",
   "execution_count": 6,
   "metadata": {},
   "outputs": [
    {
     "data": {
      "text/plain": [
       "95684"
      ]
     },
     "execution_count": 6,
     "metadata": {},
     "output_type": "execute_result"
    }
   ],
   "source": [
    "# Getting list of tagged words\n",
    "train_tagged_words = [tup for sent in train_set for tup in sent]\n",
    "len(train_tagged_words)"
   ]
  },
  {
   "cell_type": "code",
   "execution_count": 7,
   "metadata": {},
   "outputs": [
    {
     "data": {
      "text/plain": [
       "['One', 'claims', '0', 'he', \"'s\", 'pro-choice', '.', 'Moreover', ',', 'the']"
      ]
     },
     "execution_count": 7,
     "metadata": {},
     "output_type": "execute_result"
    }
   ],
   "source": [
    "# tokens \n",
    "tokens = [pair[0] for pair in train_tagged_words]\n",
    "tokens[:10]"
   ]
  },
  {
   "cell_type": "code",
   "execution_count": 8,
   "metadata": {},
   "outputs": [
    {
     "name": "stdout",
     "output_type": "stream",
     "text": [
      "12075\n"
     ]
    }
   ],
   "source": [
    "# vocabulary\n",
    "V = set(tokens)\n",
    "print(len(V))"
   ]
  },
  {
   "cell_type": "code",
   "execution_count": 9,
   "metadata": {},
   "outputs": [
    {
     "data": {
      "text/plain": [
       "12"
      ]
     },
     "execution_count": 9,
     "metadata": {},
     "output_type": "execute_result"
    }
   ],
   "source": [
    "# Check the number of tags\n",
    "T = set([pair[1] for pair in train_tagged_words])\n",
    "len(T)"
   ]
  },
  {
   "cell_type": "code",
   "execution_count": 10,
   "metadata": {},
   "outputs": [
    {
     "name": "stdout",
     "output_type": "stream",
     "text": [
      "{'ADP', 'NUM', 'VERB', '.', 'PRON', 'ADV', 'X', 'DET', 'CONJ', 'ADJ', 'NOUN', 'PRT'}\n"
     ]
    }
   ],
   "source": [
    "print (T)  #Print the tags"
   ]
  },
  {
   "cell_type": "code",
   "execution_count": 11,
   "metadata": {},
   "outputs": [
    {
     "data": {
      "text/plain": [
       "Counter({'NOUN': 27484,\n",
       "         'VERB': 12881,\n",
       "         'X': 6290,\n",
       "         'PRON': 2590,\n",
       "         'ADJ': 6087,\n",
       "         '.': 11151,\n",
       "         'ADV': 3003,\n",
       "         'DET': 8271,\n",
       "         'ADP': 9381,\n",
       "         'CONJ': 2150,\n",
       "         'PRT': 3043,\n",
       "         'NUM': 3353})"
      ]
     },
     "execution_count": 11,
     "metadata": {},
     "output_type": "execute_result"
    }
   ],
   "source": [
    "#Check the count of POS Tags in train data set\n",
    "from collections import Counter\n",
    "tags = Counter([pair[1] for pair in train_tagged_words])\n",
    "tags"
   ]
  },
  {
   "cell_type": "code",
   "execution_count": 12,
   "metadata": {},
   "outputs": [
    {
     "data": {
      "text/plain": [
       "[('NOUN', 27484),\n",
       " ('VERB', 12881),\n",
       " ('.', 11151),\n",
       " ('ADP', 9381),\n",
       " ('DET', 8271),\n",
       " ('X', 6290),\n",
       " ('ADJ', 6087),\n",
       " ('NUM', 3353),\n",
       " ('PRT', 3043),\n",
       " ('ADV', 3003),\n",
       " ('PRON', 2590),\n",
       " ('CONJ', 2150)]"
      ]
     },
     "execution_count": 12,
     "metadata": {},
     "output_type": "execute_result"
    }
   ],
   "source": [
    "#Most Common tags in Train Data set\n",
    "tags.most_common()"
   ]
  },
  {
   "cell_type": "markdown",
   "metadata": {},
   "source": [
    "### Emission Probabilities"
   ]
  },
  {
   "cell_type": "code",
   "execution_count": 13,
   "metadata": {},
   "outputs": [],
   "source": [
    "# computing P(w/t) and storing in T x V matrix\n",
    "t = len(T)\n",
    "v = len(V)\n",
    "w_given_t = np.zeros((t, v))"
   ]
  },
  {
   "cell_type": "code",
   "execution_count": 14,
   "metadata": {},
   "outputs": [],
   "source": [
    "# compute word given tag: Emission Probability\n",
    "def word_given_tag(word, tag, train_bag = train_tagged_words):\n",
    "    tag_list = [pair for pair in train_bag if pair[1]==tag]\n",
    "    count_tag = len(tag_list)\n",
    "    w_given_tag_list = [pair[0] for pair in tag_list if pair[0]==word]\n",
    "    count_w_given_tag = len(w_given_tag_list)\n",
    "    \n",
    "    return (count_w_given_tag, count_tag)"
   ]
  },
  {
   "cell_type": "markdown",
   "metadata": {},
   "source": [
    "### Transition Probabilities"
   ]
  },
  {
   "cell_type": "code",
   "execution_count": 15,
   "metadata": {},
   "outputs": [],
   "source": [
    "# compute tag given tag: tag2(t2) given tag1 (t1), i.e. Transition Probability\n",
    "\n",
    "def t2_given_t1(t2, t1, train_bag = train_tagged_words):\n",
    "    tags = [pair[1] for pair in train_bag]\n",
    "    count_t1 = len([t for t in tags if t==t1])\n",
    "    count_t2_t1 = 0\n",
    "    for index in range(len(tags)-1):\n",
    "        if tags[index]==t1 and tags[index+1] == t2:\n",
    "            count_t2_t1 += 1\n",
    "    return (count_t2_t1, count_t1)"
   ]
  },
  {
   "cell_type": "code",
   "execution_count": 16,
   "metadata": {},
   "outputs": [],
   "source": [
    "# creating t x t transition matrix of tags\n",
    "# each column is t2, each row is t1\n",
    "# thus M(i, j) represents P(tj given ti)\n",
    "\n",
    "tags_matrix = np.zeros((len(T), len(T)), dtype='float32')\n",
    "for i, t1 in enumerate(list(T)):\n",
    "    for j, t2 in enumerate(list(T)): \n",
    "        tags_matrix[i, j] = t2_given_t1(t2, t1)[0]/t2_given_t1(t2, t1)[1]"
   ]
  },
  {
   "cell_type": "code",
   "execution_count": 17,
   "metadata": {},
   "outputs": [],
   "source": [
    "# convert the matrix to a dataframe for better readability\n",
    "tags_df = pd.DataFrame(tags_matrix, columns = list(T), index=list(T))"
   ]
  },
  {
   "cell_type": "code",
   "execution_count": 18,
   "metadata": {},
   "outputs": [
    {
     "data": {
      "text/html": [
       "<div>\n",
       "<style scoped>\n",
       "    .dataframe tbody tr th:only-of-type {\n",
       "        vertical-align: middle;\n",
       "    }\n",
       "\n",
       "    .dataframe tbody tr th {\n",
       "        vertical-align: top;\n",
       "    }\n",
       "\n",
       "    .dataframe thead th {\n",
       "        text-align: right;\n",
       "    }\n",
       "</style>\n",
       "<table border=\"1\" class=\"dataframe\">\n",
       "  <thead>\n",
       "    <tr style=\"text-align: right;\">\n",
       "      <th></th>\n",
       "      <th>ADP</th>\n",
       "      <th>NUM</th>\n",
       "      <th>VERB</th>\n",
       "      <th>.</th>\n",
       "      <th>PRON</th>\n",
       "      <th>ADV</th>\n",
       "      <th>X</th>\n",
       "      <th>DET</th>\n",
       "      <th>CONJ</th>\n",
       "      <th>ADJ</th>\n",
       "      <th>NOUN</th>\n",
       "      <th>PRT</th>\n",
       "    </tr>\n",
       "  </thead>\n",
       "  <tbody>\n",
       "    <tr>\n",
       "      <th>ADP</th>\n",
       "      <td>0.017269</td>\n",
       "      <td>0.062680</td>\n",
       "      <td>0.008208</td>\n",
       "      <td>0.039548</td>\n",
       "      <td>0.068649</td>\n",
       "      <td>0.013431</td>\n",
       "      <td>0.035071</td>\n",
       "      <td>0.323846</td>\n",
       "      <td>0.000853</td>\n",
       "      <td>0.106598</td>\n",
       "      <td>0.322354</td>\n",
       "      <td>0.001492</td>\n",
       "    </tr>\n",
       "    <tr>\n",
       "      <th>NUM</th>\n",
       "      <td>0.034596</td>\n",
       "      <td>0.185506</td>\n",
       "      <td>0.017894</td>\n",
       "      <td>0.117507</td>\n",
       "      <td>0.001491</td>\n",
       "      <td>0.002982</td>\n",
       "      <td>0.210259</td>\n",
       "      <td>0.003579</td>\n",
       "      <td>0.012824</td>\n",
       "      <td>0.034298</td>\n",
       "      <td>0.350731</td>\n",
       "      <td>0.028333</td>\n",
       "    </tr>\n",
       "    <tr>\n",
       "      <th>VERB</th>\n",
       "      <td>0.091685</td>\n",
       "      <td>0.022436</td>\n",
       "      <td>0.169242</td>\n",
       "      <td>0.035168</td>\n",
       "      <td>0.035401</td>\n",
       "      <td>0.081127</td>\n",
       "      <td>0.219082</td>\n",
       "      <td>0.133375</td>\n",
       "      <td>0.005357</td>\n",
       "      <td>0.064979</td>\n",
       "      <td>0.111016</td>\n",
       "      <td>0.031131</td>\n",
       "    </tr>\n",
       "    <tr>\n",
       "      <th>.</th>\n",
       "      <td>0.090934</td>\n",
       "      <td>0.080710</td>\n",
       "      <td>0.089050</td>\n",
       "      <td>0.092368</td>\n",
       "      <td>0.064748</td>\n",
       "      <td>0.052462</td>\n",
       "      <td>0.027621</td>\n",
       "      <td>0.173258</td>\n",
       "      <td>0.058649</td>\n",
       "      <td>0.044480</td>\n",
       "      <td>0.223298</td>\n",
       "      <td>0.002332</td>\n",
       "    </tr>\n",
       "    <tr>\n",
       "      <th>PRON</th>\n",
       "      <td>0.022394</td>\n",
       "      <td>0.007336</td>\n",
       "      <td>0.484170</td>\n",
       "      <td>0.040154</td>\n",
       "      <td>0.008108</td>\n",
       "      <td>0.033591</td>\n",
       "      <td>0.093436</td>\n",
       "      <td>0.010039</td>\n",
       "      <td>0.005019</td>\n",
       "      <td>0.075676</td>\n",
       "      <td>0.208108</td>\n",
       "      <td>0.011969</td>\n",
       "    </tr>\n",
       "    <tr>\n",
       "      <th>ADV</th>\n",
       "      <td>0.118548</td>\n",
       "      <td>0.031302</td>\n",
       "      <td>0.342657</td>\n",
       "      <td>0.137862</td>\n",
       "      <td>0.015318</td>\n",
       "      <td>0.079920</td>\n",
       "      <td>0.023976</td>\n",
       "      <td>0.069264</td>\n",
       "      <td>0.007326</td>\n",
       "      <td>0.127872</td>\n",
       "      <td>0.031635</td>\n",
       "      <td>0.014319</td>\n",
       "    </tr>\n",
       "    <tr>\n",
       "      <th>X</th>\n",
       "      <td>0.143084</td>\n",
       "      <td>0.002862</td>\n",
       "      <td>0.205087</td>\n",
       "      <td>0.163275</td>\n",
       "      <td>0.055644</td>\n",
       "      <td>0.025596</td>\n",
       "      <td>0.074563</td>\n",
       "      <td>0.054372</td>\n",
       "      <td>0.010652</td>\n",
       "      <td>0.017329</td>\n",
       "      <td>0.063752</td>\n",
       "      <td>0.183784</td>\n",
       "    </tr>\n",
       "    <tr>\n",
       "      <th>DET</th>\n",
       "      <td>0.009551</td>\n",
       "      <td>0.021884</td>\n",
       "      <td>0.039173</td>\n",
       "      <td>0.018015</td>\n",
       "      <td>0.003385</td>\n",
       "      <td>0.012937</td>\n",
       "      <td>0.045460</td>\n",
       "      <td>0.005562</td>\n",
       "      <td>0.000605</td>\n",
       "      <td>0.205537</td>\n",
       "      <td>0.637650</td>\n",
       "      <td>0.000242</td>\n",
       "    </tr>\n",
       "    <tr>\n",
       "      <th>CONJ</th>\n",
       "      <td>0.054419</td>\n",
       "      <td>0.041395</td>\n",
       "      <td>0.156279</td>\n",
       "      <td>0.034419</td>\n",
       "      <td>0.059535</td>\n",
       "      <td>0.055814</td>\n",
       "      <td>0.008372</td>\n",
       "      <td>0.117674</td>\n",
       "      <td>0.000465</td>\n",
       "      <td>0.118140</td>\n",
       "      <td>0.348837</td>\n",
       "      <td>0.004651</td>\n",
       "    </tr>\n",
       "    <tr>\n",
       "      <th>ADJ</th>\n",
       "      <td>0.077542</td>\n",
       "      <td>0.019878</td>\n",
       "      <td>0.012157</td>\n",
       "      <td>0.065878</td>\n",
       "      <td>0.000657</td>\n",
       "      <td>0.004600</td>\n",
       "      <td>0.020043</td>\n",
       "      <td>0.005093</td>\n",
       "      <td>0.016757</td>\n",
       "      <td>0.066535</td>\n",
       "      <td>0.700674</td>\n",
       "      <td>0.010186</td>\n",
       "    </tr>\n",
       "    <tr>\n",
       "      <th>NOUN</th>\n",
       "      <td>0.176903</td>\n",
       "      <td>0.009351</td>\n",
       "      <td>0.147067</td>\n",
       "      <td>0.240358</td>\n",
       "      <td>0.004876</td>\n",
       "      <td>0.016810</td>\n",
       "      <td>0.028598</td>\n",
       "      <td>0.013099</td>\n",
       "      <td>0.042206</td>\n",
       "      <td>0.012007</td>\n",
       "      <td>0.265172</td>\n",
       "      <td>0.043553</td>\n",
       "    </tr>\n",
       "    <tr>\n",
       "      <th>PRT</th>\n",
       "      <td>0.021032</td>\n",
       "      <td>0.057509</td>\n",
       "      <td>0.401577</td>\n",
       "      <td>0.042064</td>\n",
       "      <td>0.017088</td>\n",
       "      <td>0.010516</td>\n",
       "      <td>0.013474</td>\n",
       "      <td>0.100230</td>\n",
       "      <td>0.001972</td>\n",
       "      <td>0.085771</td>\n",
       "      <td>0.246796</td>\n",
       "      <td>0.001972</td>\n",
       "    </tr>\n",
       "  </tbody>\n",
       "</table>\n",
       "</div>"
      ],
      "text/plain": [
       "           ADP       NUM      VERB         .      PRON       ADV         X  \\\n",
       "ADP   0.017269  0.062680  0.008208  0.039548  0.068649  0.013431  0.035071   \n",
       "NUM   0.034596  0.185506  0.017894  0.117507  0.001491  0.002982  0.210259   \n",
       "VERB  0.091685  0.022436  0.169242  0.035168  0.035401  0.081127  0.219082   \n",
       ".     0.090934  0.080710  0.089050  0.092368  0.064748  0.052462  0.027621   \n",
       "PRON  0.022394  0.007336  0.484170  0.040154  0.008108  0.033591  0.093436   \n",
       "ADV   0.118548  0.031302  0.342657  0.137862  0.015318  0.079920  0.023976   \n",
       "X     0.143084  0.002862  0.205087  0.163275  0.055644  0.025596  0.074563   \n",
       "DET   0.009551  0.021884  0.039173  0.018015  0.003385  0.012937  0.045460   \n",
       "CONJ  0.054419  0.041395  0.156279  0.034419  0.059535  0.055814  0.008372   \n",
       "ADJ   0.077542  0.019878  0.012157  0.065878  0.000657  0.004600  0.020043   \n",
       "NOUN  0.176903  0.009351  0.147067  0.240358  0.004876  0.016810  0.028598   \n",
       "PRT   0.021032  0.057509  0.401577  0.042064  0.017088  0.010516  0.013474   \n",
       "\n",
       "           DET      CONJ       ADJ      NOUN       PRT  \n",
       "ADP   0.323846  0.000853  0.106598  0.322354  0.001492  \n",
       "NUM   0.003579  0.012824  0.034298  0.350731  0.028333  \n",
       "VERB  0.133375  0.005357  0.064979  0.111016  0.031131  \n",
       ".     0.173258  0.058649  0.044480  0.223298  0.002332  \n",
       "PRON  0.010039  0.005019  0.075676  0.208108  0.011969  \n",
       "ADV   0.069264  0.007326  0.127872  0.031635  0.014319  \n",
       "X     0.054372  0.010652  0.017329  0.063752  0.183784  \n",
       "DET   0.005562  0.000605  0.205537  0.637650  0.000242  \n",
       "CONJ  0.117674  0.000465  0.118140  0.348837  0.004651  \n",
       "ADJ   0.005093  0.016757  0.066535  0.700674  0.010186  \n",
       "NOUN  0.013099  0.042206  0.012007  0.265172  0.043553  \n",
       "PRT   0.100230  0.001972  0.085771  0.246796  0.001972  "
      ]
     },
     "execution_count": 18,
     "metadata": {},
     "output_type": "execute_result"
    }
   ],
   "source": [
    "tags_df #Check the dataframe"
   ]
  },
  {
   "cell_type": "code",
   "execution_count": 19,
   "metadata": {},
   "outputs": [
    {
     "data": {
      "image/png": "[encoded data removed]",
      "text/plain": [
       "<Figure size 1008x576 with 2 Axes>"
      ]
     },
     "metadata": {
      "needs_background": "light"
     },
     "output_type": "display_data"
    }
   ],
   "source": [
    "# heatmap of tags matrix\n",
    "# T(i, j) means P(tag j given tag i)\n",
    "plt.figure(figsize=(14, 8))\n",
    "sns.heatmap(tags_df, annot = True)\n",
    "plt.show()"
   ]
  },
  {
   "cell_type": "markdown",
   "metadata": {},
   "source": [
    "The heatmap shows the ADJECTIVE is followed by NOUN most of the times in training corpus. Also DET is followed by NOUN a lot. "
   ]
  },
  {
   "cell_type": "markdown",
   "metadata": {},
   "source": [
    "### Build the Vanilla Viterbi based POS tagger"
   ]
  },
  {
   "cell_type": "code",
   "execution_count": 20,
   "metadata": {},
   "outputs": [],
   "source": [
    "# Vanilla Viterbi Heuristic\n",
    "def Viterbi(words, train_bag = train_tagged_words):\n",
    "    state = []\n",
    "    T = list(set([pair[1] for pair in train_bag]))\n",
    "    \n",
    "    for key, word in enumerate(words):\n",
    "        #initialise list of probability column for a given observation\n",
    "        p = [] \n",
    "        for tag in T:\n",
    "            if key == 0:\n",
    "                transition_p = tags_df.loc['.', tag]\n",
    "            else:\n",
    "                transition_p = tags_df.loc[state[-1], tag]\n",
    "                \n",
    "            # compute emission and state probabilities\n",
    "            emission_p = word_given_tag(words[key], tag)[0]/word_given_tag(words[key], tag)[1]\n",
    "            state_probability = emission_p * transition_p    \n",
    "            p.append(state_probability)\n",
    "            \n",
    "        pmax = max(p)\n",
    "        # getting state for which probability is maximum\n",
    "        state_max = T[p.index(pmax)] \n",
    "        state.append(state_max)\n",
    "    return list(zip(words, state))"
   ]
  },
  {
   "cell_type": "markdown",
   "metadata": {},
   "source": [
    "### Evaluating on Test Set"
   ]
  },
  {
   "cell_type": "code",
   "execution_count": 21,
   "metadata": {},
   "outputs": [],
   "source": [
    "# Let's test our Viterbi algorithm on a few sample sentences of test dataset\n",
    "\n",
    "random.seed(1234)\n",
    "\n",
    "# list of sents\n",
    "test_run = test_set\n",
    "\n",
    "# list of tagged words\n",
    "test_run_base = [tup for sent in test_run for tup in sent]\n",
    "\n",
    "# list of untagged words\n",
    "test_tagged_words = [tup[0] for sent in test_run for tup in sent]\n"
   ]
  },
  {
   "cell_type": "code",
   "execution_count": 22,
   "metadata": {},
   "outputs": [],
   "source": [
    "# tagging the test sentences\n",
    "start = time.time()\n",
    "tagged_seq = Viterbi(test_tagged_words)\n",
    "end = time.time()\n",
    "difference = end-start"
   ]
  },
  {
   "cell_type": "code",
   "execution_count": 23,
   "metadata": {},
   "outputs": [
    {
     "name": "stdout",
     "output_type": "stream",
     "text": [
      "Time taken in seconds:  787.2420692443848\n",
      "[('Interpublic', 'NOUN'), ('is', 'VERB'), ('providing', 'VERB'), ('the', 'DET'), ('programming', 'NOUN'), ('in', 'ADP'), ('return', 'NOUN'), ('for', 'ADP'), ('advertising', 'NOUN'), ('time', 'NOUN'), (',', '.'), ('which', 'DET'), ('it', 'PRON'), ('said', 'VERB'), ('0', 'X'), ('*T*-1', 'X'), ('will', 'VERB'), ('be', 'VERB'), ('valued', 'VERB'), ('*-85', 'X'), ('at', 'ADP'), ('more', 'ADJ'), ('than', 'ADP'), ('$', '.'), ('75', 'NUM'), ('million', 'NUM'), ('*U*', 'X'), ('in', 'ADP'), ('1990', 'NUM'), ('and', 'CONJ'), ('$', '.'), ('150', 'NUM'), ('million', 'NUM'), ('*U*', 'X'), ('in', 'ADP'), ('1991', 'NUM'), ('.', '.'), ('``', '.'), ('*', 'X'), ('Just', 'ADV'), ('to', 'PRT'), ('say', 'VERB'), ('0', 'X'), ('the', 'DET'), ('distribution', 'NOUN'), ('system', 'NOUN'), ('is', 'VERB'), ('wrong', 'ADJ'), ('does', 'VERB'), (\"n't\", 'ADV'), ('mean', 'VERB'), ('anything', 'NOUN'), (',', '.'), (\"''\", '.'), ('says', 'VERB'), ('*T*-1', 'X'), ('a', 'DET'), ('Ministry', 'NOUN'), ('of', 'ADP'), ('International', 'NOUN'), ('Trade', 'NOUN'), ('and', 'CONJ'), ('Industry', 'NOUN'), ('official', 'NOUN'), ('.', '.'), ('The', 'DET'), ('House', 'NOUN'), ('voted', 'VERB'), ('*-1', 'X'), ('to', 'PRT'), ('boost', 'VERB'), ('the', 'DET'), ('federal', 'ADJ'), ('minimum', 'ADJ'), ('wage', 'NOUN'), ('for', 'ADP'), ('the', 'DET'), ('first', 'ADJ'), ('time', 'NOUN'), ('since', 'ADP'), ('early', 'ADJ'), ('1981', 'NUM'), (',', '.'), ('*-1', 'X'), ('casting', 'ADP'), ('a', 'DET'), ('solid', 'ADJ'), ('382-37', 'ADP'), ('vote', 'NOUN'), ('for', 'ADP'), ('a', 'DET'), ('compromise', 'NOUN'), ('measure', 'NOUN'), ('backed', 'VERB'), ('*', 'X'), ('by', 'ADP'), ('President', 'NOUN'), ('Bush', 'NOUN'), ('.', '.'), ('A', 'DET'), ('USX', 'NOUN'), ('spokesman', 'NOUN'), ('said', 'VERB'), ('0', 'X'), ('the', 'DET'), ('company', 'NOUN'), ('had', 'VERB'), (\"n't\", 'ADV'), ('yet', 'ADV'), ('received', 'VERB'), ('any', 'DET'), ('documents', 'NOUN'), ('*ICH*-1', 'X'), ('from', 'ADP'), ('OSHA', 'NOUN'), ('regarding', 'VERB'), ('the', 'DET'), ('penalty', 'NOUN'), ('or', 'CONJ'), ('fine', 'NOUN'), ('.', '.'), ('Wall', 'NOUN'), ('Street', 'NOUN'), (\"'s\", 'PRT'), ('big', 'ADJ'), ('securities', 'NOUN'), ('firms', 'NOUN'), ('face', 'VERB'), ('the', 'DET'), ('prospect', 'NOUN'), ('of', 'ADP'), ('*', 'X'), ('having', 'VERB'), ('their', 'PRON'), ('credit', 'NOUN'), ('ratings', 'NOUN'), ('lowered', 'VERB'), ('.', '.'), ('``', '.'), ('These', 'DET'), ('kids', 'NOUN'), ('broke', 'ADP'), ('my', 'PRON'), ('heart', 'NOUN'), (',', '.'), (\"''\", '.'), ('she', 'PRON'), ('says', 'VERB'), ('*T*-1', 'X'), ('.', '.'), ('The', 'DET'), ('analyst', 'NOUN'), ('noted', 'VERB'), ('that', 'ADP'), ('also', 'ADV'), ('inherent', 'ADP'), ('in', 'ADP'), ('all', 'DET'), ('metal', 'NOUN'), ('markets', 'NOUN'), ('was', 'VERB'), ('*T*-1', 'X'), ('a', 'DET'), ('sympathetic', 'ADJ'), ('reaction', 'NOUN'), ('to', 'PRT'), ('stocks', 'NOUN'), ('.', '.'), ('Earnings', 'NOUN'), ('at', 'ADP'), ('Xerox', 'NOUN'), (\"'s\", 'PRT'), ('financial-services', 'NOUN'), ('operations', 'NOUN'), ('actually', 'ADV'), ('rose', 'VERB'), ('slightly', 'ADV'), (',', '.'), ('but', 'CONJ'), ('that', 'DET'), ('was', 'VERB'), ('largely', 'ADV'), ('because', 'ADP'), ('capital', 'NOUN'), ('gains', 'NOUN'), ('at', 'ADP'), ('Crum', 'NOUN'), ('&', 'CONJ'), ('Forster', 'NOUN'), ('offset', 'VERB'), ('Hurricane', 'NOUN'), ('Hugo', 'NOUN'), ('payments', 'NOUN'), ('and', 'CONJ'), ('the', 'DET'), ('reserves', 'NOUN'), ('set', 'VERB'), ('up', 'ADV'), ('*', 'X'), ('*', 'X'), ('to', 'PRT'), ('cover', 'VERB'), ('future', 'ADJ'), ('payments', 'NOUN'), ('.', '.'), ('``', '.'), ('Little', 'NOUN'), ('by', 'ADP'), ('little', 'ADJ'), (',', '.'), ('there', 'DET'), ('is', 'VERB'), ('progress', 'NOUN'), (',', '.'), (\"''\", '.'), ('says', 'VERB'), ('*T*-1', 'X'), ('the', 'DET'), ('MITI', 'NOUN'), ('official', 'NOUN'), ('.', '.'), ('Steve', 'ADP'), ('Martin', 'NOUN'), ('has', 'VERB'), ('already', 'ADV'), ('laid', 'ADP'), ('his', 'PRON'), ('claim', 'VERB'), ('to', 'PRT'), ('that', 'DET'), ('.', '.'), ('The', 'DET'), ('insurance', 'NOUN'), ('and', 'CONJ'), ('financial', 'ADJ'), ('services', 'NOUN'), ('concern', 'NOUN'), ('said', 'VERB'), ('0', 'X'), ('profit', 'NOUN'), ('for', 'ADP'), ('the', 'DET'), ('quarter', 'NOUN'), ('rose', 'VERB'), ('1.1', 'NUM'), ('%', 'NOUN'), ('to', 'PRT'), ('$', '.'), ('93.9', 'ADP'), ('million', 'NUM'), ('*U*', 'X'), (',', '.'), ('or', 'CONJ'), ('$', '.'), ('1.19', 'ADP'), ('*U*', 'X'), ('a', 'DET'), ('share', 'NOUN'), (',', '.'), ('compared', 'VERB'), ('with', 'ADP'), ('$', '.'), ('92.9', 'ADP'), ('million', 'NUM'), ('*U*', 'X'), (',', '.'), ('or', 'CONJ'), ('$', '.'), ('1.18', 'ADP'), ('*U*', 'X'), ('a', 'DET'), ('share', 'NOUN'), (',', '.'), ('the', 'DET'), ('year', 'NOUN'), ('earlier', 'ADV'), ('.', '.'), ('Speculation', 'NOUN'), ('about', 'ADP'), ('Coniston', 'NOUN'), ('has', 'VERB'), ('caused', 'VERB'), ('the', 'DET'), ('stock', 'NOUN'), ('to', 'PRT'), ('rebound', 'NOUN'), ('from', 'ADP'), ('a', 'DET'), ('low', 'ADJ'), ('of', 'ADP'), ('$', '.'), ('145', 'NUM'), ('*U*', 'X'), ('.', '.'), ('It', 'PRON'), (\"'s\", 'VERB'), ('not', 'ADV'), ('a', 'DET'), ('sound', 'NOUN'), ('thing', 'NOUN'), (';', '.'), ('there', 'DET'), (\"'s\", 'VERB'), ('no', 'DET'), ('inherent', 'ADP'), ('virtue', 'ADP'), ('in', 'ADP'), ('it', 'PRON'), ('.', '.'), (\"''\", '.'), ('In', 'ADP'), ('heavy', 'ADJ'), ('trading', 'NOUN'), ('on', 'ADP'), ('the', 'DET'), ('New', 'NOUN'), ('York', 'NOUN'), ('Stock', 'NOUN'), ('Exchange', 'NOUN'), (',', '.'), ('Campbell', 'NOUN'), (\"'s\", 'PRT'), ('shares', 'NOUN'), ('rose', 'VERB'), ('$', '.'), ('3.375', 'NUM'), ('*U*', 'X'), ('*', 'X'), ('to', 'PRT'), ('close', 'VERB'), ('at', 'ADP'), ('$', '.'), ('47.125', 'NUM'), ('*U*', 'X'), ('.', '.'), ('Third', 'ADP'), ('quarter', 'NOUN'), (',', '.'), ('Sept.', 'NOUN'), ('30', 'NUM'), (',', '.'), ('1989', 'NUM'), (':', '.'), ('Net', 'ADJ'), ('loss', 'NOUN'), (':', '.'), ('$', '.'), ('11.57', 'ADP'), ('*U*', 'X'), ('a', 'DET'), ('share', 'NOUN'), ('vs.', 'ADP'), ('net', 'ADJ'), ('income', 'NOUN'), (':', '.'), ('37', 'NUM'), ('cents', 'NOUN'), ('a', 'DET'), ('share', 'NOUN'), ('``', '.'), ('All', 'DET'), ('of', 'ADP'), ('these', 'DET'), ('forces', 'NOUN'), ('came', 'VERB'), ('together', 'ADV'), ('in', 'ADP'), ('1988', 'NUM'), ('*', 'X'), ('to', 'PRT'), ('benefit', 'VERB'), ('agriculture', 'ADP'), (',', '.'), (\"''\", '.'), ('Mr.', 'NOUN'), ('Collins', 'NOUN'), ('said', 'VERB'), ('*T*-1', 'X'), ('.', '.'), ('However', 'ADV'), (',', '.'), ('none', 'NOUN'), ('of', 'ADP'), ('the', 'DET'), ('big', 'ADJ'), ('three', 'NUM'), ('weeklies', 'NOUN'), ('recorded', 'VERB'), ('circulation', 'NOUN'), ('gains', 'NOUN'), ('recently', 'ADV'), ('.', '.'), ('That', 'DET'), (\"'s\", 'VERB'), ('why', 'ADV'), ('Columbia', 'NOUN'), ('just', 'ADV'), ('wrote', 'VERB'), ('off', 'PRT'), ('$', '.'), ('130', 'NUM'), ('million', 'NUM'), ('*U*', 'X'), ('of', 'ADP'), ('its', 'PRON'), ('junk', 'NOUN'), ('and', 'CONJ'), ('reserved', 'ADP'), ('$', '.'), ('227', 'ADP'), ('million', 'NUM'), ('*U*', 'X'), ('for', 'ADP'), ('future', 'ADJ'), ('junk', 'NOUN'), ('losses', 'NOUN'), ('*T*-1', 'X'), ('.', '.'), ('Experts', 'ADP'), ('say', 'VERB'), ('0', 'X'), ('there', 'DET'), ('is', 'VERB'), (\"n't\", 'ADV'), ('another', 'DET'), ('state', 'NOUN'), ('in', 'ADP'), ('the', 'DET'), ('country', 'NOUN'), ('where', 'ADV'), ('tests', 'NOUN'), ('mean', 'VERB'), ('as', 'ADP'), ('much', 'ADJ'), ('as', 'ADP'), ('they', 'PRON'), ('do', 'VERB'), ('*?*', 'X'), ('in', 'ADP'), ('South', 'NOUN'), ('Carolina', 'NOUN'), ('*T*-1', 'X'), ('.', '.'), ('Leighton', 'ADP'), ('E.', 'NOUN'), ('Cluff', 'ADP'), ('M.D.', 'NOUN'), ('President', 'NOUN'), ('Robert', 'NOUN'), ('Wood', 'NOUN'), ('Johnson', 'NOUN'), ('Foundation', 'NOUN'), ('Princeton', 'NOUN'), (',', '.'), ('N.J', 'NOUN'), ('.', '.'), ('When', 'ADV'), ('Scoring', 'NOUN'), ('High', 'NOUN'), ('first', 'ADJ'), ('came', 'VERB'), ('out', 'PRT'), ('in', 'ADP'), ('1979', 'NUM'), ('*T*-1', 'X'), (',', '.'), ('it', 'PRON'), ('was', 'VERB'), ('a', 'DET'), ('publication', 'ADP'), ('of', 'ADP'), ('Random', 'NOUN'), ('House', 'NOUN'), ('.', '.'), ('It', 'PRON'), ('also', 'ADV'), ('helps', 'ADP'), ('*-2', 'X'), ('explain', 'VERB'), ('the', 'DET'), ('reluctance', 'ADP'), ('*ICH*-1', 'X'), ('of', 'ADP'), ('the', 'DET'), ('major', 'ADJ'), ('farm', 'NOUN'), ('lobbies', 'ADP'), ('and', 'CONJ'), ('many', 'ADJ'), ('lawmakers', 'NOUN'), ('*', 'X'), ('to', 'PRT'), ('make', 'VERB'), ('any', 'DET'), ('significant', 'ADJ'), ('changes', 'NOUN'), ('in', 'ADP'), ('the', 'DET'), ('1985', 'NUM'), ('farm', 'NOUN'), ('program', 'NOUN'), ('next', 'ADP'), ('year', 'NOUN'), ('.', '.'), ('Mr.', 'NOUN'), ('Watson', 'NOUN'), ('says', 'VERB'), ('0', 'X'), ('Mrs.', 'NOUN'), ('Yeargin', 'NOUN'), ('never', 'ADV'), ('complained', 'VERB'), ('to', 'PRT'), ('school', 'NOUN'), ('officials', 'NOUN'), ('that', 'ADP'), ('the', 'DET'), ('standardized', 'ADJ'), ('test', 'NOUN'), ('was', 'VERB'), ('unfair', 'ADJ'), ('.', '.'), ('Outside', 'ADP'), (',', '.'), ('a', 'DET'), ('young', 'ADJ'), ('pressman', 'ADP'), ('filling', 'NOUN'), ('a', 'DET'), ('news', 'NOUN'), ('box', 'NOUN'), ('with', 'ADP'), ('an', 'DET'), ('extra', 'ADJ'), ('edition', 'NOUN'), ('headlined', 'ADP'), ('*', 'X'), ('``', '.'), ('Herald', 'NOUN'), ('Examiner', 'NOUN'), ('Closes', 'ADP'), (\"''\", '.'), ('refused', 'VERB'), ('*-1', 'X'), ('to', 'PRT'), ('take', 'VERB'), ('a', 'DET'), ('reader', 'NOUN'), (\"'s\", 'PRT'), ('quarter', 'NOUN'), ('.', '.'), ('Mr.', 'NOUN'), ('Bernstein', 'NOUN'), (',', '.'), ('who', 'PRON'), ('*T*-37', 'X'), ('succeeded', 'VERB'), ('Bennett', 'ADP'), ('Cerf', 'ADP'), (',', '.'), ('has', 'VERB'), ('been', 'VERB'), ('only', 'ADV'), ('the', 'DET'), ('second', 'ADJ'), ('president', 'NOUN'), ('of', 'ADP'), ('Random', 'NOUN'), ('House', 'NOUN'), ('since', 'ADP'), ('it', 'PRON'), ('was', 'VERB'), ('founded', 'VERB'), ('*-45', 'ADP'), ('in', 'ADP'), ('1925', 'ADP'), ('.', '.'), ('Mr.', 'NOUN'), ('Rosenblum', 'NOUN'), (',', '.'), ('who', 'PRON'), ('*T*-250', 'ADP'), ('apparently', 'ADV'), ('has', 'VERB'), ('an', 'DET'), ('unpublished', 'ADJ'), ('phone', 'NOUN'), ('number', 'NOUN'), (',', '.'), ('also', 'ADV'), ('could', 'VERB'), (\"n't\", 'ADV'), ('be', 'VERB'), ('reached', 'VERB'), ('*-156', 'ADP'), ('.', '.'), ('We', 'PRON'), ('can', 'VERB'), ('understand', 'VERB'), ('and', 'CONJ'), ('share', 'NOUN'), ('the', 'DET'), ('compassion', 'ADP'), ('that', 'DET'), ('*T*-2', 'X'), ('makes', 'VERB'), ('judges', 'NOUN'), ('sometimes', 'ADV'), ('wish', 'VERB'), ('*-3', 'X'), ('to', 'PRT'), ('offer', 'NOUN'), ('a', 'DET'), ('kind', 'NOUN'), ('of', 'ADP'), ('Solomonic', 'ADP'), ('aid', 'NOUN'), ('to', 'PRT'), ('those', 'DET'), ('who', 'PRON'), ('*T*-4', 'X'), (\"'ve\", 'VERB'), ('been', 'VERB'), ('hurt', 'VERB'), ('*-1', 'X'), ('.', '.'), ('Payouts', 'ADP'), ('on', 'ADP'), ('the', 'DET'), ('S&P', 'NOUN'), ('500', 'NUM'), ('stocks', 'NOUN'), ('rose', 'VERB'), ('10', 'NUM'), ('%', 'NOUN'), ('in', 'ADP'), ('1988', 'NUM'), (',', '.'), ('according', 'VERB'), ('to', 'PRT'), ('Standard', 'NOUN'), ('&', 'CONJ'), ('Poor', 'NOUN'), (\"'s\", 'PRT'), ('Corp.', 'NOUN'), (',', '.'), ('and', 'CONJ'), ('Wall', 'NOUN'), ('Street', 'NOUN'), ('estimates', 'NOUN'), ('for', 'ADP'), ('1989', 'NUM'), ('growth', 'NOUN'), ('are', 'VERB'), ('generally', 'ADV'), ('between', 'ADP'), ('9', 'NUM'), ('%', 'NOUN'), ('and', 'CONJ'), ('14', 'NUM'), ('%', 'NOUN'), ('*U*', 'X'), ('.', '.'), ('The', 'DET'), ('Constitution', 'NOUN'), ('does', 'VERB'), ('not', 'ADV'), ('expressly', 'ADP'), ('give', 'VERB'), ('the', 'DET'), ('president', 'NOUN'), ('such', 'ADJ'), ('power', 'NOUN'), ('.', '.'), ('But', 'CONJ'), ('to', 'PRT'), ('Moon', 'ADP'), ('Landrieu', 'ADP'), (',', '.'), ('the', 'DET'), ('former', 'ADJ'), ('New', 'NOUN'), ('Orleans', 'NOUN'), ('mayor', 'NOUN'), ('who', 'PRON'), ('*T*-1', 'X'), ('helped', 'VERB'), ('*-3', 'X'), ('build', 'VERB'), ('that', 'ADP'), ('city', 'NOUN'), (\"'s\", 'PRT'), ('cavernous', 'ADP'), (',', '.'), ('money-losing', 'ADP'), ('Superdome', 'NOUN'), (',', '.'), ('questions', 'NOUN'), ('of', 'ADP'), ('who', 'PRON'), ('*T*-2', 'X'), ('benefits', 'NOUN'), ('or', 'CONJ'), ('the', 'DET'), ('bottom', 'NOUN'), ('line', 'NOUN'), ('are', 'VERB'), ('of', 'ADP'), ('little', 'ADJ'), ('relevance', 'ADP'), ('.', '.'), ('Also', 'ADV'), (',', '.'), ('Mr.', 'NOUN'), ('Otero', 'NOUN'), ('was', 'VERB'), ('barred', 'VERB'), ('*-154', 'ADP'), ('from', 'ADP'), ('association', 'NOUN'), ('with', 'ADP'), ('any', 'DET'), ('NASD', 'NOUN'), ('member', 'NOUN'), ('.', '.'), ('Sales', 'NOUN'), ('fell', 'VERB'), ('20', 'NUM'), ('%', 'NOUN'), ('to', 'PRT'), ('#', '.'), ('722', 'ADP'), ('million', 'NUM'), ('*U*', 'X'), ('.', '.'), ('In', 'ADP'), ('late', 'ADJ'), ('New', 'NOUN'), ('York', 'NOUN'), ('trading', 'NOUN'), ('yesterday', 'NOUN'), (',', '.'), ('the', 'DET'), ('dollar', 'NOUN'), ('was', 'VERB'), ('quoted', 'VERB'), ('*-1', 'X'), ('at', 'ADP'), ('1.8500', 'NUM'), ('marks', 'NOUN'), (',', '.'), ('up', 'ADV'), ('from', 'ADP'), ('1.8415', 'NUM'), ('marks', 'NOUN'), ('late', 'ADJ'), ('Tuesday', 'NOUN'), (',', '.'), ('and', 'CONJ'), ('at', 'ADP'), ('143.80', 'NUM'), ('yen', 'NOUN'), (',', '.'), ('up', 'ADV'), ('from', 'ADP'), ('142.85', 'NUM'), ('yen', 'NOUN'), ('late', 'ADJ'), ('Tuesday', 'NOUN'), ('.', '.'), ('The', 'DET'), ('firm', 'NOUN'), ('and', 'CONJ'), ('Mr.', 'NOUN'), ('Whelen', 'NOUN'), ('allegedly', 'ADV'), ('sold', 'VERB'), ('securities', 'NOUN'), ('to', 'PRT'), ('the', 'DET'), ('public', 'ADJ'), ('at', 'ADP'), ('unfair', 'ADJ'), ('prices', 'NOUN'), (',', '.'), ('among', 'ADP'), ('other', 'ADJ'), ('alleged', 'ADJ'), ('violations', 'NOUN'), ('.', '.'), ('It', 'PRON'), ('*EXP*-1', 'X'), ('is', 'VERB'), ('not', 'ADV'), ('unethical', 'ADP'), ('*', 'X'), ('to', 'PRT'), ('choose', 'VERB'), ('a', 'DET'), ('higher-salaried', 'ADP'), ('job', 'NOUN'), ('.', '.'), ('France', 'NOUN'), ('can', 'VERB'), ('boast', 'ADP'), ('the', 'DET'), ('lion', 'ADP'), (\"'s\", 'PRT'), ('share', 'NOUN'), ('of', 'ADP'), ('high-priced', 'ADJ'), ('bottles', 'ADP'), ('.', '.'), ('According', 'VERB'), ('to', 'PRT'), ('Upjohn', 'NOUN'), (\"'s\", 'PRT'), ('estimates', 'VERB'), (',', '.'), ('only', 'ADV'), ('50', 'NUM'), ('%', 'NOUN'), ('to', 'PRT'), ('60', 'NUM'), ('%', 'NOUN'), ('*U*', 'X'), ('of', 'ADP'), ('the', 'DET'), ('1,100', 'NUM'), ('eligible', 'ADJ'), ('employees', 'NOUN'), ('will', 'VERB'), ('take', 'VERB'), ('advantage', 'NOUN'), ('of', 'ADP'), ('the', 'DET'), ('plan', 'NOUN'), ('.', '.'), ('To', 'PRT'), ('that', 'DET'), ('end', 'NOUN'), (',', '.'), ('American', 'NOUN'), ('Express', 'NOUN'), ('has', 'VERB'), ('been', 'VERB'), ('signing', 'VERB'), ('up', 'ADV'), ('gasoline', 'NOUN'), ('companies', 'NOUN'), (',', '.'), ('car', 'NOUN'), ('repair', 'NOUN'), ('shops', 'NOUN'), (',', '.'), ('tire', 'NOUN'), ('companies', 'NOUN'), ('and', 'CONJ'), ('car', 'NOUN'), ('dealers', 'NOUN'), ('*-1', 'X'), ('to', 'PRT'), ('accept', 'VERB'), ('the', 'DET'), ('card', 'NOUN'), ('.', '.'), ('In', 'ADP'), ('electronics', 'NOUN'), (',', '.'), ('for', 'ADP'), ('example', 'NOUN'), (',', '.'), ('a', 'DET'), ('Japanese', 'ADJ'), ('company', 'NOUN'), ('might', 'VERB'), ('make', 'VERB'), ('television', 'NOUN'), ('picture', 'NOUN'), ('tubes', 'ADP'), ('in', 'ADP'), ('Japan', 'NOUN'), (',', '.'), ('assemble', 'ADP'), ('the', 'DET'), ('sets', 'NOUN'), ('in', 'ADP'), ('Malaysia', 'NOUN'), ('and', 'CONJ'), ('export', 'NOUN'), ('them', 'PRON'), ('to', 'PRT'), ('Indonesia', 'NOUN'), ('.', '.'), ('She', 'PRON'), ('did', 'VERB'), (\"n't\", 'ADV'), ('elaborate', 'VERB'), (',', '.'), ('although', 'ADP'), ('earlier', 'ADJ'), ('U.S.', 'NOUN'), ('trade', 'NOUN'), ('reports', 'NOUN'), ('have', 'VERB'), ('complained', 'VERB'), ('of', 'ADP'), ('videocassette', 'NOUN'), ('piracy', 'ADP'), ('in', 'ADP'), ('Malaysia', 'NOUN'), ('and', 'CONJ'), ('disregard', 'ADP'), ('for', 'ADP'), ('U.S.', 'NOUN'), ('pharmaceutical', 'ADJ'), ('patents', 'NOUN'), ('in', 'ADP'), ('Turkey', 'NOUN'), ('.', '.'), ('Campbell', 'NOUN'), ('Soup', 'NOUN'), (',', '.'), ('not', 'ADV'), ('surprisingly', 'ADV'), (',', '.'), ('does', 'VERB'), (\"n't\", 'ADV'), ('have', 'VERB'), ('any', 'DET'), ('plans', 'NOUN'), ('*', 'X'), ('to', 'PRT'), ('advertise', 'VERB'), ('in', 'ADP'), ('the', 'DET'), ('magazine', 'NOUN'), (',', '.'), ('according', 'VERB'), ('to', 'PRT'), ('its', 'PRON'), ('spokesman', 'NOUN'), ('.', '.'), ('U.S.', 'NOUN'), ('News', 'NOUN'), ('has', 'VERB'), ('yet', 'ADV'), ('*-1', 'X'), ('to', 'PRT'), ('announce', 'VERB'), ('its', 'PRON'), ('1990', 'NUM'), ('ad', 'NOUN'), ('rates', 'NOUN'), ('.', '.'), ('He', 'PRON'), ('will', 'VERB'), ('be', 'VERB'), ('eligible', 'ADJ'), ('for', 'ADP'), ('an', 'DET'), ('annual', 'ADJ'), ('pension', 'NOUN'), ('of', 'ADP'), ('more', 'ADJ'), ('than', 'ADP'), ('$', '.'), ('244,000', 'ADP'), ('*U*', 'X'), ('with', 'ADP'), ('certain', 'ADJ'), ('other', 'ADJ'), ('fringe', 'ADP'), ('benefits', 'NOUN'), ('.', '.'), ('Younkers', 'NOUN'), ('management', 'NOUN'), ('is', 'VERB'), ('likely', 'ADJ'), ('*-1', 'X'), ('to', 'PRT'), ('buy', 'VERB'), ('a', 'DET'), ('10', 'NUM'), ('%', 'NOUN'), ('to', 'PRT'), ('20', 'NUM'), ('%', 'NOUN'), ('*U*', 'X'), ('interest', 'NOUN'), ('in', 'ADP'), ('the', 'DET'), ('chain', 'NOUN'), ('in', 'ADP'), ('January', 'NOUN'), (',', '.'), ('said', 'VERB'), ('0', 'X'), ('*T*-2', 'X'), ('Fred', 'NOUN'), ('S.', 'NOUN'), ('Hubbell', 'ADP'), (',', '.'), ('Equitable', 'NOUN'), (\"'s\", 'PRT'), ('president', 'NOUN'), ('and', 'CONJ'), ('chief', 'NOUN'), ('executive', 'NOUN'), ('officer', 'NOUN'), ('.', '.'), ('Commonwealth', 'NOUN'), ('Edison', 'NOUN'), ('is', 'VERB'), ('seeking', 'VERB'), ('about', 'ADP'), ('$', '.'), ('245', 'ADP'), ('million', 'NUM'), ('*U*', 'X'), ('in', 'ADP'), ('rate', 'NOUN'), ('increases', 'NOUN'), ('0', 'X'), ('*T*-1', 'X'), ('to', 'PRT'), ('pay', 'VERB'), ('for', 'ADP'), ('Braidwood', 'NOUN'), ('2', 'NUM'), ('.', '.'), ('With', 'ADP'), ('slower', 'ADJ'), ('economic', 'ADJ'), ('growth', 'NOUN'), ('and', 'CONJ'), ('flat', 'ADJ'), ('corporate', 'ADJ'), ('earnings', 'NOUN'), ('likely', 'ADJ'), ('next', 'ADJ'), ('year', 'NOUN'), (',', '.'), ('``', '.'), ('I', 'PRON'), ('would', 'VERB'), (\"n't\", 'ADV'), ('look', 'VERB'), ('for', 'ADP'), ('the', 'DET'), ('market', 'NOUN'), ('to', 'PRT'), ('have', 'VERB'), ('much', 'ADV'), ('upside', 'ADP'), ('from', 'ADP'), ('current', 'ADJ'), ('levels', 'NOUN'), ('.', '.'), ('In', 'ADP'), ('addition', 'NOUN'), (',', '.'), ('the', 'DET'), ('Cray-3', 'NOUN'), ('will', 'VERB'), ('contain', 'VERB'), ('16', 'NUM'), ('processors', 'NOUN'), ('--', '.'), ('twice', 'ADP'), ('as', 'ADP'), ('many', 'ADJ'), ('as', 'ADP'), ('the', 'DET'), ('largest', 'ADJ'), ('current', 'ADJ'), ('supercomputer', 'NOUN'), ('.', '.'), ('Mr.', 'NOUN'), ('Spiegel', 'NOUN'), (\"'s\", 'PRT'), ('next', 'ADJ'), ('career', 'NOUN'), ('move', 'NOUN'), ('is', 'VERB'), ('a', 'DET'), ('subject', 'ADJ'), ('of', 'ADP'), ('speculation', 'NOUN'), ('on', 'ADP'), ('Wall', 'NOUN'), ('Street', 'NOUN'), ('.', '.'), ('Despite', 'ADP'), ('the', 'DET'), ('strong', 'ADJ'), ('evidence', 'NOUN'), ('against', 'ADP'), ('Mrs.', 'NOUN'), ('Yeargin', 'NOUN'), (',', '.'), ('popular', 'ADJ'), ('sentiment', 'NOUN'), ('*ICH*-1', 'X'), ('was', 'VERB'), ('so', 'ADV'), ('strong', 'ADJ'), ('*ICH*-3', 'X'), ('in', 'ADP'), ('her', 'PRON'), ('favor', 'VERB'), (',', '.'), ('Mrs.', 'NOUN'), ('Ward', 'NOUN'), ('says', 'VERB'), ('0', 'X'), ('*T*-2', 'X'), (',', '.'), ('that', 'DET'), ('``', '.'), ('I', 'PRON'), (\"'m\", 'VERB'), ('afraid', 'ADJ'), ('0', 'X'), ('a', 'DET'), ('jury', 'NOUN'), ('would', 'VERB'), (\"n't\", 'ADV'), ('have', 'VERB'), ('convicted', 'VERB'), ('her', 'PRON'), ('.', '.'), ('A', 'DET'), ('series', 'NOUN'), ('of', 'ADP'), ('5,000', 'NUM'), ('or', 'CONJ'), ('so', 'ADV'), ('changes', 'VERB'), ('is', 'VERB'), ('a', 'DET'), ('``', '.'), ('peal', 'ADP'), (\"''\", '.'), ('and', 'CONJ'), ('takes', 'VERB'), ('about', 'ADP'), ('three', 'NUM'), ('hours', 'NOUN'), ('.', '.'), ('``', '.'), ('A', 'DET'), ('couple', 'NOUN'), ('of', 'ADP'), ('my', 'PRON'), ('law', 'NOUN'), ('clerks', 'ADP'), ('were', 'VERB'), ('going', 'VERB'), ('*-1', 'X'), ('to', 'PRT'), ('pass', 'VERB'), ('me', 'PRON'), ('in', 'ADP'), ('three', 'NUM'), ('or', 'CONJ'), ('four', 'NUM'), ('years', 'NOUN'), (',', '.'), ('and', 'CONJ'), ('I', 'PRON'), ('was', 'VERB'), ('afraid', 'ADJ'), ('0', 'X'), ('I', 'PRON'), ('was', 'VERB'), ('going', 'VERB'), ('*-2', 'X'), ('to', 'PRT'), ('have', 'VERB'), ('*-3', 'X'), ('to', 'PRT'), ('ask', 'VERB'), ('them', 'PRON'), ('for', 'ADP'), ('a', 'DET'), ('loan', 'NOUN'), (',', '.'), (\"''\", '.'), ('the', 'DET'), ('judge', 'NOUN'), ('quipped', 'ADP'), ('*T*-4', 'X'), ('in', 'ADP'), ('an', 'DET'), ('interview', 'NOUN'), ('.', '.'), ('*-1', 'X'), ('Assuming', 'VERB'), ('0', 'X'), ('it', 'PRON'), ('was', 'VERB'), (\"n't\", 'ADV'), ('one', 'NUM'), ('of', 'ADP'), ('those', 'DET'), ('columns', 'ADP'), ('that', 'DET'), ('you', 'PRON'), ('clipped', 'ADP'), ('*T*-2', 'X'), ('and', 'CONJ'), ('put', 'VERB'), ('*T*-2', 'X'), ('on', 'ADP'), ('the', 'DET'), ('refrigerator', 'ADP'), ('door', 'NOUN'), (',', '.'), ('I', 'PRON'), (\"'ll\", 'VERB'), ('review', 'NOUN'), ('the', 'DET'), ('facts', 'NOUN'), ('.', '.'), ('it', 'PRON'), ('was', 'VERB'), ('just', 'ADV'), ('another', 'DET'), ('one', 'NUM'), ('of', 'ADP'), ('the', 'DET'), ('risk', 'NOUN'), ('factors', 'NOUN'), (\"''\", '.'), ('that', 'DET'), ('*T*-17', 'X'), ('led', 'VERB'), ('to', 'PRT'), ('the', 'DET'), ('company', 'NOUN'), (\"'s\", 'PRT'), ('decision', 'NOUN'), ('*', 'X'), ('to', 'PRT'), ('withdraw', 'VERB'), ('from', 'ADP'), ('the', 'DET'), ('bidding', 'NOUN'), (',', '.'), ('he', 'PRON'), ('added', 'VERB'), ('0', 'X'), ('*T*-1', 'X'), ('.', '.'), ('Fourteen', 'ADP'), ('members', 'NOUN'), ('of', 'ADP'), ('the', 'DET'), ('House', 'NOUN'), ('with', 'ADP'), ('jurisdiction', 'ADP'), ('over', 'ADP'), ('the', 'DET'), ('EEOC', 'ADP'), ('have', 'VERB'), ('said', 'VERB'), ('0', 'X'), ('they', 'PRON'), ('oppose', 'VERB'), ('Mr.', 'NOUN'), ('Thomas', 'NOUN'), (\"'s\", 'PRT'), ('nomination', 'NOUN'), ('because', 'ADP'), ('of', 'ADP'), ('``', '.'), ('serious', 'ADJ'), ('questions', 'NOUN'), ('about', 'ADP'), ('his', 'PRON'), ('judgment', 'ADP'), ('-LCB-', '.'), ('and', 'CONJ'), ('-RCB-', '.'), ('respect', 'NOUN'), ('for', 'ADP'), ('the', 'DET'), ('law', 'NOUN'), ('.', '.'), (\"''\", '.'), ('Ringers', 'NOUN'), ('memorize', 'ADP'), ('patterns', 'NOUN'), ('of', 'ADP'), ('changes', 'NOUN'), (',', '.'), ('known', 'VERB'), ('*', 'X'), ('as', 'ADP'), ('``', '.'), ('methods', 'NOUN'), (',', '.'), (\"''\", '.'), ('which', 'DET'), ('*T*-224', 'ADP'), ('have', 'VERB'), ('odd-sounding', 'ADP'), ('names', 'NOUN'), ('like', 'ADP'), ('Kent', 'NOUN'), ('Treble', 'ADP'), ('Bob', 'NOUN'), ('Major', 'NOUN'), ('or', 'CONJ'), ('Grandsire', 'ADP'), ('Caters', 'ADP'), ('.', '.'), ('Typical', 'ADP'), ('rates', 'NOUN'), ('in', 'ADP'), ('the', 'DET'), ('secondary', 'ADJ'), ('market', 'NOUN'), (':', '.'), ('8.60', 'ADP'), ('%', 'NOUN'), ('one', 'NUM'), ('month', 'NOUN'), (';', '.'), ('8.55', 'NUM'), ('%', 'NOUN'), ('three', 'NUM'), ('months', 'NOUN'), (';', '.'), ('8.35', 'ADP'), ('%', 'NOUN'), ('six', 'NUM'), ('months', 'NOUN'), ('.', '.'), ('Mr.', 'NOUN'), ('Harper', 'NOUN'), ('expressed', 'VERB'), ('confidence', 'NOUN'), ('that', 'ADP'), ('he', 'PRON'), ('and', 'CONJ'), ('Mr.', 'NOUN'), ('Baum', 'NOUN'), ('can', 'VERB'), ('convince', 'ADP'), ('the', 'DET'), ('board', 'NOUN'), ('of', 'ADP'), ('their', 'PRON'), ('worthiness', 'ADP'), ('*', 'X'), ('to', 'PRT'), ('run', 'VERB'), ('the', 'DET'), ('company', 'NOUN'), ('.', '.'), ('The', 'DET'), ('magazine', 'NOUN'), (\"'s\", 'PRT'), ('editors', 'NOUN'), ('ran', 'VERB'), ('a', 'DET'), ('giant', 'ADJ'), ('diagram', 'ADP'), ('of', 'ADP'), ('the', 'DET'), ('product', 'NOUN'), ('with', 'ADP'), ('arrows', 'ADP'), ('pointing', 'VERB'), ('to', 'PRT'), ('the', 'DET'), ('packaging', 'NOUN'), (\"'s\", 'PRT'), ('polystyrene', 'ADP'), ('foam', 'ADP'), (',', '.'), ('polyproplene', 'ADP'), ('and', 'CONJ'), ('polyester', 'ADP'), ('film', 'NOUN'), ('--', '.'), ('all', 'DET'), ('plastic', 'ADJ'), ('items', 'NOUN'), ('0', 'X'), ('they', 'PRON'), ('say', 'VERB'), ('0', 'X'), ('*T*-1', 'X'), ('are', 'VERB'), ('non-biodegradable', 'ADP'), ('.', '.'), ('It', 'PRON'), ('shed', 'ADP'), ('about', 'ADP'), ('7', 'NUM'), ('pence', 'NOUN'), (',', '.'), ('however', 'ADV'), (',', '.'), ('after', 'ADP'), ('dealers', 'NOUN'), ('said', 'VERB'), ('0', 'X'), ('the', 'DET'), ('market', 'NOUN'), ('was', 'VERB'), ('disappointed', 'VERB'), ('that', 'ADP'), ('Ford', 'NOUN'), ('did', 'VERB'), (\"n't\", 'ADV'), ('move', 'VERB'), ('*-1', 'X'), ('to', 'PRT'), ('tender', 'NOUN'), ('a', 'DET'), ('bid', 'NOUN'), ('for', 'ADP'), ('control', 'NOUN'), ('of', 'ADP'), ('the', 'DET'), ('company', 'NOUN'), ('.', '.'), ('The', 'DET'), ('new', 'ADJ'), ('ad', 'NOUN'), ('plan', 'NOUN'), ('from', 'ADP'), ('Newsweek', 'NOUN'), (',', '.'), ('a', 'DET'), ('unit', 'NOUN'), ('of', 'ADP'), ('the', 'DET'), ('Washington', 'NOUN'), ('Post', 'ADP'), ('Co.', 'NOUN'), (',', '.'), ('is', 'VERB'), ('the', 'DET'), ('second', 'ADJ'), ('incentive', 'NOUN'), ('plan', 'NOUN'), ('0', 'X'), ('the', 'DET'), ('magazine', 'NOUN'), ('has', 'VERB'), ('offered', 'VERB'), ('advertisers', 'NOUN'), ('*T*-1', 'X'), ('in', 'ADP'), ('three', 'NUM'), ('years', 'NOUN'), ('.', '.'), ('Mr.', 'NOUN'), ('Sherwood', 'NOUN'), ('speculated', 'VERB'), ('that', 'ADP'), ('the', 'DET'), ('leeway', 'ADP'), ('that', 'DET'), ('Sea', 'NOUN'), ('Containers', 'NOUN'), ('has', 'VERB'), ('*T*-1', 'X'), ('means', 'VERB'), ('that', 'ADP'), ('Temple', 'NOUN'), ('would', 'VERB'), ('have', 'VERB'), ('*-2', 'X'), ('to', 'PRT'), ('``', '.'), ('substantially', 'ADV'), ('increase', 'VERB'), ('their', 'PRON'), ('bid', 'NOUN'), ('if', 'ADP'), ('they', 'PRON'), (\"'re\", 'VERB'), ('going', 'VERB'), ('*-3', 'X'), ('to', 'PRT'), ('top', 'ADJ'), ('us', 'PRON'), ('.', '.'), (\"''\", '.'), ('The', 'DET'), ('Fairlawn', 'ADP'), (',', '.'), ('Ohio-based', 'ADJ'), ('company', 'NOUN'), ('also', 'ADV'), ('said', 'VERB'), ('that', 'ADP'), ('full-year', 'ADP'), ('profit', 'NOUN'), ('from', 'ADP'), ('continuing', 'VERB'), ('operations', 'NOUN'), ('will', 'VERB'), ('be', 'VERB'), ('far', 'ADV'), ('below', 'ADP'), ('last', 'ADJ'), ('year', 'NOUN'), (\"'s\", 'PRT'), ('$', '.'), ('148', 'ADP'), ('million', 'NUM'), ('*U*', 'X'), ('.', '.'), ('As', 'ADP'), ('a', 'DET'), ('Foster', 'NOUN'), ('Corporate', 'NOUN'), ('Parent', 'NOUN'), (',', '.'), ('you', 'PRON'), (\"'ll\", 'VERB'), ('be', 'VERB'), ('helping', 'VERB'), ('a', 'DET'), ('neighborhood', 'NOUN'), ('S&L', 'NOUN'), ('in', 'ADP'), ('areas', 'NOUN'), ('crucial', 'ADJ'), ('to', 'PRT'), ('its', 'PRON'), ('survival', 'NOUN'), ('.', '.'), ('Follow-up', 'ADP'), ('report', 'NOUN'), (':', '.'), ('Czechoslovakia', 'NOUN'), ('said', 'VERB'), ('in', 'ADP'), ('May', 'NOUN'), ('0', 'X'), ('it', 'PRON'), ('could', 'VERB'), ('seek', 'VERB'), ('$', '.'), ('2', 'NUM'), ('billion', 'NUM'), ('*U*', 'X'), ('from', 'ADP'), ('Hungary', 'NOUN'), ('if', 'ADP'), ('the', 'DET'), ('twindam', 'ADP'), ('contract', 'NOUN'), ('were', 'VERB'), ('broken', 'VERB'), ('*-68', 'X'), ('.', '.'), ('The', 'DET'), ('thrift', 'NOUN'), ('holding', 'VERB'), ('company', 'NOUN'), ('said', 'VERB'), ('0', 'X'), ('it', 'PRON'), ('expects', 'VERB'), ('*-1', 'X'), ('to', 'PRT'), ('obtain', 'VERB'), ('regulatory', 'ADJ'), ('approval', 'NOUN'), ('and', 'CONJ'), ('complete', 'VERB'), ('the', 'DET'), ('transaction', 'NOUN'), ('by', 'ADP'), ('year-end', 'NOUN'), ('.', '.'), ('The', 'DET'), ('asbestos', 'NOUN'), ('fiber', 'ADP'), (',', '.'), ('crocidolite', 'NOUN'), (',', '.'), ('is', 'VERB'), ('unusually', 'ADV'), ('resilient', 'ADP'), ('once', 'ADV'), ('it', 'PRON'), ('enters', 'VERB'), ('the', 'DET'), ('lungs', 'ADP'), (',', '.'), ('with', 'ADP'), ('even', 'ADV'), ('brief', 'ADJ'), ('exposures', 'NOUN'), ('to', 'PRT'), ('it', 'PRON'), ('causing', 'VERB'), ('symptoms', 'ADP'), ('that', 'DET'), ('*T*-1', 'X'), ('show', 'VERB'), ('up', 'ADV'), ('decades', 'NOUN'), ('later', 'ADJ'), (',', '.'), ('researchers', 'NOUN'), ('said', 'VERB'), ('0', 'X'), ('*T*-2', 'X'), ('.', '.'), ('Faulding', 'NOUN'), ('said', 'VERB'), ('0', 'X'), ('it', 'PRON'), ('owns', 'VERB'), ('33', 'NUM'), ('%', 'NOUN'), ('of', 'ADP'), ('Moleculon', 'NOUN'), (\"'s\", 'PRT'), ('voting', 'NOUN'), ('stock', 'NOUN'), ('and', 'CONJ'), ('has', 'VERB'), ('an', 'DET'), ('agreement', 'NOUN'), ('*', 'X'), ('to', 'PRT'), ('acquire', 'VERB'), ('an', 'DET'), ('additional', 'ADJ'), ('19', 'NUM'), ('%', 'NOUN'), ('.', '.'), ('He', 'PRON'), ('said', 'VERB'), ('0', 'X'), ('Mexico', 'NOUN'), ('could', 'VERB'), ('be', 'VERB'), ('one', 'NUM'), ('of', 'ADP'), ('the', 'DET'), ('next', 'ADJ'), ('countries', 'NOUN'), ('0', 'X'), ('*T*-1', 'X'), ('to', 'PRT'), ('be', 'VERB'), ('removed', 'VERB'), ('*-2', 'X'), ('from', 'ADP'), ('the', 'DET'), ('priority', 'NOUN'), ('list', 'NOUN'), ('because', 'ADP'), ('of', 'ADP'), ('its', 'PRON'), ('efforts', 'NOUN'), ('*', 'X'), ('to', 'PRT'), ('craft', 'ADP'), ('a', 'DET'), ('new', 'ADJ'), ('patent', 'NOUN'), ('law', 'NOUN'), ('.', '.'), ('The', 'DET'), ('current', 'ADJ'), ('opportunities', 'NOUN'), ('arise', 'ADP'), ('because', 'ADP'), ('the', 'DET'), ('process', 'NOUN'), ('for', 'ADP'), ('*', 'X'), ('executing', 'VERB'), ('a', 'DET'), ('buy', 'VERB'), ('or', 'CONJ'), ('sell', 'VERB'), ('order', 'NOUN'), ('in', 'ADP'), ('the', 'DET'), ('actual', 'ADJ'), ('stocks', 'NOUN'), ('that', 'ADP'), ('*T*-76', 'X'), ('make', 'VERB'), ('up', 'ADV'), ('the', 'DET'), ('S&P', 'NOUN'), ('500', 'NUM'), ('is', 'VERB'), ('more', 'ADV'), ('cumbersome', 'ADP'), ('than', 'ADP'), ('*', 'X'), ('transacting', 'VERB'), ('in', 'ADP'), ('the', 'DET'), ('futures', 'NOUN'), ('market', 'NOUN'), ('.', '.'), ('Both', 'DET'), ('Newsweek', 'NOUN'), ('and', 'CONJ'), ('U.S.', 'NOUN'), ('News', 'NOUN'), ('have', 'VERB'), ('been', 'VERB'), ('gaining', 'VERB'), ('circulation', 'NOUN'), ('in', 'ADP'), ('recent', 'ADJ'), ('years', 'NOUN'), ('without', 'ADP'), ('heavy', 'ADJ'), ('use', 'NOUN'), ('of', 'ADP'), ('electronic', 'ADJ'), ('giveaways', 'ADP'), ('to', 'PRT'), ('subscribers', 'ADP'), (',', '.'), ('such', 'ADJ'), ('as', 'ADP'), ('telephones', 'ADP'), ('or', 'CONJ'), ('watches', 'NOUN'), ('.', '.'), ('He', 'PRON'), ('says', 'VERB'), ('0', 'X'), ('he', 'PRON'), ('had', 'VERB'), ('Candlestick', 'NOUN'), ('built', 'VERB'), ('because', 'ADP'), ('the', 'DET'), ('Giants', 'NOUN'), ('claimed', 'VERB'), ('0', 'X'), ('they', 'PRON'), ('needed', 'VERB'), ('10,000', 'NUM'), ('parking', 'ADP'), ('spaces', 'NOUN'), ('.', '.'), ('The', 'DET'), ('California', 'NOUN'), ('Supreme', 'NOUN'), ('Court', 'NOUN'), ('last', 'ADJ'), ('year', 'NOUN'), ('reversed', 'ADP'), ('direction', 'NOUN'), ('*-1', 'X'), ('to', 'PRT'), ('make', 'VERB'), ('it', 'PRON'), ('*EXP*-2', 'X'), ('much', 'ADV'), ('harder', 'ADJ'), ('*', 'X'), ('to', 'PRT'), ('win', 'VERB'), ('DES', 'NOUN'), ('cases', 'NOUN'), ('because', 'ADP'), ('the', 'DET'), ('justices', 'NOUN'), ('saw', 'VERB'), ('how', 'ADV'), ('all', 'DET'), ('the', 'DET'), ('pharmaceutical', 'ADJ'), ('litigation', 'NOUN'), ('has', 'VERB'), ('chilled', 'ADP'), ('the', 'DET'), ('introduction', 'NOUN'), ('of', 'ADP'), ('new', 'ADJ'), ('drugs', 'NOUN'), ('*T*-3', 'X'), ('.', '.'), ('These', 'DET'), ('3.8', 'NUM'), ('million', 'NUM'), ('people', 'NOUN'), ('also', 'ADV'), ('are', 'VERB'), ('eligible', 'ADJ'), ('*-1', 'X'), ('to', 'PRT'), ('get', 'VERB'), ('one', 'NUM'), ('percentage', 'NOUN'), ('point', 'NOUN'), ('off', 'PRT'), ('GMAC', 'NOUN'), (\"'s\", 'PRT'), ('advertised', 'VERB'), ('finance', 'VERB'), ('rates', 'NOUN'), (',', '.'), ('which', 'DET'), ('*T*-56', 'X'), ('start', 'VERB'), ('at', 'ADP'), ('6.9', 'NUM'), ('%', 'NOUN'), ('for', 'ADP'), ('two-year', 'ADJ'), ('loan', 'NOUN'), ('contracts', 'NOUN'), ('.', '.'), ('Mr.', 'NOUN'), ('Black', 'NOUN'), ('said', 'VERB'), ('0', 'X'), ('he', 'PRON'), ('is', 'VERB'), ('``', '.'), ('pleased', 'VERB'), (\"''\", '.'), ('with', 'ADP'), ('the', 'DET'), ('economy', 'NOUN'), (\"'s\", 'PRT'), ('recent', 'ADJ'), ('performance', 'NOUN'), (',', '.'), ('and', 'CONJ'), ('does', 'VERB'), (\"n't\", 'ADV'), ('see', 'VERB'), ('``', '.'), ('a', 'DET'), ('lot', 'NOUN'), ('of', 'ADP'), ('excesses', 'ADP'), ('*ICH*-1', 'X'), ('out', 'PRT'), ('there', 'DET'), ('that', 'ADP'), ('*T*-3', 'X'), ('would', 'VERB'), ('tilt', 'ADP'), ('us', 'PRON'), ('into', 'ADP'), ('recession', 'NOUN'), ('.', '.'), (\"''\", '.'), ('Typically', 'ADV'), (',', '.'), ('money-fund', 'ADP'), ('yields', 'NOUN'), ('beat', 'VERB'), ('comparable', 'ADJ'), ('short-term', 'ADJ'), ('investments', 'NOUN'), ('because', 'ADP'), ('portfolio', 'NOUN'), ('managers', 'NOUN'), ('can', 'VERB'), ('vary', 'VERB'), ('maturities', 'NOUN'), ('and', 'CONJ'), ('go', 'VERB'), ('after', 'ADP'), ('the', 'DET'), ('highest', 'ADJ'), ('rates', 'NOUN'), ('.', '.'), ('Ringers', 'NOUN'), (',', '.'), ('she', 'PRON'), ('added', 'VERB'), ('0', 'X'), ('*T*-2', 'X'), (',', '.'), ('are', 'VERB'), ('``', '.'), ('filled', 'ADP'), ('*-1', 'X'), ('with', 'ADP'), ('the', 'DET'), ('solemn', 'ADP'), ('intoxication', 'ADP'), ('that', 'DET'), ('*T*-226', 'ADP'), ('comes', 'VERB'), ('of', 'ADP'), ('intricate', 'ADP'), ('ritual', 'ADP'), ('faultlessly', 'ADP'), ('performed', 'VERB'), ('*', 'X'), ('.', '.'), (\"''\", '.'), ('That', 'DET'), ('sounded', 'VERB'), ('a', 'DET'), ('lot', 'NOUN'), ('like', 'ADP'), ('censorship', 'NOUN'), (',', '.'), ('so', 'ADV'), ('after', 'ADP'), ('years', 'NOUN'), ('of', 'ADP'), ('letters', 'NOUN'), ('and', 'CONJ'), ('conversations', 'NOUN'), ('that', 'ADP'), ('*T*-22', 'X'), ('went', 'VERB'), ('nowhere', 'ADV'), (',', '.'), ('I', 'PRON'), ('sued', 'VERB'), ('.', '.'), ('A', 'DET'), ('Commonwealth', 'NOUN'), ('Edison', 'NOUN'), ('spokesman', 'NOUN'), ('said', 'VERB'), ('that', 'ADP'), ('*', 'X'), ('tracking', 'ADP'), ('down', 'ADV'), ('the', 'DET'), ('two', 'NUM'), ('million', 'NUM'), ('customers', 'NOUN'), ('whose', 'PRON'), ('addresses', 'ADP'), ('*T*-20', 'X'), ('have', 'VERB'), ('changed', 'VERB'), ('during', 'ADP'), ('the', 'DET'), ('past', 'ADJ'), ('3', 'NUM'), ('1\\\\/2', 'NUM'), ('years', 'NOUN'), ('would', 'VERB'), ('be', 'VERB'), ('``', '.'), ('an', 'DET'), ('administrative', 'ADJ'), ('nightmare', 'ADP'), ('.', '.'), (\"''\", '.'), ('``', '.'), ('There', 'DET'), (\"'s\", 'VERB'), ('a', 'DET'), ('lynch-mob', 'ADP'), ('psychology', 'NOUN'), ('right', 'NOUN'), ('now', 'ADV'), (',', '.'), (\"''\", '.'), ('says', 'VERB'), ('*T*-1', 'X'), ('the', 'DET'), ('top', 'ADJ'), ('program-trading', 'ADJ'), ('official', 'NOUN'), ('at', 'ADP'), ('a', 'DET'), ('Wall', 'NOUN'), ('Street', 'NOUN'), ('firm', 'NOUN'), ('.', '.'), ('Midwest', 'NOUN'), ('Financial', 'NOUN'), ('has', 'VERB'), ('$', '.'), ('2.3', 'NUM'), ('billion', 'NUM'), ('*U*', 'X'), ('in', 'ADP'), ('assets', 'NOUN'), ('and', 'CONJ'), ('eight', 'NUM'), ('banks', 'NOUN'), ('.', '.'), ('Mark', 'NOUN'), ('Shepperd', 'ADP'), (',', '.'), ('an', 'DET'), ('analyst', 'NOUN'), ('at', 'ADP'), ('UBS', 'ADP'), ('Phillips', 'NOUN'), ('&', 'CONJ'), ('Drew', 'ADP'), ('in', 'ADP'), ('London', 'NOUN'), (',', '.'), ('said', 'VERB'), (',', '.'), ('``', '.'), ('I', 'PRON'), ('suspect', 'VERB'), ('0', 'X'), ('-LRB-', '.'), ('the', 'DET'), ('departure', 'NOUN'), ('-RRB-', '.'), ('will', 'VERB'), ('be', 'VERB'), ('fairly', 'ADV'), ('irrelevant', 'ADP'), ('for', 'ADP'), ('the', 'DET'), ('company', 'NOUN'), ('.', '.'), ('London', 'NOUN'), ('share', 'NOUN'), ('prices', 'NOUN'), ('were', 'VERB'), ('bolstered', 'VERB'), ('*-1', 'X'), ('largely', 'ADV'), ('by', 'ADP'), ('continued', 'VERB'), ('gains', 'NOUN'), ('on', 'ADP'), ('Wall', 'NOUN'), ('Street', 'NOUN'), ('and', 'CONJ'), ('technical', 'ADJ'), ('factors', 'NOUN'), ('affecting', 'ADP'), ('demand', 'NOUN'), ('for', 'ADP'), ('London', 'NOUN'), (\"'s\", 'PRT'), ('blue-chip', 'ADJ'), ('stocks', 'NOUN'), ('.', '.'), ('In', 'ADP'), ('a', 'DET'), ('recent', 'ADJ'), ('report', 'NOUN'), (',', '.'), ('the', 'DET'), ('Institute', 'NOUN'), ('of', 'ADP'), ('Medicine', 'NOUN'), ('pointed', 'VERB'), ('out', 'PRT'), ('that', 'DET'), ('certain', 'ADJ'), ('health', 'NOUN'), ('problems', 'NOUN'), ('may', 'VERB'), ('predispose', 'ADP'), ('a', 'DET'), ('person', 'NOUN'), ('to', 'PRT'), ('homelessness', 'NOUN'), (',', '.'), ('others', 'NOUN'), ('may', 'VERB'), ('be', 'VERB'), ('a', 'DET'), ('consequence', 'ADP'), ('of', 'ADP'), ('it', 'PRON'), (',', '.'), ('and', 'CONJ'), ('a', 'DET'), ('third', 'ADJ'), ('category', 'NOUN'), ('is', 'VERB'), ('composed', 'ADP'), ('*-19', 'X'), ('of', 'ADP'), ('disorders', 'NOUN'), ('whose', 'PRON'), ('treatment', 'NOUN'), ('*T*-15', 'X'), ('is', 'VERB'), ('difficult', 'ADJ'), ('or', 'CONJ'), ('impossible', 'ADJ'), ('if', 'ADP'), ('a', 'DET'), ('person', 'NOUN'), ('lacks', 'VERB'), ('adequate', 'ADP'), ('shelter', 'NOUN'), ('.', '.'), ('Although', 'ADP'), ('she', 'PRON'), ('was', 'VERB'), ('kind', 'NOUN'), ('and', 'CONJ'), ('playful', 'ADP'), ('to', 'PRT'), ('her', 'PRON'), ('children', 'NOUN'), (',', '.'), ('she', 'PRON'), ('was', 'VERB'), ('dreadful', 'ADP'), ('to', 'PRT'), ('her', 'PRON'), ('war-damaged', 'ADP'), ('husband', 'NOUN'), (';', '.'), ('she', 'PRON'), ('openly', 'ADV'), ('brought', 'VERB'), ('her', 'PRON'), ('lover', 'ADP'), ('into', 'ADP'), ('their', 'PRON'), ('home', 'NOUN'), ('.', '.'), ('The', 'DET'), ('December', 'NOUN'), ('contract', 'NOUN'), ('rose', 'VERB'), ('1.20', 'ADP'), ('cents', 'NOUN'), ('a', 'DET'), ('pound', 'NOUN'), ('to', 'PRT'), ('$', '.'), ('1.14', 'ADP'), ('*U*', 'X'), ('.', '.'), ('But', 'CONJ'), ('the', 'DET'), ('number', 'NOUN'), ('of', 'ADP'), ('weddings', 'NOUN'), ('last', 'ADJ'), ('year', 'NOUN'), ('--', '.'), ('271,124', 'ADP'), ('--', '.'), ('was', 'VERB'), ('still', 'ADV'), ('well', 'ADV'), ('below', 'ADP'), ('the', 'DET'), ('400,000', 'ADP'), ('registered', 'VERB'), ('*', 'X'), ('in', 'ADP'), ('1972', 'NUM'), (',', '.'), ('the', 'DET'), ('last', 'ADJ'), ('year', 'NOUN'), ('of', 'ADP'), ('increasing', 'VERB'), ('marriages', 'NOUN'), ('.', '.'), ('Stephen', 'NOUN'), ('Salmore', 'NOUN'), (',', '.'), ('a', 'DET'), ('political', 'ADJ'), ('scientist', 'NOUN'), ('at', 'ADP'), ('New', 'NOUN'), ('Jersey', 'NOUN'), (\"'s\", 'PRT'), ('Eagleton', 'ADP'), ('Institute', 'NOUN'), (',', '.'), ('says', 'VERB'), ('0', 'X'), ('it', 'PRON'), (\"'s\", 'VERB'), ('another', 'DET'), ('example', 'NOUN'), ('of', 'ADP'), ('an', 'DET'), ('ad', 'NOUN'), ('that', 'ADP'), ('*T*-1', 'X'), (\"'s\", 'PRT'), ('true', 'ADJ'), ('but', 'CONJ'), ('not', 'ADV'), ('fully', 'ADV'), ('accurate', 'ADJ'), ('.', '.'), ('``', '.'), ('You', 'PRON'), (\"'ve\", 'VERB'), ('got', 'VERB'), ('*-2', 'X'), ('to', 'PRT'), ('make', 'VERB'), ('the', 'DET'), ('restructuring', 'NOUN'), ('work', 'NOUN'), (',', '.'), (\"''\", '.'), ('said', 'VERB'), ('*T*-1', 'X'), ('Mr.', 'NOUN'), ('Baum', 'NOUN'), ('.', '.'), ('But', 'CONJ'), ('he', 'PRON'), ('is', 'VERB'), ('just', 'ADV'), ('one', 'NUM'), ('of', 'ADP'), ('several', 'ADJ'), ('youthful', 'ADP'), ('writers', 'NOUN'), ('--', '.'), ('Tokyo', 'NOUN'), (\"'s\", 'PRT'), ('brat', 'ADP'), ('pack', 'ADP'), ('--', '.'), ('who', 'PRON'), ('*T*-57', 'X'), ('are', 'VERB'), ('dominating', 'ADP'), ('the', 'DET'), ('best-seller', 'ADP'), ('charts', 'ADP'), ('in', 'ADP'), ('Japan', 'NOUN'), ('.', '.'), ('They', 'PRON'), ('continually', 'ADV'), ('advise', 'ADP'), ('their', 'PRON'), ('clients', 'NOUN'), ('on', 'ADP'), ('which', 'DET'), ('individual', 'ADJ'), ('stocks', 'NOUN'), ('*', 'X'), ('to', 'PRT'), ('buy', 'VERB'), ('or', 'CONJ'), ('sell', 'VERB'), ('*T*-1', 'X'), (',', '.'), ('while', 'ADP'), ('their', 'PRON'), ('clients', 'NOUN'), ('continue', 'VERB'), ('*-2', 'X'), ('to', 'PRT'), ('hope', 'VERB'), ('for', 'ADP'), ('superior', 'ADJ'), ('performance', 'NOUN'), ('.', '.'), ('Esso', 'NOUN'), ('said', 'VERB'), ('0', 'X'), ('the', 'DET'), ('fields', 'NOUN'), ('were', 'VERB'), ('developed', 'VERB'), ('*-36', 'X'), ('after', 'ADP'), ('the', 'DET'), ('Australian', 'ADJ'), ('government', 'NOUN'), ('decided', 'VERB'), ('in', 'ADP'), ('1987', 'NUM'), ('*-2', 'X'), ('to', 'PRT'), ('make', 'VERB'), ('the', 'DET'), ('first', 'ADJ'), ('30', 'NUM'), ('million', 'NUM'), ('barrels', 'NOUN'), ('from', 'ADP'), ('new', 'ADJ'), ('fields', 'NOUN'), ('free', 'ADJ'), ('of', 'ADP'), ('excise', 'VERB'), ('tax', 'NOUN'), ('.', '.'), ('He', 'PRON'), ('added', 'VERB'), ('that', 'ADP'), ('the', 'DET'), ('current-carrying', 'ADJ'), ('capacity', 'NOUN'), ('of', 'ADP'), ('multi-crystal', 'ADJ'), ('samples', 'NOUN'), ('of', 'ADP'), ('superconductors', 'NOUN'), ('remains', 'VERB'), ('too', 'ADV'), ('low', 'ADJ'), ('for', 'ADP'), ('most', 'ADJ'), ('practical', 'ADP'), ('uses', 'NOUN'), ('because', 'ADP'), ('of', 'ADP'), ('so-called', 'ADJ'), ('weak', 'ADJ'), ('links', 'ADP'), ('between', 'ADP'), ('crystals', 'NOUN'), ('.', '.'), ('Jamaica', 'NOUN'), (',', '.'), ('wary', 'ADJ'), ('of', 'ADP'), ('*', 'X'), ('upsetting', 'ADP'), ('its', 'PRON'), ('Caribbean', 'NOUN'), ('Basin', 'NOUN'), ('allies', 'ADP'), (',', '.'), ('has', 'VERB'), ('apparently', 'ADV'), ('instructed', 'ADP'), ('its', 'PRON'), ('lobbyist', 'ADP'), ('*-2', 'X'), ('to', 'PRT'), ('abandon', 'VERB'), ('the', 'DET'), ('provision', 'NOUN'), ('initially', 'ADV'), ('drafted', 'ADP'), ('*', 'X'), ('by', 'ADP'), ('Mr.', 'NOUN'), ('Gray', 'NOUN'), (',', '.'), ('but', 'CONJ'), ('the', 'DET'), ('greater', 'ADJ'), ('question', 'NOUN'), ('is', 'VERB'), ('whether', 'ADP'), ('Mr.', 'NOUN'), ('Inouye', 'NOUN'), (',', '.'), ('who', 'PRON'), ('*T*-10', 'X'), ('has', 'VERB'), ('strong', 'ADJ'), ('ties', 'NOUN'), ('to', 'PRT'), ('the', 'DET'), ('sugar', 'NOUN'), ('industry', 'NOUN'), (',', '.'), ('is', 'VERB'), ('able', 'ADJ'), ('*-3', 'X'), ('to', 'PRT'), ('insert', 'ADP'), ('a', 'DET'), ('claim', 'VERB'), ('by', 'ADP'), ('the', 'DET'), ('Philippines', 'NOUN'), ('.', '.'), ('The', 'DET'), ('governor', 'NOUN'), ('could', 'VERB'), (\"n't\", 'ADV'), ('make', 'VERB'), ('it', 'PRON'), (',', '.'), ('so', 'ADV'), ('the', 'DET'), ('lieutenant', 'ADP'), ('governor', 'NOUN'), ('welcomed', 'VERB'), ('the', 'DET'), ('special', 'ADJ'), ('guests', 'NOUN'), ('.', '.'), ('ASLACTON', 'ADP'), (',', '.'), ('England', 'NOUN'), ('*', 'X'), ('Determining', 'ADP'), ('that', 'DET'), ('may', 'VERB'), ('enable', 'ADP'), ('them', 'PRON'), ('to', 'PRT'), ('develop', 'VERB'), ('better', 'ADV'), ('ways', 'NOUN'), ('0', 'X'), ('*', 'X'), ('to', 'PRT'), ('introduce', 'VERB'), ('the', 'DET'), ('needed', 'VERB'), ('crystal-lattice', 'ADJ'), ('patterns', 'NOUN'), ('*T*-1', 'X'), ('.', '.'), ('``', '.'), ('While', 'ADP'), ('this', 'DET'), ('court', 'NOUN'), ('ruling', 'NOUN'), ('was', 'VERB'), ('only', 'ADV'), ('on', 'ADP'), ('Hammersmith', 'NOUN'), (',', '.'), ('it', 'PRON'), ('will', 'VERB'), ('obviously', 'ADV'), ('be', 'VERB'), ('very', 'ADV'), ('persuasive', 'ADP'), ('in', 'ADP'), ('other', 'ADJ'), ('cases', 'NOUN'), ('of', 'ADP'), ('a', 'DET'), ('similar', 'ADJ'), ('nature', 'NOUN'), (',', '.'), (\"''\", '.'), ('a', 'DET'), ('solicitor', 'ADP'), ('representing', 'VERB'), ('one', 'NUM'), ('of', 'ADP'), ('the', 'DET'), ('banks', 'NOUN'), ('said', 'VERB'), ('*T*-1', 'X'), ('.', '.'), ('DOONESBURY', 'ADP'), (\"CREATOR'S\", 'ADP'), ('UNION', 'ADP'), ('TROUBLES', 'ADP'), ('are', 'VERB'), ('no', 'DET'), ('laughing', 'VERB'), ('matter', 'NOUN'), ('.', '.'), ('He', 'PRON'), ('said', 'VERB'), ('0', 'X'), ('authors', 'NOUN'), ('of', 'ADP'), ('Scoring', 'NOUN'), ('High', 'NOUN'), ('``', '.'), ('scrupulously', 'ADP'), ('avoid', 'VERB'), (\"''\", '.'), ('*-1', 'X'), ('replicating', 'ADP'), ('exact', 'ADJ'), ('questions', 'NOUN'), (',', '.'), ('but', 'CONJ'), ('he', 'PRON'), ('does', 'VERB'), (\"n't\", 'ADV'), ('deny', 'VERB'), ('that', 'ADP'), ('some', 'DET'), ('items', 'NOUN'), ('are', 'VERB'), ('similar', 'ADJ'), ('.', '.'), ('-LRB-', '.'), ('It', 'PRON'), ('is', 'VERB'), (',', '.'), ('of', 'ADP'), ('course', 'NOUN'), (',', '.'), ('printed', 'VERB'), ('*-1', 'X'), ('on', 'ADP'), ('recycled', 'ADP'), ('paper', 'NOUN'), ('.', '.'), ('-RRB-', '.'), ('The', 'DET'), ('offer', 'NOUN'), ('is', 'VERB'), ('being', 'VERB'), ('launched', 'VERB'), ('*-45', 'ADP'), ('pursuant', 'ADJ'), ('to', 'PRT'), ('a', 'DET'), ('previously', 'ADV'), ('announced', 'VERB'), ('agreement', 'NOUN'), ('between', 'ADP'), ('the', 'DET'), ('companies', 'NOUN'), ('.', '.'), ('A', 'DET'), ('computer', 'NOUN'), ('using', 'VERB'), ('the', 'DET'), ('more-advanced', 'ADP'), ('Intel', 'NOUN'), ('Corp.', 'NOUN'), ('386', 'NUM'), ('microprocessor', 'ADP'), (',', '.'), ('with', 'ADP'), ('four', 'NUM'), ('megabytes', 'ADP'), ('of', 'ADP'), ('memory', 'NOUN'), ('and', 'CONJ'), ('a', 'DET'), ('100-megabyte', 'ADP'), ('hard', 'ADJ'), ('disk', 'NOUN'), ('now', 'ADV'), ('sells', 'VERB'), ('for', 'ADP'), ('$', '.'), ('5,699', 'ADP'), ('*U*', 'X'), (',', '.'), ('down', 'ADV'), ('from', 'ADP'), ('$', '.'), ('6,799', 'ADP'), ('*U*', 'X'), ('.', '.'), ('As', 'ADP'), ('chairman', 'NOUN'), ('of', 'ADP'), ('the', 'DET'), ('House', 'NOUN'), ('Energy', 'NOUN'), ('and', 'CONJ'), ('Commerce', 'NOUN'), ('Committee', 'NOUN'), (',', '.'), ('Mr.', 'NOUN'), ('Dingell', 'NOUN'), ('has', 'VERB'), ('almost', 'ADV'), ('single-handed', 'ADP'), ('control', 'NOUN'), ('over', 'ADP'), ('clean-air', 'ADJ'), ('legislation', 'NOUN'), ('.', '.'), ('In', 'ADP'), ('every', 'DET'), ('major', 'ADJ'), ('market', 'NOUN'), ('in', 'ADP'), ('the', 'DET'), ('U.S.', 'NOUN'), (',', '.'), ('for', 'ADP'), ('instance', 'NOUN'), (',', '.'), ('you', 'PRON'), ('can', 'VERB'), ('buy', 'VERB'), (\"'86\", 'ADP'), ('La', 'NOUN'), ('Tache', 'NOUN'), ('or', 'CONJ'), ('Richebourg', 'NOUN'), (',', '.'), ('virtually', 'ADV'), ('all', 'DET'), ('of', 'ADP'), ('the', 'DET'), ('first', 'ADJ'), ('growth', 'NOUN'), ('Bordeaux', 'NOUN'), ('-LRB-', '.'), ('except', 'ADP'), ('Petrus', 'NOUN'), ('-RRB-', '.'), (',', '.'), ('as', 'ADP'), ('well', 'ADV'), ('as', 'ADP'), ('Opus', 'ADP'), ('One', 'NUM'), ('and', 'CONJ'), ('Dominus', 'ADP'), ('from', 'ADP'), ('California', 'NOUN'), ('and', 'CONJ'), (',', '.'), ('at', 'ADP'), ('the', 'DET'), ('moment', 'NOUN'), (',', '.'), ('the', 'DET'), ('Stag', 'NOUN'), (\"'s\", 'PRT'), ('Leap', 'NOUN'), ('1985', 'NUM'), ('Cask', 'NOUN'), ('23', 'NUM'), ('.', '.'), ('Nearby', 'ADP'), ('cities', 'NOUN'), ('such', 'ADJ'), ('as', 'ADP'), ('Pasadena', 'ADP'), ('and', 'CONJ'), ('Long', 'ADJ'), ('Beach', 'NOUN'), ('also', 'ADV'), ('have', 'VERB'), ('large', 'ADJ'), ('dailies', 'NOUN'), ('.', '.'), ('No', 'DET'), ('price', 'NOUN'), ('for', 'ADP'), ('the', 'DET'), ('new', 'ADJ'), ('shares', 'NOUN'), ('has', 'VERB'), ('been', 'VERB'), ('set', 'VERB'), ('*-23', 'X'), ('.', '.'), ('The', 'DET'), ('minimum-wage', 'ADP'), ('bill', 'NOUN'), ('worked', 'VERB'), ('out', 'PRT'), ('*', 'X'), ('by', 'ADP'), ('Congress', 'NOUN'), ('and', 'CONJ'), ('Bush', 'NOUN'), ('won', 'VERB'), ('easy', 'ADJ'), ('approval', 'NOUN'), ('in', 'ADP'), ('the', 'DET'), ('House', 'NOUN'), ('.', '.'), ('The', 'DET'), ('Lorillard', 'NOUN'), ('spokeswoman', 'NOUN'), ('said', 'VERB'), ('0', 'X'), ('asbestos', 'NOUN'), ('was', 'VERB'), ('used', 'VERB'), ('*-1', 'X'), ('in', 'ADP'), ('``', '.'), ('very', 'ADV'), ('modest', 'ADJ'), ('amounts', 'NOUN'), (\"''\", '.'), ('in', 'ADP'), ('*', 'X'), ('making', 'VERB'), ('paper', 'NOUN'), ('for', 'ADP'), ('the', 'DET'), ('filters', 'NOUN'), ('in', 'ADP'), ('the', 'DET'), ('early', 'ADJ'), ('1950s', 'NUM'), ('and', 'CONJ'), ('replaced', 'VERB'), ('*-1', 'X'), ('with', 'ADP'), ('a', 'DET'), ('different', 'ADJ'), ('type', 'NOUN'), ('of', 'ADP'), ('filter', 'ADP'), ('in', 'ADP'), ('1956', 'NUM'), ('.', '.'), ('In', 'ADP'), ('the', 'DET'), ('coming', 'VERB'), ('decade', 'NOUN'), (',', '.'), ('analysts', 'NOUN'), ('say', 'VERB'), ('0', 'X'), ('*T*-2', 'X'), (',', '.'), ('U.S.-Japanese', 'ADP'), ('relations', 'NOUN'), ('will', 'VERB'), ('be', 'VERB'), ('tested', 'VERB'), ('*-1', 'X'), ('as', 'ADP'), ('Tokyo', 'NOUN'), ('comes', 'VERB'), ('to', 'PRT'), ('terms', 'NOUN'), ('with', 'ADP'), ('its', 'PRON'), ('new', 'ADJ'), ('status', 'NOUN'), ('as', 'ADP'), ('the', 'DET'), ('region', 'NOUN'), (\"'s\", 'PRT'), ('economic', 'ADJ'), ('behemoth', 'ADP'), ('.', '.'), ('Bond', 'NOUN'), ('prices', 'NOUN'), ('and', 'CONJ'), ('the', 'DET'), ('dollar', 'NOUN'), ('both', 'DET'), ('gained', 'VERB'), ('modestly', 'ADV'), ('.', '.'), ('Prices', 'NOUN'), ('closed', 'VERB'), ('mostly', 'ADV'), ('higher', 'ADJ'), ('in', 'ADP'), ('relatively', 'ADV'), ('light', 'ADJ'), ('trading', 'NOUN'), ('as', 'ADP'), ('farmers', 'NOUN'), ('continued', 'VERB'), ('*-1', 'X'), ('to', 'PRT'), ('withhold', 'VERB'), ('their', 'PRON'), ('crops', 'NOUN'), ('from', 'ADP'), ('the', 'DET'), ('marketplace', 'NOUN'), ('in', 'ADP'), ('the', 'DET'), ('hope', 'NOUN'), ('of', 'ADP'), ('higher', 'ADJ'), ('prices', 'NOUN'), ('0', 'X'), ('*T*-2', 'X'), ('to', 'PRT'), ('come', 'VERB'), ('.', '.'), ('The', 'DET'), ('charges', 'NOUN'), ('were', 'VERB'), ('partly', 'ADV'), ('offset', 'VERB'), ('*-1', 'X'), ('by', 'ADP'), ('a', 'DET'), ('$', '.'), ('2', 'NUM'), ('million', 'NUM'), ('*U*', 'X'), ('gain', 'VERB'), ('on', 'ADP'), ('the', 'DET'), ('sale', 'NOUN'), ('of', 'ADP'), ('investments', 'NOUN'), ('of', 'ADP'), ('two', 'NUM'), ('joint', 'ADJ'), ('ventures', 'NOUN'), (',', '.'), ('he', 'PRON'), ('said', 'VERB'), ('0', 'X'), ('*T*-2', 'X'), ('.', '.'), ('``', '.'), ('The', 'DET'), ('thing', 'NOUN'), ('that', 'ADP'), ('*T*-1', 'X'), ('will', 'VERB'), ('really', 'ADV'), ('break', 'VERB'), ('this', 'DET'), ('market', 'NOUN'), ('right', 'NOUN'), ('open', 'VERB'), ('is', 'VERB'), ('merchandising', 'ADP'), (',', '.'), (\"''\", '.'), ('Ms.', 'NOUN'), ('West', 'NOUN'), ('says', 'VERB'), ('*T*-2', 'X'), ('.', '.'), ('In', 'ADP'), ('the', 'DET'), ('1970s', 'ADP'), (',', '.'), ('scientists', 'NOUN'), ('reported', 'VERB'), ('cancer', 'NOUN'), ('cases', 'NOUN'), ('among', 'ADP'), ('the', 'DET'), ('daughters', 'NOUN'), ('of', 'ADP'), ('DES', 'NOUN'), ('users', 'NOUN'), ('.', '.'), ('It', 'PRON'), ('said', 'VERB'), ('0', 'X'), ('it', 'PRON'), ('needs', 'VERB'), ('*-1', 'X'), ('to', 'PRT'), ('make', 'VERB'), ('the', 'DET'), ('payment', 'NOUN'), ('by', 'ADP'), ('Dec.', 'NOUN'), ('1', 'NUM'), ('*-1', 'X'), ('to', 'PRT'), ('avoid', 'VERB'), ('a', 'DET'), ('default', 'NOUN'), ('that', 'ADP'), ('*T*-2', 'X'), ('could', 'VERB'), ('lead', 'VERB'), ('to', 'PRT'), ('an', 'DET'), ('acceleration', 'NOUN'), ('of', 'ADP'), ('the', 'DET'), ('debt', 'NOUN'), ('.', '.'), ('``', '.'), ('Only', 'ADV'), ('five', 'NUM'), ('of', 'ADP'), ('the', 'DET'), ('40', 'NUM'), ('questions', 'NOUN'), ('were', 'VERB'), ('geography', 'NOUN'), ('questions', 'NOUN'), ('.', '.'), ('Mr.', 'NOUN'), ('Felten', 'NOUN'), ('said', 'VERB'), (',', '.'), ('``', '.'), ('We', 'PRON'), ('got', 'VERB'), ('what', 'PRON'), ('*T*-252', 'ADP'), ('amounted', 'VERB'), ('to', 'PRT'), ('a', 'DET'), ('parking', 'ADP'), ('ticket', 'NOUN'), (',', '.'), ('and', 'CONJ'), ('by', 'ADP'), ('*-1', 'X'), ('complaining', 'ADP'), ('about', 'ADP'), ('it', 'PRON'), (',', '.'), ('we', 'PRON'), ('ended', 'VERB'), ('up', 'ADV'), ('with', 'ADP'), ('a', 'DET'), ('sizable', 'ADJ'), ('fine', 'NOUN'), ('and', 'CONJ'), ('suspension', 'NOUN'), ('.', '.'), (\"''\", '.'), ('``', '.'), ('Florio', 'NOUN'), (\"'s\", 'PRT'), ('lying', 'VERB'), (',', '.'), (\"''\", '.'), ('the', 'DET'), ('voice', 'NOUN'), ('goes', 'VERB'), ('on', 'ADP'), (',', '.'), ('because', 'ADP'), ('``', '.'), ('the', 'DET'), ('barrel', 'NOUN'), ('on', 'ADP'), ('Courter', 'NOUN'), (\"'s\", 'PRT'), ('land', 'VERB'), ('...', '.'), ('contained', 'VERB'), ('heating', 'NOUN'), ('oil', 'NOUN'), (',', '.'), ('was', 'VERB'), ('cleaned', 'ADP'), ('*-1', 'X'), ('up', 'PRT'), ('and', 'CONJ'), ('caused', 'VERB'), ('no', 'DET'), ('pollution', 'ADP'), ('.', '.'), (\"''\", '.'), ('The', 'DET'), ('7', 'NUM'), ('5\\\\/8', 'NUM'), ('%', 'NOUN'), ('bonds', 'NOUN'), ('due', 'ADJ'), ('2009', 'NUM'), ('are', 'VERB'), ('priced', 'VERB'), ('*-2', 'X'), ('*', 'X'), ('to', 'PRT'), ('yield', 'VERB'), ('7.65', 'ADP'), ('%', 'NOUN'), (',', '.'), ('and', 'CONJ'), ('7', 'NUM'), ('5\\\\/8', 'NUM'), ('%', 'NOUN'), ('bonds', 'NOUN'), ('due', 'ADJ'), ('2029', 'NUM'), ('are', 'VERB'), ('priced', 'VERB'), ('*-1', 'X'), ('at', 'ADP'), ('98', 'NUM'), ('1\\\\/2', 'NUM'), ('*', 'X'), ('to', 'PRT'), ('yield', 'VERB'), ('7.74', 'NUM'), ('%', 'NOUN'), ('.', '.'), ('LSI', 'ADP'), ('Logic', 'ADP'), ('Corp.', 'NOUN'), ('reported', 'VERB'), ('a', 'DET'), ('surprise', 'NOUN'), ('$', '.'), ('35.7', 'NUM'), ('million', 'NUM'), ('*U*', 'X'), ('third-quarter', 'NOUN'), ('net', 'NOUN'), ('loss', 'NOUN'), (',', '.'), ('including', 'VERB'), ('a', 'DET'), ('special', 'ADJ'), ('restructuring', 'NOUN'), ('charge', 'NOUN'), ('that', 'ADP'), ('*T*-145', 'ADP'), ('reflects', 'VERB'), ('a', 'DET'), ('continuing', 'VERB'), ('industry-wide', 'ADP'), ('slowdown', 'NOUN'), ('in', 'ADP'), ('semiconductor', 'ADP'), ('demand', 'NOUN'), ('.', '.'), ('This', 'DET'), ('will', 'VERB'), ('require', 'VERB'), ('us', 'PRON'), ('to', 'PRT'), ('develop', 'VERB'), ('a', 'DET'), ('much', 'ADJ'), ('more', 'ADJ'), ('sophisticated', 'ADJ'), ('understanding', 'NOUN'), ('of', 'ADP'), ('the', 'DET'), ('dynamics', 'NOUN'), ('of', 'ADP'), ('homelessness', 'NOUN'), ('than', 'ADP'), ('we', 'PRON'), ('currently', 'ADV'), ('possess', 'ADP'), ('*?*', 'X'), (',', '.'), ('an', 'DET'), ('understanding', 'NOUN'), ('that', 'ADP'), ('*T*-1', 'X'), ('can', 'VERB'), ('be', 'VERB'), ('developed', 'VERB'), ('*-20', 'X'), ('only', 'ADV'), ('through', 'ADP'), ('careful', 'ADJ'), ('study', 'NOUN'), ('and', 'CONJ'), ('research', 'NOUN'), ('.', '.'), ('The', 'DET'), ('Van', 'NOUN'), ('Nuys', 'ADP'), (',', '.'), ('Calif.', 'NOUN'), (',', '.'), ('thrift', 'NOUN'), ('had', 'VERB'), ('net', 'ADJ'), ('income', 'NOUN'), ('of', 'ADP'), ('$', '.'), ('132,000', 'ADP'), ('*U*', 'X'), (',', '.'), ('or', 'CONJ'), ('three', 'NUM'), ('cents', 'NOUN'), ('a', 'DET'), ('share', 'NOUN'), (',', '.'), ('a', 'DET'), ('year', 'NOUN'), ('ago', 'ADP'), ('.', '.'), ('Inventories', 'ADP'), ('are', 'VERB'), ('closely', 'ADV'), ('watched', 'ADP'), ('*-1', 'X'), ('for', 'ADP'), ('such', 'ADJ'), ('clues', 'NOUN'), (',', '.'), ('for', 'ADP'), ('instance', 'NOUN'), ('.', '.'), ('RMS', 'NOUN'), ('distributes', 'ADP'), ('electronic', 'ADJ'), ('devices', 'NOUN'), ('and', 'CONJ'), ('produces', 'ADP'), ('power', 'NOUN'), ('supplies', 'VERB'), ('and', 'CONJ'), ('plastic', 'ADJ'), ('literature', 'ADP'), ('displays', 'ADP'), ('.', '.'), ('Mr.', 'NOUN'), ('Dinkins', 'NOUN'), (',', '.'), ('the', 'DET'), ('ad', 'NOUN'), ('charges', 'NOUN'), ('0', 'X'), ('*T*-2', 'X'), (',', '.'), ('also', 'ADV'), ('failed', 'VERB'), ('*-1', 'X'), ('to', 'PRT'), ('report', 'NOUN'), ('his', 'PRON'), ('campaign', 'NOUN'), ('contributions', 'ADP'), ('accurately', 'ADP'), (',', '.'), ('hid', 'ADP'), ('his', 'PRON'), ('links', 'ADP'), ('to', 'PRT'), ('a', 'DET'), ('failing', 'VERB'), ('insurance', 'NOUN'), ('company', 'NOUN'), ('and', 'CONJ'), ('paid', 'VERB'), ('a', 'DET'), ('convicted', 'VERB'), ('kidnapper', 'ADP'), ('``', '.'), ('through', 'ADP'), ('a', 'DET'), ('phony', 'ADP'), ('organization', 'NOUN'), ('with', 'ADP'), ('no', 'DET'), ('members', 'NOUN'), (',', '.'), ('no', 'DET'), ('receipts', 'NOUN'), ('and', 'CONJ'), ('no', 'DET'), ('office', 'NOUN'), ('.', '.'), (\"''\", '.'), ('Its', 'PRON'), ('cereal', 'ADP'), ('division', 'NOUN'), ('realized', 'VERB'), ('higher', 'ADJ'), ('operating', 'NOUN'), ('profit', 'NOUN'), ('on', 'ADP'), ('volume', 'NOUN'), ('increases', 'NOUN'), (',', '.'), ('but', 'CONJ'), ('also', 'ADV'), ('spent', 'VERB'), ('more', 'ADV'), ('on', 'ADP'), ('promotion', 'NOUN'), ('.', '.'), ('Thousands', 'ADP'), ('of', 'ADP'), ('East', 'NOUN'), ('Germans', 'NOUN'), ('fled', 'ADP'), ('to', 'PRT'), ('Czechoslovakia', 'NOUN'), ('after', 'ADP'), ('the', 'DET'), ('East', 'NOUN'), ('Berlin', 'NOUN'), ('government', 'NOUN'), ('lifted', 'VERB'), ('travel', 'NOUN'), ('restrictions', 'NOUN'), ('.', '.'), ('They', 'PRON'), ('are', 'VERB'), ('better', 'ADV'), ('able', 'ADJ'), ('*-1', 'X'), ('to', 'PRT'), ('get', 'VERB'), ('to', 'PRT'), ('those', 'DET'), ('segments', 'NOUN'), ('in', 'ADP'), ('the', 'DET'), ('wake', 'NOUN'), ('of', 'ADP'), ('the', 'DET'), ('deregulation', 'ADP'), ('that', 'DET'), ('*T*-200', 'ADP'), ('began', 'VERB'), ('in', 'ADP'), ('the', 'DET'), ('late', 'ADJ'), ('1970s', 'ADP'), ('.', '.'), ('The', 'DET'), ('Midwest', 'NOUN'), ('Financial', 'NOUN'), ('subsidiary', 'NOUN'), ('banks', 'NOUN'), ('will', 'VERB'), ('continue', 'VERB'), ('*-1', 'X'), ('to', 'PRT'), ('operate', 'VERB'), ('under', 'ADP'), ('their', 'PRON'), ('current', 'ADJ'), ('names', 'NOUN'), ('until', 'ADP'), ('early', 'ADJ'), ('1990', 'NUM'), (',', '.'), ('when', 'ADV'), ('each', 'DET'), ('will', 'VERB'), ('adopt', 'ADP'), ('the', 'DET'), ('First', 'NOUN'), ('of', 'ADP'), ('America', 'NOUN'), ('name', 'NOUN'), ('*T*-2', 'X'), ('.', '.'), ('But', 'CONJ'), ('the', 'DET'), ('administration', 'NOUN'), (\"'s\", 'PRT'), ('handling', 'NOUN'), ('of', 'ADP'), ('the', 'DET'), ('fetal-tissue', 'ADJ'), ('transplant', 'NOUN'), ('issue', 'NOUN'), ('disturbs', 'ADP'), ('many', 'ADJ'), ('scientists', 'NOUN'), ('.', '.'), ('In', 'ADP'), ('addition', 'NOUN'), ('to', 'PRT'), ('the', 'DET'), ('extra', 'ADJ'), ('privacy', 'NOUN'), ('of', 'ADP'), ('these', 'DET'), ('trades', 'NOUN'), (',', '.'), ('the', 'DET'), ('transactions', 'NOUN'), ('can', 'VERB'), ('often', 'ADV'), ('be', 'VERB'), ('less', 'ADJ'), ('expensive', 'ADJ'), ('*', 'X'), ('to', 'PRT'), ('execute', 'VERB'), (',', '.'), ('because', 'ADP'), ('the', 'DET'), ('parties', 'NOUN'), ('do', 'VERB'), (\"n't\", 'ADV'), ('have', 'VERB'), ('*-1', 'X'), ('to', 'PRT'), ('pay', 'VERB'), ('a', 'DET'), ('floor', 'NOUN'), ('brokerage', 'NOUN'), ('fee', 'NOUN'), ('or', 'CONJ'), ('a', 'DET'), ('specialist', 'NOUN'), (\"'s\", 'PRT'), ('fee', 'NOUN'), ('.', '.'), ('Mr.', 'NOUN'), ('McGovern', 'NOUN'), (',', '.'), ('63', 'NUM'), (',', '.'), ('had', 'VERB'), ('been', 'VERB'), ('under', 'ADP'), ('intense', 'ADJ'), ('pressure', 'NOUN'), ('*ICH*-1', 'X'), ('from', 'ADP'), ('the', 'DET'), ('board', 'NOUN'), ('*', 'X'), ('to', 'PRT'), ('boost', 'VERB'), ('Campbell', 'NOUN'), (\"'s\", 'PRT'), ('mediocre', 'ADP'), ('performance', 'NOUN'), ('to', 'PRT'), ('the', 'DET'), ('level', 'NOUN'), ('of', 'ADP'), ('other', 'ADJ'), ('food', 'NOUN'), ('companies', 'NOUN'), ('.', '.'), ('He', 'PRON'), ('also', 'ADV'), ('said', 'VERB'), ('that', 'ADP'), ('after', 'ADP'), ('the', 'DET'), ('charges', 'NOUN'), (',', '.'), ('and', 'CONJ'), ('*-1', 'X'), ('``', '.'), ('assuming', 'VERB'), ('no', 'DET'), ('dramatic', 'ADJ'), ('fluctuation', 'NOUN'), ('in', 'ADP'), ('interest', 'NOUN'), ('rates', 'NOUN'), (',', '.'), ('the', 'DET'), ('company', 'NOUN'), ('expects', 'VERB'), ('*-1', 'X'), ('to', 'PRT'), ('achieve', 'VERB'), ('near-record', 'ADP'), ('earnings', 'NOUN'), ('in', 'ADP'), ('1990', 'NUM'), ('.', '.'), (\"''\", '.'), ('Drug', 'NOUN'), ('companies', 'NOUN'), ('in', 'ADP'), ('the', 'DET'), ('key', 'ADJ'), ('index', 'NOUN'), ('also', 'ADV'), ('notched', 'ADP'), ('gains', 'NOUN'), ('as', 'ADP'), ('market-makers', 'NOUN'), ('searched', 'ADP'), ('for', 'ADP'), ('stock', 'NOUN'), ('in', 'ADP'), ('anticipation', 'NOUN'), ('of', 'ADP'), ('demand', 'NOUN'), ('due', 'ADJ'), ('to', 'PRT'), ('the', 'DET'), ('sector', 'NOUN'), (\"'s\", 'PRT'), ('defensive', 'ADJ'), ('qualities', 'ADP'), ('.', '.'), ('Dr.', 'NOUN'), ('Talcott', 'NOUN'), ('led', 'VERB'), ('a', 'DET'), ('team', 'NOUN'), ('of', 'ADP'), ('researchers', 'NOUN'), ('from', 'ADP'), ('the', 'DET'), ('National', 'NOUN'), ('Cancer', 'NOUN'), ('Institute', 'NOUN'), ('and', 'CONJ'), ('the', 'DET'), ('medical', 'ADJ'), ('schools', 'NOUN'), ('of', 'ADP'), ('Harvard', 'NOUN'), ('University', 'NOUN'), ('and', 'CONJ'), ('Boston', 'NOUN'), ('University', 'NOUN'), ('.', '.'), ('The', 'DET'), ('average', 'ADJ'), ('maturity', 'NOUN'), ('for', 'ADP'), ('funds', 'NOUN'), ('open', 'VERB'), ('only', 'ADV'), ('to', 'PRT'), ('institutions', 'NOUN'), (',', '.'), ('considered', 'VERB'), ('by', 'ADP'), ('some', 'DET'), ('*', 'X'), ('to', 'PRT'), ('be', 'VERB'), ('a', 'DET'), ('stronger', 'ADJ'), ('indicator', 'NOUN'), ('because', 'ADP'), ('those', 'DET'), ('managers', 'NOUN'), ('watch', 'VERB'), ('the', 'DET'), ('market', 'NOUN'), ('closely', 'ADV'), (',', '.'), ('reached', 'VERB'), ('a', 'DET'), ('high', 'ADJ'), ('point', 'NOUN'), ('for', 'ADP'), ('the', 'DET'), ('year', 'NOUN'), ('--', '.'), ('33', 'NUM'), ('days', 'NOUN'), ('.', '.'), ('Valley', 'NOUN'), ('Federal', 'NOUN'), ('Savings', 'NOUN'), ('&', 'CONJ'), ('Loan', 'NOUN'), (',', '.'), ('a', 'DET'), ('California', 'NOUN'), ('thrift', 'NOUN'), ('issue', 'NOUN'), (',', '.'), ('gained', 'VERB'), ('1', 'NUM'), ('to', 'PRT'), ('4', 'NUM'), ('1\\\\/4', 'NUM'), ('after', 'ADP'), ('*-1', 'X'), ('reporting', 'VERB'), ('a', 'DET'), ('third-quarter', 'NOUN'), ('loss', 'NOUN'), ('of', 'ADP'), ('$', '.'), ('70.7', 'NUM'), ('million', 'NUM'), ('*U*', 'X'), ('after', 'ADP'), ('an', 'DET'), ('$', '.'), ('89.9', 'NUM'), ('million', 'NUM'), ('*U*', 'X'), ('pretax', 'NOUN'), ('charge', 'NOUN'), ('mostly', 'ADV'), ('related', 'VERB'), ('to', 'PRT'), ('its', 'PRON'), ('mobile', 'ADJ'), ('home', 'NOUN'), ('financing', 'NOUN'), ('unit', 'NOUN'), ('.', '.'), ('``', '.'), ('A', 'DET'), ('stockbroker', 'ADP'), ('is', 'VERB'), ('an', 'DET'), ('example', 'NOUN'), ('of', 'ADP'), ('a', 'DET'), ('profession', 'ADP'), ('in', 'ADP'), ('trade', 'NOUN'), ('and', 'CONJ'), ('finance', 'NOUN'), ('...', '.'), ('.', '.'), ('For', 'ADP'), ('stock', 'NOUN'), ('indexes', 'ADP'), (',', '.'), ('the', 'DET'), ('underlying', 'ADJ'), ('investment', 'NOUN'), ('may', 'VERB'), ('be', 'VERB'), ('a', 'DET'), ('stock-index', 'ADJ'), ('futures', 'NOUN'), ('contract', 'NOUN'), ('or', 'CONJ'), ('the', 'DET'), ('cash', 'NOUN'), ('value', 'NOUN'), ('of', 'ADP'), ('a', 'DET'), ('stock', 'NOUN'), ('index', 'NOUN'), ('.', '.'), ('In', 'ADP'), ('any', 'DET'), ('case', 'NOUN'), (',', '.'), ('opinion', 'NOUN'), ('*ICH*-2', 'X'), ('is', 'VERB'), ('mixed', 'VERB'), ('on', 'ADP'), ('how', 'ADV'), ('much', 'ADV'), ('of', 'ADP'), ('a', 'DET'), ('boost', 'NOUN'), ('the', 'DET'), ('overall', 'ADJ'), ('stock', 'NOUN'), ('market', 'NOUN'), ('would', 'VERB'), ('get', 'VERB'), ('*T*-1', 'X'), ('even', 'ADV'), ('if', 'ADP'), ('dividend', 'NOUN'), ('growth', 'NOUN'), ('continues', 'VERB'), ('at', 'ADP'), ('double-digit', 'ADJ'), ('levels', 'NOUN'), ('.', '.'), ('Most', 'ADJ'), ('contracts', 'NOUN'), ('are', 'VERB'), ('simply', 'ADV'), ('nullified', 'ADP'), ('*-1', 'X'), ('by', 'ADP'), ('an', 'DET'), ('opposite', 'ADP'), ('trade', 'NOUN'), ('before', 'ADP'), ('they', 'PRON'), ('come', 'VERB'), ('due', 'ADJ'), ('.', '.'), ('``', '.'), ('At', 'ADP'), ('the', 'DET'), ('prices', 'NOUN'), ('0', 'X'), ('we', 'PRON'), ('were', 'VERB'), ('charged', 'VERB'), ('*-78', 'X'), ('*T*-1', 'X'), (',', '.'), ('there', 'DET'), ('should', 'VERB'), ('have', 'VERB'), ('been', 'VERB'), ('some', 'DET'), ('return', 'NOUN'), ('for', 'ADP'), ('the', 'DET'), ('dollar', 'NOUN'), ('.', '.'), ('ENERGY', 'NOUN'), (':', '.'), ('And', 'CONJ'), ('my', 'PRON'), ('newspaper', 'NOUN'), ('can', 'VERB'), ('print', 'VERB'), ('the', 'DET'), ('text', 'NOUN'), ('of', 'ADP'), ('those', 'DET'), ('broadcasts', 'VERB'), ('.', '.'), ('A', 'DET'), ('program', 'NOUN'), ('trade', 'NOUN'), ('of', 'ADP'), ('$', '.'), ('5', 'NUM'), ('million', 'NUM'), ('*U*', 'X'), ('of', 'ADP'), ('stock', 'NOUN'), ('typically', 'ADV'), ('earns', 'VERB'), ('a', 'DET'), ('razor-thin', 'ADP'), ('profit', 'NOUN'), ('of', 'ADP'), ('$', '.'), ('25,000', 'NUM'), ('*U*', 'X'), ('.', '.'), ('Preliminary', 'ADP'), ('tallies', 'ADP'), ('by', 'ADP'), ('the', 'DET'), ('Trade', 'NOUN'), ('and', 'CONJ'), ('Industry', 'NOUN'), ('Ministry', 'NOUN'), ('showed', 'VERB'), ('another', 'DET'), ('trade', 'NOUN'), ('deficit', 'NOUN'), ('in', 'ADP'), ('October', 'NOUN'), (',', '.'), ('the', 'DET'), ('fifth', 'ADJ'), ('monthly', 'ADJ'), ('setback', 'NOUN'), ('this', 'DET'), ('year', 'NOUN'), (',', '.'), ('*', 'X'), ('casting', 'ADP'), ('a', 'DET'), ('cloud', 'ADP'), ('on', 'ADP'), ('South', 'NOUN'), ('Korea', 'NOUN'), (\"'s\", 'PRT'), ('export-oriented', 'ADP'), ('economy', 'NOUN'), ('.', '.'), ('The', 'DET'), ('matter', 'NOUN'), ('``', '.'), ('did', 'VERB'), (\"n't\", 'ADV'), ('involve', 'VERB'), ('anybody', 'ADP'), (\"'s\", 'PRT'), ('securities', 'NOUN'), ('transactions', 'NOUN'), (',', '.'), (\"''\", '.'), ('he', 'PRON'), ('added', 'VERB'), ('0', 'X'), ('*T*-1', 'X'), ('.', '.'), ('Pan', 'ADP'), ('Am', 'ADP'), ('has', 'VERB'), ('subpoenaed', 'ADP'), ('several', 'ADJ'), ('government', 'NOUN'), ('agencies', 'NOUN'), (',', '.'), ('including', 'VERB'), ('the', 'DET'), ('CIA', 'ADP'), ('and', 'CONJ'), ('FBI', 'ADP'), (',', '.'), ('*', 'X'), ('to', 'PRT'), ('determine', 'VERB'), ('whether', 'ADP'), ('they', 'PRON'), ('were', 'VERB'), ('warned', 'VERB'), ('*-1', 'X'), ('that', 'ADP'), ('a', 'DET'), ('bomb', 'ADP'), ('had', 'VERB'), ('been', 'VERB'), ('planted', 'ADP'), ('*-2', 'X'), ('aboard', 'ADP'), ('a', 'DET'), ('jet', 'NOUN'), ('that', 'ADP'), ('*T*-3', 'X'), ('exploded', 'ADP'), ('over', 'ADP'), ('Scotland', 'ADP'), ('last', 'ADJ'), ('December', 'NOUN'), (',', '.'), ('*-4', 'X'), ('killing', 'VERB'), ('270', 'NUM'), ('people', 'NOUN'), ('.', '.'), ('They', 'PRON'), ('also', 'ADV'), ('said', 'VERB'), ('that', 'ADP'), ('more', 'ADJ'), ('than', 'ADP'), ('a', 'DET'), ('dozen', 'NOUN'), ('presidents', 'NOUN'), ('*PPA*-1', 'X'), ('have', 'VERB'), ('called', 'VERB'), ('for', 'ADP'), ('line-item', 'ADJ'), ('veto', 'NOUN'), ('authority', 'NOUN'), ('since', 'ADP'), ('the', 'DET'), ('Civil', 'ADP'), ('War', 'NOUN'), (',', '.'), ('and', 'CONJ'), ('``', '.'), ('all', 'DET'), ('have', 'VERB'), ('shared', 'ADP'), ('the', 'DET'), ('view', 'NOUN'), ('that', 'ADP'), ('such', 'ADJ'), ('lawmaking', 'ADP'), ('power', 'NOUN'), ('is', 'VERB'), ('beyond', 'ADP'), ('the', 'DET'), ('reach', 'NOUN'), (\"''\", '.'), ('of', 'ADP'), ('the', 'DET'), ('president', 'NOUN'), ('.', '.'), ('A', 'DET'), ('$', '.'), ('114', 'ADP'), ('million', 'NUM'), ('*U*', 'X'), ('issue', 'NOUN'), ('of', 'ADP'), ('health', 'NOUN'), ('facility', 'NOUN'), ('revenue', 'NOUN'), ('bonds', 'NOUN'), ('from', 'ADP'), ('the', 'DET'), ('California', 'NOUN'), ('Health', 'NOUN'), ('Facilities', 'ADP'), ('Financing', 'ADP'), ('Authority', 'ADP'), ('was', 'VERB'), ('temporarily', 'ADV'), ('withdrawn', 'VERB'), ('*-1', 'X'), ('after', 'ADP'), ('*-1', 'X'), ('being', 'VERB'), ('tentatively', 'ADV'), ('priced', 'VERB'), ('*-2', 'X'), ('by', 'ADP'), ('a', 'DET'), ('First', 'NOUN'), ('Boston', 'NOUN'), ('Corp.', 'NOUN'), ('group', 'NOUN'), ('.', '.'), ('Sales', 'NOUN'), ('rose', 'VERB'), ('to', 'PRT'), ('$', '.'), ('9.8', 'NUM'), ('million', 'NUM'), ('*U*', 'X'), ('from', 'ADP'), ('$', '.'), ('8.9', 'NUM'), ('million', 'NUM'), ('*U*', 'X'), ('.', '.'), ('This', 'DET'), ('has', 'VERB'), ('some', 'DET'), ('logic', 'NOUN'), ('.', '.'), ('These', 'DET'), ('small', 'ADJ'), ('but', 'CONJ'), ('influential', 'ADJ'), ('floor', 'NOUN'), ('brokers', 'NOUN'), ('long', 'ADV'), ('have', 'VERB'), ('earned', 'VERB'), ('fat', 'ADJ'), ('returns', 'NOUN'), ('of', 'ADP'), ('30', 'NUM'), ('%', 'NOUN'), ('to', 'PRT'), ('40', 'NUM'), ('%', 'NOUN'), ('*U*', 'X'), ('a', 'DET'), ('year', 'NOUN'), ('on', 'ADP'), ('their', 'PRON'), ('capital', 'NOUN'), (',', '.'), ('by', 'ADP'), ('virtue', 'ADP'), ('of', 'ADP'), ('their', 'PRON'), ('monopoly', 'ADP'), ('in', 'ADP'), ('*', 'X'), ('making', 'VERB'), ('markets', 'NOUN'), ('in', 'ADP'), ('individual', 'ADJ'), ('stocks', 'NOUN'), ('.', '.'), ('Dow', 'NOUN'), ('Jones', 'NOUN'), ('publishes', 'VERB'), ('The', 'DET'), ('Wall', 'NOUN'), ('Street', 'NOUN'), ('Journal', 'NOUN'), (',', '.'), ('Barron', 'ADP'), (\"'s\", 'PRT'), ('magazine', 'NOUN'), (',', '.'), ('and', 'CONJ'), ('community', 'NOUN'), ('newspapers', 'NOUN'), ('and', 'CONJ'), ('operates', 'VERB'), ('financial', 'ADJ'), ('news', 'NOUN'), ('services', 'NOUN'), ('and', 'CONJ'), ('computer', 'NOUN'), ('data', 'NOUN'), ('bases', 'NOUN'), ('.', '.'), ('Other', 'ADJ'), ('works', 'NOUN'), ('also', 'ADV'), ('have', 'VERB'), ('been', 'VERB'), ('exceeding', 'VERB'), ('price', 'NOUN'), ('estimates', 'NOUN'), ('.', '.'), ('The', 'DET'), ('fast-food', 'NOUN'), ('company', 'NOUN'), ('said', 'VERB'), ('0', 'X'), ('its', 'PRON'), ('decision', 'NOUN'), ('was', 'VERB'), ('based', 'VERB'), ('*-1', 'X'), ('on', 'ADP'), ('discussions', 'NOUN'), ('with', 'ADP'), ('a', 'DET'), ('shareholder', 'NOUN'), ('group', 'NOUN'), (',', '.'), ('Giant', 'NOUN'), ('Group', 'NOUN'), ('Ltd.', 'NOUN'), (',', '.'), ('``', '.'), ('in', 'ADP'), ('an', 'DET'), ('effort', 'NOUN'), ('*', 'X'), ('to', 'PRT'), ('resolve', 'VERB'), ('certain', 'ADJ'), ('disputes', 'NOUN'), ('with', 'ADP'), ('the', 'DET'), ('company', 'NOUN'), ('.', '.'), (\"''\", '.'), ('That', 'DET'), ('designation', 'ADP'), ('would', 'VERB'), (',', '.'), ('among', 'ADP'), ('other', 'ADJ'), ('things', 'NOUN'), (',', '.'), ('provide', 'VERB'), ('more', 'ADV'), ('generous', 'ADP'), ('credit', 'NOUN'), ('terms', 'NOUN'), ('under', 'ADP'), ('which', 'DET'), ('the', 'DET'), ('Soviets', 'NOUN'), ('could', 'VERB'), ('purchase', 'NOUN'), ('grain', 'NOUN'), ('*T*-1', 'X'), ('.', '.'), ('Prosecutors', 'NOUN'), ('alleged', 'VERB'), ('that', 'ADP'), ('she', 'PRON'), ('was', 'VERB'), ('trying', 'VERB'), ('*-1', 'X'), ('to', 'PRT'), ('bolster', 'ADP'), ('students', 'NOUN'), (\"'\", 'PRT'), ('scores', 'NOUN'), ('*-1', 'X'), ('to', 'PRT'), ('win', 'VERB'), ('a', 'DET'), ('bonus', 'NOUN'), ('under', 'ADP'), ('the', 'DET'), ('state', 'NOUN'), (\"'s\", 'PRT'), ('1984', 'NUM'), ('Education', 'NOUN'), ('Improvement', 'NOUN'), ('Act', 'NOUN'), ('.', '.'), ('Other', 'ADJ'), ('big', 'ADJ'), ('common', 'ADJ'), ('holders', 'NOUN'), ('are', 'VERB'), ('Carl', 'NOUN'), ('Lindner', 'ADP'), (\"'s\", 'PRT'), ('American', 'ADJ'), ('Financial', 'NOUN'), (',', '.'), ('investor', 'NOUN'), ('Irwin', 'ADP'), ('Jacobs', 'ADP'), ('and', 'CONJ'), ('Pacific', 'NOUN'), ('Financial', 'NOUN'), ('Research', 'NOUN'), (',', '.'), ('though', 'ADP'), ('the', 'DET'), ('latter', 'ADP'), ('cut', 'NOUN'), ('its', 'PRON'), ('stake', 'NOUN'), ('this', 'DET'), ('summer', 'NOUN'), ('.', '.'), ('Pictures', 'NOUN'), ('of', 'ADP'), ('rusted', 'ADP'), ('oil', 'NOUN'), ('drums', 'ADP'), ('swim', 'ADP'), ('into', 'ADP'), ('focus', 'NOUN'), (',', '.'), ('and', 'CONJ'), ('the', 'DET'), ('female', 'ADJ'), ('voice', 'NOUN'), ('purrs', 'ADP'), (',', '.'), ('``', '.'), ('That', 'DET'), ('hazardous', 'ADJ'), ('waste', 'NOUN'), ('on', 'ADP'), ('his', 'PRON'), ('-LCB-', '.'), ('Mr.', 'NOUN'), ('Courter', 'NOUN'), (\"'s\", 'PRT'), ('-RCB-', '.'), ('property', 'NOUN'), ('--', '.'), ('the', 'DET'), ('neighbors', 'ADP'), ('are', 'VERB'), ('suing', 'VERB'), ('for', 'ADP'), ('consumer', 'NOUN'), ('fraud', 'NOUN'), ('.', '.'), (\"''\", '.'), ('The', 'DET'), ('Texas', 'NOUN'), ('Oil', 'NOUN'), ('&', 'CONJ'), ('Gas', 'NOUN'), ('division', 'NOUN'), ('continues', 'VERB'), ('*-1', 'X'), ('to', 'PRT'), ('operate', 'VERB'), ('in', 'ADP'), ('the', 'DET'), ('red', 'ADJ'), (',', '.'), ('although', 'ADP'), ('losses', 'NOUN'), ('narrowed', 'VERB'), ('to', 'PRT'), ('$', '.'), ('9', 'NUM'), ('million', 'NUM'), ('*U*', 'X'), ('from', 'ADP'), ('$', '.'), ('15', 'NUM'), ('million', 'NUM'), ('*U*', 'X'), ('.', '.'), ('``', '.'), ('Insurance', 'NOUN'), ('agents', 'NOUN'), ('have', 'VERB'), ('been', 'VERB'), ('forced', 'VERB'), ('*-158', 'ADP'), ('by', 'ADP'), ('their', 'PRON'), ('companies', 'NOUN'), ('into', 'ADP'), ('*-2', 'X'), ('becoming', 'VERB'), ('registered', 'VERB'), ('reps', 'ADP'), (',', '.'), (\"''\", '.'), ('he', 'PRON'), ('said', 'VERB'), ('*T*-1', 'X'), (',', '.'), ('``', '.'), ('but', 'CONJ'), ('they', 'PRON'), ('are', 'VERB'), ('not', 'ADV'), ('providing', 'VERB'), ('compliance', 'NOUN'), ('and', 'CONJ'), ('security-type', 'ADP'), ('training', 'NOUN'), ('so', 'ADV'), ('that', 'ADP'), ('we', 'PRON'), ('can', 'VERB'), ('avoid', 'VERB'), ('stupid', 'ADJ'), ('mistakes', 'ADP'), ('.', '.'), (\"''\", '.'), ('Leo', 'NOUN'), ('Melamed', 'ADP'), (',', '.'), ('Merc', 'NOUN'), ('executive', 'NOUN'), ('committee', 'NOUN'), ('chairman', 'NOUN'), (',', '.'), ('said', 'VERB'), ('that', 'ADP'), ('the', 'DET'), ('12-point', 'ADJ'), ('limit', 'NOUN'), ('appeared', 'VERB'), ('*-1', 'X'), ('to', 'PRT'), ('lessen', 'ADP'), ('the', 'DET'), ('selling', 'VERB'), ('panic', 'VERB'), ('Oct.', 'NOUN'), ('13', 'NUM'), ('.', '.'), ('About', 'ADP'), ('20,000', 'NUM'), ('sets', 'NOUN'), ('of', 'ADP'), ('Learning', 'NOUN'), ('Materials', 'NOUN'), ('teachers', 'NOUN'), (\"'\", 'PRT'), ('binders', 'ADP'), ('have', 'VERB'), ('also', 'ADV'), ('been', 'VERB'), ('sold', 'VERB'), ('*-1', 'X'), ('in', 'ADP'), ('the', 'DET'), ('past', 'ADJ'), ('four', 'NUM'), ('years', 'NOUN'), ('.', '.'), ('The', 'DET'), ('move', 'NOUN'), ('leaves', 'VERB'), ('United', 'NOUN'), ('Illuminating', 'NOUN'), ('Co.', 'NOUN'), ('and', 'CONJ'), ('Northeast', 'NOUN'), ('Utilities', 'NOUN'), ('as', 'ADP'), ('the', 'DET'), ('remaining', 'VERB'), ('outside', 'ADJ'), ('bidders', 'NOUN'), ('for', 'ADP'), ('PS', 'NOUN'), ('of', 'ADP'), ('New', 'NOUN'), ('Hampshire', 'NOUN'), (',', '.'), ('which', 'DET'), ('*T*-1', 'X'), ('also', 'ADV'), ('has', 'VERB'), ('proposed', 'VERB'), ('an', 'DET'), ('internal', 'ADJ'), ('reorganization', 'NOUN'), ('plan', 'NOUN'), ('in', 'ADP'), ('Chapter', 'NOUN'), ('11', 'NUM'), ('bankruptcy', 'NOUN'), ('proceedings', 'NOUN'), ('under', 'ADP'), ('which', 'DET'), ('it', 'PRON'), ('would', 'VERB'), ('remain', 'VERB'), ('an', 'DET'), ('independent', 'ADJ'), ('company', 'NOUN'), ('*T*-2', 'X'), ('.', '.'), ('``', '.'), ('*', 'X'), ('Compare', 'ADP'), ('two', 'NUM'), ('candidates', 'NOUN'), ('for', 'ADP'), ('mayor', 'NOUN'), (',', '.'), (\"''\", '.'), ('says', 'VERB'), ('*T*-1', 'X'), ('the', 'DET'), ('announcer', 'NOUN'), ('.', '.'), ('Fifteen', 'ADP'), ('of', 'ADP'), ('the', 'DET'), ('26', 'NUM'), ('subcommittee', 'NOUN'), ('members', 'NOUN'), ('*ICH*-2', 'X'), ('attended', 'ADP'), ('the', 'DET'), ('hearing', 'NOUN'), (',', '.'), ('most', 'ADV'), ('notably', 'ADV'), ('Rep.', 'NOUN'), ('John', 'NOUN'), ('Dingell', 'NOUN'), ('-LRB-', '.'), ('D.', 'NOUN'), (',', '.'), ('Mich.', 'NOUN'), ('-RRB-', '.'), (',', '.'), ('the', 'DET'), ('full', 'ADJ'), ('House', 'NOUN'), ('Energy', 'NOUN'), ('and', 'CONJ'), ('Commerce', 'NOUN'), ('Committee', 'NOUN'), ('chairman', 'NOUN'), (',', '.'), ('who', 'PRON'), ('*T*-216', 'ADP'), ('has', 'VERB'), ('been', 'VERB'), ('willing', 'ADJ'), ('*-1', 'X'), ('to', 'PRT'), ('let', 'VERB'), ('Mr.', 'NOUN'), ('Markey', 'NOUN'), ('carry', 'VERB'), ('the', 'DET'), ('legislation', 'NOUN'), ('in', 'ADP'), ('recent', 'ADJ'), ('months', 'NOUN'), ('.', '.'), ('How', 'ADV'), (\"'s\", 'PRT'), ('that', 'DET'), ('*T*-1', 'X'), ('again', 'ADV'), ('?', '.'), ('Elisa', 'ADP'), ('Hollis', 'ADP'), ('launched', 'VERB'), ('a', 'DET'), ('diaper', 'NOUN'), ('service', 'NOUN'), ('last', 'ADJ'), ('year', 'NOUN'), ('because', 'ADP'), ('State', 'NOUN'), ('College', 'NOUN'), (',', '.'), ('Pa.', 'NOUN'), (',', '.'), ('where', 'ADV'), ('she', 'PRON'), ('lives', 'VERB'), ('*T*-1', 'X'), (',', '.'), ('did', 'VERB'), (\"n't\", 'ADV'), ('have', 'VERB'), ('one', 'NUM'), ('.', '.'), ('That', 'DET'), ('process', 'NOUN'), ('of', 'ADP'), ('*', 'X'), ('sorting', 'ADP'), ('out', 'ADP'), ('specifics', 'ADP'), ('is', 'VERB'), ('likely', 'ADJ'), ('*-1', 'X'), ('to', 'PRT'), ('take', 'VERB'), ('time', 'NOUN'), (',', '.'), ('the', 'DET'), ('Japanese', 'ADJ'), ('say', 'VERB'), ('0', 'X'), ('*T*-2', 'X'), (',', '.'), ('no', 'DET'), ('matter', 'NOUN'), ('how', 'ADV'), ('badly', 'ADV'), ('the', 'DET'), ('U.S.', 'NOUN'), ('wants', 'VERB'), ('quick', 'ADJ'), ('results', 'NOUN'), ('*T*-3', 'X'), ('.', '.'), ('Japan', 'NOUN'), (\"'s\", 'PRT'), ('commitment', 'NOUN'), ('in', 'ADP'), ('Southeast', 'NOUN'), ('Asia', 'NOUN'), ('also', 'ADV'), ('includes', 'VERB'), ('steep', 'ADJ'), ('increases', 'NOUN'), ('in', 'ADP'), ('foreign', 'ADJ'), ('assistance', 'NOUN'), ('and', 'CONJ'), ('trade', 'NOUN'), ('.', '.'), ('The', 'DET'), ('location', 'NOUN'), ('was', 'VERB'), ('disclosed', 'VERB'), ('*-4', 'X'), ('as', 'ADP'), ('the', 'DET'), ('U.S.', 'NOUN'), ('began', 'VERB'), ('*-1', 'X'), ('planning', 'VERB'), ('the', 'DET'), ('issues', 'NOUN'), ('0', 'X'), ('*T*-2', 'X'), ('to', 'PRT'), ('be', 'VERB'), ('discussed', 'VERB'), ('*-5', 'X'), ('at', 'ADP'), ('the', 'DET'), ('Dec.', 'NOUN'), ('2-3', 'ADP'), ('tete-a-tete', 'ADP'), ('.', '.'), ('In', 'ADP'), ('a', 'DET'), ('meeting', 'NOUN'), ('with', 'ADP'), ('Premier', 'ADP'), ('Li', 'NOUN'), ('Peng', 'ADP'), ('on', 'ADP'), ('Monday', 'NOUN'), (',', '.'), ('Mr.', 'NOUN'), ('Nixon', 'NOUN'), ('said', 'VERB'), ('that', 'ADP'), ('he', 'PRON'), ('hoped', 'ADP'), ('0', 'X'), ('he', 'PRON'), ('would', 'VERB'), (\"n't\", 'ADV'), ('encounter', 'ADP'), ('guards', 'NOUN'), ('with', 'ADP'), ('machine', 'NOUN'), ('guns', 'ADP'), ('during', 'ADP'), ('his', 'PRON'), ('visit', 'NOUN'), ('to', 'PRT'), ('the', 'DET'), ('U.S.', 'NOUN'), ('Embassy', 'NOUN'), ('.', '.'), ('Sales', 'NOUN'), ('rose', 'VERB'), ('11', 'NUM'), ('%', 'NOUN'), ('to', 'PRT'), ('292.32', 'ADP'), ('billion', 'NUM'), ('yen', 'NOUN'), ('from', 'ADP'), ('263.07', 'ADP'), ('billion', 'NUM'), ('yen', 'NOUN'), ('.', '.'), ('She', 'PRON'), ('won', 'VERB'), ('grant', 'VERB'), ('money', 'NOUN'), ('for', 'ADP'), ('the', 'DET'), ('school', 'NOUN'), (',', '.'), ('advised', 'VERB'), ('cheerleaders', 'ADP'), (',', '.'), ('ran', 'VERB'), ('the', 'DET'), ('pep', 'ADP'), ('club', 'NOUN'), (',', '.'), ('proposed', 'VERB'), ('and', 'CONJ'), ('taught', 'VERB'), ('a', 'DET'), ('new', 'ADJ'), ('``', '.'), ('Cultural', 'ADP'), ('Literacy', 'ADP'), (\"''\", '.'), ('class', 'NOUN'), ('in', 'ADP'), ('Western', 'ADJ'), ('Civilization', 'NOUN'), ('and', 'CONJ'), ('was', 'VERB'), ('chosen', 'VERB'), ('*-1', 'X'), ('by', 'ADP'), ('the', 'DET'), ('school', 'NOUN'), ('PTA', 'ADP'), ('as', 'ADP'), ('``', '.'), ('Teacher', 'ADP'), ('of', 'ADP'), ('the', 'DET'), ('Year', 'NOUN'), ('.', '.'), (\"''\", '.'), ('Speculation', 'NOUN'), ('on', 'ADP'), ('his', 'PRON'), ('successor', 'NOUN'), ('centers', 'NOUN'), ('on', 'ADP'), ('a', 'DET'), ('number', 'NOUN'), ('of', 'ADP'), ('division', 'NOUN'), ('heads', 'VERB'), ('at', 'ADP'), ('the', 'DET'), ('house', 'NOUN'), ('.', '.'), ('Retail', 'ADP'), ('sales', 'NOUN'), ('also', 'ADV'), ('were', 'VERB'), ('reported', 'VERB'), ('*-1', 'X'), ('*-2', 'X'), ('slow', 'VERB'), ('in', 'ADP'), ('most', 'ADJ'), ('districts', 'NOUN'), (',', '.'), ('particularly', 'ADV'), ('``', '.'), ('for', 'ADP'), ('discretionary', 'ADJ'), (',', '.'), ('big-ticket', 'ADP'), ('items', 'NOUN'), ('such', 'ADJ'), ('as', 'ADP'), ('furniture', 'NOUN'), (',', '.'), ('home', 'NOUN'), ('appliances', 'NOUN'), ('and', 'CONJ'), ('consumer', 'NOUN'), ('electronics', 'NOUN'), ('.', '.'), (\"''\", '.'), ('NEW', 'ADP'), ('ACCOUNT', 'ADP'), (':', '.'), ('Soon', 'ADV'), (',', '.'), ('T-shirts', 'ADP'), ('*ICH*-1', 'X'), ('appeared', 'VERB'), ('in', 'ADP'), ('the', 'DET'), ('corridors', 'ADP'), ('that', 'DET'), ('*T*-2', 'X'), ('carried', 'VERB'), ('the', 'DET'), ('school', 'NOUN'), (\"'s\", 'PRT'), ('familiar', 'ADJ'), ('red-and-white', 'ADP'), ('GHS', 'ADP'), ('logo', 'ADP'), ('on', 'ADP'), ('the', 'DET'), ('front', 'NOUN'), ('.', '.'), ('Mr.', 'NOUN'), ('Newhouse', 'NOUN'), (',', '.'), ('meanwhile', 'ADV'), (',', '.'), ('insisted', 'VERB'), ('that', 'ADP'), ('he', 'PRON'), ('is', 'VERB'), (\"n't\", 'ADV'), ('unhappy', 'ADJ'), ('with', 'ADP'), ('Mr.', 'NOUN'), ('Bernstein', 'NOUN'), ('or', 'CONJ'), ('the', 'DET'), ('performance', 'NOUN'), ('of', 'ADP'), ('Random', 'NOUN'), ('House', 'NOUN'), (',', '.'), ('the', 'DET'), ('largest', 'ADJ'), ('trade', 'NOUN'), ('publishing', 'NOUN'), ('house', 'NOUN'), ('in', 'ADP'), ('the', 'DET'), ('U.S.', 'NOUN'), ('.', '.'), ('But', 'CONJ'), ('there', 'DET'), ('is', 'VERB'), ('also', 'ADV'), ('a', 'DET'), ('discordant', 'ADP'), (',', '.'), ('modern', 'ADJ'), ('note', 'NOUN'), ('in', 'ADP'), ('Aslacton', 'NOUN'), (',', '.'), ('though', 'ADP'), ('it', 'PRON'), ('ca', 'VERB'), (\"n't\", 'ADV'), ('be', 'VERB'), ('heard', 'VERB'), ('*-135', 'ADP'), ('by', 'ADP'), ('the', 'DET'), ('church-goers', 'ADP'), ('enjoying', 'ADP'), ('the', 'DET'), ('peal', 'ADP'), ('of', 'ADP'), ('bells', 'NOUN'), ('this', 'DET'), ('cool', 'ADP'), ('autumn', 'NOUN'), ('evening', 'NOUN'), ('.', '.'), ('Arbitrage', 'NOUN'), ('simply', 'ADV'), ('transfers', 'NOUN'), ('his', 'PRON'), ('selling', 'VERB'), ('pressure', 'NOUN'), ('from', 'ADP'), ('Chicago', 'NOUN'), ('to', 'PRT'), ('New', 'NOUN'), ('York', 'NOUN'), (',', '.'), ('while', 'ADP'), ('*-1', 'X'), ('functioning', 'ADP'), ('as', 'ADP'), ('a', 'DET'), ('buyer', 'NOUN'), ('in', 'ADP'), ('Chicago', 'NOUN'), ('.', '.'), ('``', '.'), ('I', 'PRON'), ('have', 'VERB'), ('not', 'ADV'), ('seen', 'VERB'), ('one', 'NUM'), ('iota', 'ADP'), ('of', 'ADP'), ('evidence', 'NOUN'), (\"''\", '.'), ('0', 'X'), ('*T*-3', 'X'), ('to', 'PRT'), ('support', 'VERB'), ('restrictions', 'NOUN'), ('on', 'ADP'), ('program', 'NOUN'), ('trading', 'NOUN'), ('*T*-2', 'X'), (',', '.'), ('says', 'VERB'), ('0', 'X'), ('*T*-1', 'X'), ('a', 'DET'), ('Vanderbilt', 'NOUN'), ('University', 'NOUN'), ('finance', 'NOUN'), ('professor', 'NOUN'), (',', '.'), ('Hans', 'ADP'), ('Stoll', 'NOUN'), (',', '.'), ('an', 'DET'), ('authority', 'NOUN'), ('on', 'ADP'), ('the', 'DET'), ('subject', 'ADJ'), ('.', '.'), ('The', 'DET'), ('department', 'NOUN'), ('said', 'VERB'), ('0', 'X'), ('it', 'PRON'), ('referred', 'VERB'), ('the', 'DET'), ('takeover', 'NOUN'), ('to', 'PRT'), ('the', 'DET'), ('Monopolies', 'ADP'), ('and', 'CONJ'), ('Mergers', 'ADP'), ('Commission', 'NOUN'), ('because', 'ADP'), ('of', 'ADP'), ('the', 'DET'), ('purchase', 'NOUN'), (\"'s\", 'PRT'), ('possible', 'ADJ'), ('effects', 'NOUN'), ('on', 'ADP'), ('the', 'DET'), ('U.K.', 'NOUN'), ('market', 'NOUN'), ('for', 'ADP'), ('distribution', 'NOUN'), ('of', 'ADP'), ('replacement', 'NOUN'), ('tires', 'ADP'), ('.', '.'), ('The', 'DET'), ('concept', 'NOUN'), (\"'s\", 'PRT'), ('goal', 'NOUN'), ('was', 'VERB'), ('*', 'X'), ('to', 'PRT'), ('eliminate', 'VERB'), ('bureaucracy', 'NOUN'), ('and', 'CONJ'), ('make', 'VERB'), ('Ford', 'NOUN'), (\"'s\", 'PRT'), ('product', 'NOUN'), ('development', 'NOUN'), ('more', 'ADV'), ('responsive', 'ADP'), ('to', 'PRT'), ('consumer', 'NOUN'), ('demands', 'ADP'), ('.', '.'), ('Mr.', 'NOUN'), ('Veraldi', 'NOUN'), ('worked', 'VERB'), ('at', 'ADP'), ('Ford', 'NOUN'), ('for', 'ADP'), ('40', 'NUM'), ('years', 'NOUN'), (',', '.'), ('*-1', 'X'), ('holding', 'VERB'), ('a', 'DET'), ('variety', 'NOUN'), ('of', 'ADP'), ('car', 'NOUN'), ('and', 'CONJ'), ('parts-engineering', 'ADP'), ('positions', 'NOUN'), ('.', '.'), ('When', 'ADV'), ('it', 'PRON'), ('occurs', 'VERB'), ('*T*-1', 'X'), (',', '.'), ('the', 'DET'), ('traders', 'NOUN'), ('place', 'NOUN'), ('orders', 'NOUN'), ('*ICH*-2', 'X'), ('via', 'ADP'), ('computers', 'NOUN'), ('*', 'X'), ('to', 'PRT'), ('buy', 'VERB'), ('the', 'DET'), ('basket', 'NOUN'), ('of', 'ADP'), ('stocks', 'NOUN'), ('-LRB-', '.'), ('such', 'ADJ'), ('as', 'ADP'), ('the', 'DET'), ('500', 'NUM'), ('stocks', 'NOUN'), ('that', 'ADP'), ('*T*-3', 'X'), ('constitute', 'ADP'), ('the', 'DET'), ('Standard', 'NOUN'), ('&', 'CONJ'), ('Poor', 'NOUN'), (\"'s\", 'PRT'), ('500', 'NUM'), ('stock', 'NOUN'), ('index', 'NOUN'), ('-RRB-', '.'), ('in', 'ADP'), ('whichever', 'ADP'), ('market', 'NOUN'), ('*T*-4', 'X'), ('is', 'VERB'), ('cheaper', 'ADJ'), ('and', 'CONJ'), ('sell', 'VERB'), ('them', 'PRON'), ('in', 'ADP'), ('the', 'DET'), ('more', 'ADJ'), ('expensive', 'ADJ'), ('market', 'NOUN'), (';', '.'), ('they', 'PRON'), ('lock', 'VERB'), ('in', 'ADP'), ('the', 'DET'), ('difference', 'NOUN'), ('in', 'ADP'), ('price', 'NOUN'), ('as', 'ADP'), ('profit', 'NOUN'), ('.', '.'), ('Backe', 'NOUN'), ('Group', 'NOUN'), ('Inc.', 'NOUN'), ('agreed', 'VERB'), ('*-1', 'X'), ('to', 'PRT'), ('acquire', 'VERB'), ('Atlantic', 'NOUN'), ('Publications', 'NOUN'), ('Inc.', 'NOUN'), (',', '.'), ('which', 'DET'), ('*T*-141', 'ADP'), ('has', 'VERB'), ('30', 'NUM'), ('community', 'NOUN'), ('papers', 'ADP'), ('and', 'CONJ'), ('annual', 'ADJ'), ('sales', 'NOUN'), ('of', 'ADP'), ('$', '.'), ('7', 'NUM'), ('million', 'NUM'), ('*U*', 'X'), ('.', '.'), ('While', 'ADP'), ('Mr.', 'NOUN'), ('Dallara', 'NOUN'), ('and', 'CONJ'), ('Japanese', 'ADJ'), ('officials', 'NOUN'), ('say', 'VERB'), ('0', 'X'), ('the', 'DET'), ('question', 'NOUN'), ('of', 'ADP'), ('investors', 'NOUN'), (\"'\", 'PRT'), ('access', 'NOUN'), ('to', 'PRT'), ('the', 'DET'), ('U.S.', 'NOUN'), ('and', 'CONJ'), ('Japanese', 'ADJ'), ('markets', 'NOUN'), ('may', 'VERB'), ('get', 'VERB'), ('a', 'DET'), ('disproportionate', 'ADP'), ('share', 'NOUN'), ('of', 'ADP'), ('the', 'DET'), ('public', 'ADJ'), (\"'s\", 'PRT'), ('attention', 'NOUN'), (',', '.'), ('a', 'DET'), ('number', 'NOUN'), ('of', 'ADP'), ('other', 'ADJ'), ('important', 'ADJ'), ('economic', 'ADJ'), ('issues', 'NOUN'), ('will', 'VERB'), ('be', 'VERB'), ('on', 'ADP'), ('the', 'DET'), ('table', 'ADP'), ('at', 'ADP'), ('next', 'ADJ'), ('week', 'NOUN'), (\"'s\", 'PRT'), ('talks', 'NOUN'), ('.', '.'), ('``', '.'), ('The', 'DET'), ('sound', 'NOUN'), ('of', 'ADP'), ('bells', 'NOUN'), ('is', 'VERB'), ('a', 'DET'), ('net', 'ADJ'), ('0', 'X'), ('*T*-1', 'X'), ('to', 'PRT'), ('draw', 'VERB'), ('people', 'NOUN'), ('into', 'ADP'), ('the', 'DET'), ('church', 'NOUN'), (',', '.'), (\"''\", '.'), ('he', 'PRON'), ('says', 'VERB'), ('*T*-2', 'X'), ('.', '.'), ('Mr.', 'NOUN'), ('Samnick', 'NOUN'), (',', '.'), ('who', 'PRON'), ('*T*-135', 'ADP'), ('will', 'VERB'), ('go', 'VERB'), ('before', 'ADP'), ('the', 'DET'), ('disciplinary', 'ADJ'), ('panel', 'NOUN'), (',', '.'), ('said', 'VERB'), ('0', 'X'), ('the', 'DET'), ('proceedings', 'NOUN'), ('are', 'VERB'), ('unfair', 'ADJ'), ('and', 'CONJ'), ('that', 'DET'), ('any', 'DET'), ('punishment', 'ADP'), ('from', 'ADP'), ('the', 'DET'), ('guild', 'NOUN'), ('would', 'VERB'), ('be', 'VERB'), ('unjustified', 'ADJ'), ('.', '.'), ('BRAMALEA', 'ADP'), ('Ltd.', 'NOUN'), ('said', 'VERB'), ('0', 'X'), ('it', 'PRON'), ('agreed', 'VERB'), ('*-1', 'X'), ('to', 'PRT'), ('issue', 'NOUN'), ('100', 'NUM'), ('million', 'NUM'), ('Canadian', 'ADJ'), ('dollars', 'NOUN'), ('-LRB-', '.'), ('US$', '.'), ('85.1', 'ADP'), ('million', 'NUM'), ('*U*', 'X'), ('-RRB-', '.'), ('of', 'ADP'), ('10.5', 'ADP'), ('%', 'NOUN'), ('senior', 'ADJ'), ('debentures', 'NOUN'), ('due', 'ADJ'), ('Nov.', 'NOUN'), ('30', 'NUM'), (',', '.'), ('1999', 'NUM'), (',', '.'), ('together', 'ADV'), ('with', 'ADP'), ('100,000', 'NUM'), ('bond', 'NOUN'), ('purchase', 'NOUN'), ('warrants', 'NOUN'), ('.', '.'), ('Elsewhere', 'ADV'), (',', '.'), ('share', 'NOUN'), ('prices', 'NOUN'), ('closed', 'VERB'), ('higher', 'ADJ'), ('in', 'ADP'), ('Singapore', 'NOUN'), (',', '.'), ('Taipei', 'NOUN'), ('and', 'CONJ'), ('Wellington', 'ADP'), (',', '.'), ('were', 'VERB'), ('mixed', 'VERB'), ('in', 'ADP'), ('Hong', 'NOUN'), ('Kong', 'NOUN'), (',', '.'), ('lower', 'ADJ'), ('in', 'ADP'), ('Seoul', 'NOUN'), ('and', 'CONJ'), ('little', 'ADJ'), ('changed', 'VERB'), ('in', 'ADP'), ('Sydney', 'ADP'), ('.', '.'), ('It', 'PRON'), ('ended', 'VERB'), ('the', 'DET'), ('day', 'NOUN'), ('up', 'PRT'), ('80', 'NUM'), ('yen', 'NOUN'), ('-LRB-', '.'), ('56', 'ADP'), ('cents', 'NOUN'), ('-RRB-', '.'), ('to', 'PRT'), ('1,880', 'ADP'), ('yen', 'NOUN'), ('-LRB-', '.'), ('$', '.'), ('13.15', 'ADP'), ('*U*', 'X'), ('-RRB-', '.'), ('.', '.'), ('And', 'CONJ'), ('the', 'DET'), ('nose', 'NOUN'), ('on', 'ADP'), ('Mr.', 'NOUN'), ('Courter', 'NOUN'), (\"'s\", 'PRT'), ('face', 'VERB'), ('grows', 'VERB'), ('.', '.')]\n"
     ]
    }
   ],
   "source": [
    "print(\"Time taken in seconds: \", difference)\n",
    "print(tagged_seq)\n",
    "#print(test_run_base)"
   ]
  },
  {
   "cell_type": "code",
   "execution_count": 24,
   "metadata": {},
   "outputs": [],
   "source": [
    "# accuracy\n",
    "check = [i for i, j in zip(tagged_seq, test_run_base) if i == j] "
   ]
  },
  {
   "cell_type": "code",
   "execution_count": 25,
   "metadata": {},
   "outputs": [
    {
     "data": {
      "text/plain": [
       "0.9060496794871795"
      ]
     },
     "execution_count": 25,
     "metadata": {},
     "output_type": "execute_result"
    }
   ],
   "source": [
    "vanilla_viterbi_accuracy = len(check)/len(tagged_seq)\n",
    "vanilla_viterbi_accuracy"
   ]
  },
  {
   "cell_type": "code",
   "execution_count": 26,
   "metadata": {},
   "outputs": [],
   "source": [
    "incorrect_tagged_cases = [[test_run_base[i-1],j] for i, j in enumerate(zip(tagged_seq, test_run_base)) if j[0]!=j[1]]\n",
    "incorrect_tagged_words = [j for i, j in enumerate(zip(tagged_seq, test_run_base)) if j[0] != j[1]]"
   ]
  },
  {
   "cell_type": "code",
   "execution_count": 27,
   "metadata": {},
   "outputs": [
    {
     "name": "stdout",
     "output_type": "stream",
     "text": [
      "Total Incorrect Tagged Words : 469\n"
     ]
    }
   ],
   "source": [
    "print(\"Total Incorrect Tagged Words :\", len(incorrect_tagged_words))"
   ]
  },
  {
   "cell_type": "code",
   "execution_count": 28,
   "metadata": {},
   "outputs": [
    {
     "data": {
      "text/plain": [
       "[[('at', 'ADP'), (('more', 'ADJ'), ('more', 'ADV'))],\n",
       " [('*-1', 'X'), (('casting', 'ADP'), ('casting', 'VERB'))],\n",
       " [('solid', 'ADJ'), (('382-37', 'ADP'), ('382-37', 'NUM'))],\n",
       " [('kids', 'NOUN'), (('broke', 'ADP'), ('broke', 'VERB'))],\n",
       " [('also', 'ADV'), (('inherent', 'ADP'), ('inherent', 'ADJ'))],\n",
       " [(\"'s\", 'PRT'),\n",
       "  (('financial-services', 'NOUN'), ('financial-services', 'ADJ'))],\n",
       " [('set', 'VERB'), (('up', 'ADV'), ('up', 'PRT'))],\n",
       " [('``', '.'), (('Little', 'NOUN'), ('Little', 'ADV'))],\n",
       " [('by', 'ADP'), (('little', 'ADJ'), ('little', 'ADV'))],\n",
       " [('.', '.'), (('Steve', 'ADP'), ('Steve', 'NOUN'))],\n",
       " [('already', 'ADV'), (('laid', 'ADP'), ('laid', 'VERB'))],\n",
       " [('his', 'PRON'), (('claim', 'VERB'), ('claim', 'NOUN'))],\n",
       " [('$', '.'), (('93.9', 'ADP'), ('93.9', 'NUM'))],\n",
       " [('$', '.'), (('1.19', 'ADP'), ('1.19', 'NUM'))],\n",
       " [('$', '.'), (('92.9', 'ADP'), ('92.9', 'NUM'))],\n",
       " [('$', '.'), (('1.18', 'ADP'), ('1.18', 'NUM'))],\n",
       " [('year', 'NOUN'), (('earlier', 'ADV'), ('earlier', 'ADJ'))],\n",
       " [('to', 'PRT'), (('rebound', 'NOUN'), ('rebound', 'VERB'))],\n",
       " [('a', 'DET'), (('sound', 'NOUN'), ('sound', 'ADJ'))],\n",
       " [('no', 'DET'), (('inherent', 'ADP'), ('inherent', 'ADJ'))],\n",
       " [('inherent', 'ADJ'), (('virtue', 'ADP'), ('virtue', 'NOUN'))],\n",
       " [('.', '.'), (('Third', 'ADP'), ('Third', 'ADJ'))],\n",
       " [('$', '.'), (('11.57', 'ADP'), ('11.57', 'NUM'))],\n",
       " [('share', 'NOUN'), (('vs.', 'ADP'), ('vs.', 'CONJ'))],\n",
       " [('vs.', 'CONJ'), (('net', 'ADJ'), ('net', 'NOUN'))],\n",
       " [('benefit', 'VERB'), (('agriculture', 'ADP'), ('agriculture', 'NOUN'))],\n",
       " [('and', 'CONJ'), (('reserved', 'ADP'), ('reserved', 'VERB'))],\n",
       " [('$', '.'), (('227', 'ADP'), ('227', 'NUM'))],\n",
       " [('.', '.'), (('Experts', 'ADP'), ('Experts', 'NOUN'))],\n",
       " [('mean', 'VERB'), (('as', 'ADP'), ('as', 'ADV'))],\n",
       " [('.', '.'), (('Leighton', 'ADP'), ('Leighton', 'NOUN'))],\n",
       " [('E.', 'NOUN'), (('Cluff', 'ADP'), ('Cluff', 'NOUN'))],\n",
       " [('High', 'NOUN'), (('first', 'ADJ'), ('first', 'ADV'))],\n",
       " [('came', 'VERB'), (('out', 'PRT'), ('out', 'ADV'))],\n",
       " [('a', 'DET'), (('publication', 'ADP'), ('publication', 'NOUN'))],\n",
       " [('also', 'ADV'), (('helps', 'ADP'), ('helps', 'VERB'))],\n",
       " [('the', 'DET'), (('reluctance', 'ADP'), ('reluctance', 'NOUN'))],\n",
       " [('farm', 'NOUN'), (('lobbies', 'ADP'), ('lobbies', 'NOUN'))],\n",
       " [('.', '.'), (('Outside', 'ADP'), ('Outside', 'ADJ'))],\n",
       " [('young', 'ADJ'), (('pressman', 'ADP'), ('pressman', 'NOUN'))],\n",
       " [('pressman', 'NOUN'), (('filling', 'NOUN'), ('filling', 'VERB'))],\n",
       " [('edition', 'NOUN'), (('headlined', 'ADP'), ('headlined', 'VERB'))],\n",
       " [('Examiner', 'NOUN'), (('Closes', 'ADP'), ('Closes', 'VERB'))],\n",
       " [('succeeded', 'VERB'), (('Bennett', 'ADP'), ('Bennett', 'NOUN'))],\n",
       " [('Bennett', 'NOUN'), (('Cerf', 'ADP'), ('Cerf', 'NOUN'))],\n",
       " [('founded', 'VERB'), (('*-45', 'ADP'), ('*-45', 'X'))],\n",
       " [('in', 'ADP'), (('1925', 'ADP'), ('1925', 'NUM'))],\n",
       " [('who', 'PRON'), (('*T*-250', 'ADP'), ('*T*-250', 'X'))],\n",
       " [('reached', 'VERB'), (('*-156', 'ADP'), ('*-156', 'X'))],\n",
       " [('and', 'CONJ'), (('share', 'NOUN'), ('share', 'VERB'))],\n",
       " [('the', 'DET'), (('compassion', 'ADP'), ('compassion', 'NOUN'))],\n",
       " [('to', 'PRT'), (('offer', 'NOUN'), ('offer', 'VERB'))],\n",
       " [('of', 'ADP'), (('Solomonic', 'ADP'), ('Solomonic', 'ADJ'))],\n",
       " [('.', '.'), (('Payouts', 'ADP'), ('Payouts', 'NOUN'))],\n",
       " [('not', 'ADV'), (('expressly', 'ADP'), ('expressly', 'ADV'))],\n",
       " [('to', 'PRT'), (('Moon', 'ADP'), ('Moon', 'NOUN'))],\n",
       " [('Moon', 'NOUN'), (('Landrieu', 'ADP'), ('Landrieu', 'NOUN'))],\n",
       " [('build', 'VERB'), (('that', 'ADP'), ('that', 'DET'))],\n",
       " [(\"'s\", 'PRT'), (('cavernous', 'ADP'), ('cavernous', 'ADJ'))],\n",
       " [(',', '.'), (('money-losing', 'ADP'), ('money-losing', 'ADJ'))],\n",
       " [('*T*-2', 'X'), (('benefits', 'NOUN'), ('benefits', 'VERB'))],\n",
       " [('little', 'ADJ'), (('relevance', 'ADP'), ('relevance', 'NOUN'))],\n",
       " [('barred', 'VERB'), (('*-154', 'ADP'), ('*-154', 'X'))],\n",
       " [('#', '.'), (('722', 'ADP'), ('722', 'NUM'))],\n",
       " [('the', 'DET'), (('public', 'ADJ'), ('public', 'NOUN'))],\n",
       " [('not', 'ADV'), (('unethical', 'ADP'), ('unethical', 'ADJ'))],\n",
       " [('a', 'DET'), (('higher-salaried', 'ADP'), ('higher-salaried', 'ADJ'))],\n",
       " [('can', 'VERB'), (('boast', 'ADP'), ('boast', 'VERB'))],\n",
       " [('the', 'DET'), (('lion', 'ADP'), ('lion', 'NOUN'))],\n",
       " [('high-priced', 'ADJ'), (('bottles', 'ADP'), ('bottles', 'NOUN'))],\n",
       " [(\"'s\", 'PRT'), (('estimates', 'VERB'), ('estimates', 'NOUN'))],\n",
       " [('signing', 'VERB'), (('up', 'ADV'), ('up', 'PRT'))],\n",
       " [('picture', 'NOUN'), (('tubes', 'ADP'), ('tubes', 'NOUN'))],\n",
       " [(',', '.'), (('assemble', 'ADP'), ('assemble', 'VERB'))],\n",
       " [('and', 'CONJ'), (('export', 'NOUN'), ('export', 'VERB'))],\n",
       " [(\"n't\", 'ADV'), (('elaborate', 'VERB'), ('elaborate', 'ADJ'))],\n",
       " [('videocassette', 'NOUN'), (('piracy', 'ADP'), ('piracy', 'NOUN'))],\n",
       " [('and', 'CONJ'), (('disregard', 'ADP'), ('disregard', 'NOUN'))],\n",
       " [('$', '.'), (('244,000', 'ADP'), ('244,000', 'NUM'))],\n",
       " [('other', 'ADJ'), (('fringe', 'ADP'), ('fringe', 'NOUN'))],\n",
       " [('S.', 'NOUN'), (('Hubbell', 'ADP'), ('Hubbell', 'NOUN'))],\n",
       " [('$', '.'), (('245', 'ADP'), ('245', 'NUM'))],\n",
       " [('likely', 'ADJ'), (('next', 'ADJ'), ('next', 'ADP'))],\n",
       " [('have', 'VERB'), (('much', 'ADV'), ('much', 'ADJ'))],\n",
       " [('much', 'ADJ'), (('upside', 'ADP'), ('upside', 'ADV'))],\n",
       " [('--', '.'), (('twice', 'ADP'), ('twice', 'ADV'))],\n",
       " [('twice', 'ADV'), (('as', 'ADP'), ('as', 'ADV'))],\n",
       " [('a', 'DET'), (('subject', 'ADJ'), ('subject', 'NOUN'))],\n",
       " [('her', 'PRON'), (('favor', 'VERB'), ('favor', 'NOUN'))],\n",
       " [(',', '.'), (('that', 'DET'), ('that', 'ADP'))],\n",
       " [('so', 'ADV'), (('changes', 'VERB'), ('changes', 'NOUN'))],\n",
       " [('``', '.'), (('peal', 'ADP'), ('peal', 'NOUN'))],\n",
       " [('takes', 'VERB'), (('about', 'ADP'), ('about', 'ADV'))],\n",
       " [('law', 'NOUN'), (('clerks', 'ADP'), ('clerks', 'NOUN'))],\n",
       " [('judge', 'NOUN'), (('quipped', 'ADP'), ('quipped', 'VERB'))],\n",
       " [('those', 'DET'), (('columns', 'ADP'), ('columns', 'NOUN'))],\n",
       " [('columns', 'NOUN'), (('that', 'DET'), ('that', 'ADP'))],\n",
       " [('you', 'PRON'), (('clipped', 'ADP'), ('clipped', 'VERB'))],\n",
       " [('the', 'DET'), (('refrigerator', 'ADP'), ('refrigerator', 'NOUN'))],\n",
       " [(\"'ll\", 'VERB'), (('review', 'NOUN'), ('review', 'VERB'))],\n",
       " [('.', '.'), (('Fourteen', 'ADP'), ('Fourteen', 'NUM'))],\n",
       " [('with', 'ADP'), (('jurisdiction', 'ADP'), ('jurisdiction', 'NOUN'))],\n",
       " [('the', 'DET'), (('EEOC', 'ADP'), ('EEOC', 'NOUN'))],\n",
       " [('his', 'PRON'), (('judgment', 'ADP'), ('judgment', 'NOUN'))],\n",
       " [('Ringers', 'NOUN'), (('memorize', 'ADP'), ('memorize', 'VERB'))],\n",
       " [('which', 'DET'), (('*T*-224', 'ADP'), ('*T*-224', 'X'))],\n",
       " [('have', 'VERB'), (('odd-sounding', 'ADP'), ('odd-sounding', 'ADJ'))],\n",
       " [('Kent', 'NOUN'), (('Treble', 'ADP'), ('Treble', 'NOUN'))],\n",
       " [('or', 'CONJ'), (('Grandsire', 'ADP'), ('Grandsire', 'NOUN'))],\n",
       " [('Grandsire', 'NOUN'), (('Caters', 'ADP'), ('Caters', 'NOUN'))],\n",
       " [('.', '.'), (('Typical', 'ADP'), ('Typical', 'ADJ'))],\n",
       " [(':', '.'), (('8.60', 'ADP'), ('8.60', 'NUM'))],\n",
       " [(';', '.'), (('8.35', 'ADP'), ('8.35', 'NUM'))],\n",
       " [('can', 'VERB'), (('convince', 'ADP'), ('convince', 'VERB'))],\n",
       " [('their', 'PRON'), (('worthiness', 'ADP'), ('worthiness', 'NOUN'))],\n",
       " [('giant', 'ADJ'), (('diagram', 'ADP'), ('diagram', 'NOUN'))],\n",
       " [('with', 'ADP'), (('arrows', 'ADP'), ('arrows', 'NOUN'))],\n",
       " [(\"'s\", 'PRT'), (('polystyrene', 'ADP'), ('polystyrene', 'NOUN'))],\n",
       " [('polystyrene', 'NOUN'), (('foam', 'ADP'), ('foam', 'NOUN'))],\n",
       " [(',', '.'), (('polyproplene', 'ADP'), ('polyproplene', 'NOUN'))],\n",
       " [('and', 'CONJ'), (('polyester', 'ADP'), ('polyester', 'NOUN'))],\n",
       " [('all', 'DET'), (('plastic', 'ADJ'), ('plastic', 'NOUN'))],\n",
       " [('are', 'VERB'),\n",
       "  (('non-biodegradable', 'ADP'), ('non-biodegradable', 'ADJ'))],\n",
       " [('It', 'PRON'), (('shed', 'ADP'), ('shed', 'VERB'))],\n",
       " [('to', 'PRT'), (('tender', 'NOUN'), ('tender', 'VERB'))],\n",
       " [('Washington', 'NOUN'), (('Post', 'ADP'), ('Post', 'NOUN'))],\n",
       " [('the', 'DET'), (('leeway', 'ADP'), ('leeway', 'NOUN'))],\n",
       " [('leeway', 'NOUN'), (('that', 'DET'), ('that', 'ADP'))],\n",
       " [('means', 'VERB'), (('that', 'ADP'), ('that', 'DET'))],\n",
       " [('to', 'PRT'), (('top', 'ADJ'), ('top', 'VERB'))],\n",
       " [('The', 'DET'), (('Fairlawn', 'ADP'), ('Fairlawn', 'NOUN'))],\n",
       " [('said', 'VERB'), (('that', 'ADP'), ('that', 'DET'))],\n",
       " [('that', 'DET'), (('full-year', 'ADP'), ('full-year', 'ADJ'))],\n",
       " [('$', '.'), (('148', 'ADP'), ('148', 'NUM'))],\n",
       " [('.', '.'), (('Follow-up', 'ADP'), ('Follow-up', 'ADJ'))],\n",
       " [('the', 'DET'), (('twindam', 'ADP'), ('twindam', 'NOUN'))],\n",
       " [('asbestos', 'NOUN'), (('fiber', 'ADP'), ('fiber', 'NOUN'))],\n",
       " [('unusually', 'ADV'), (('resilient', 'ADP'), ('resilient', 'ADJ'))],\n",
       " [('resilient', 'ADJ'), (('once', 'ADV'), ('once', 'ADP'))],\n",
       " [('the', 'DET'), (('lungs', 'ADP'), ('lungs', 'NOUN'))],\n",
       " [('causing', 'VERB'), (('symptoms', 'ADP'), ('symptoms', 'NOUN'))],\n",
       " [('show', 'VERB'), (('up', 'ADV'), ('up', 'PRT'))],\n",
       " [('to', 'PRT'), (('craft', 'ADP'), ('craft', 'VERB'))],\n",
       " [('opportunities', 'NOUN'), (('arise', 'ADP'), ('arise', 'VERB'))],\n",
       " [('a', 'DET'), (('buy', 'VERB'), ('buy', 'NOUN'))],\n",
       " [('or', 'CONJ'), (('sell', 'VERB'), ('sell', 'NOUN'))],\n",
       " [('stocks', 'NOUN'), (('that', 'ADP'), ('that', 'DET'))],\n",
       " [('make', 'VERB'), (('up', 'ADV'), ('up', 'PRT'))],\n",
       " [('more', 'ADV'), (('cumbersome', 'ADP'), ('cumbersome', 'ADJ'))],\n",
       " [('electronic', 'ADJ'), (('giveaways', 'ADP'), ('giveaways', 'NOUN'))],\n",
       " [('to', 'PRT'), (('subscribers', 'ADP'), ('subscribers', 'NOUN'))],\n",
       " [('as', 'ADP'), (('telephones', 'ADP'), ('telephones', 'NOUN'))],\n",
       " [('10,000', 'NUM'), (('parking', 'ADP'), ('parking', 'NOUN'))],\n",
       " [('year', 'NOUN'), (('reversed', 'ADP'), ('reversed', 'VERB'))],\n",
       " [('has', 'VERB'), (('chilled', 'ADP'), ('chilled', 'VERB'))],\n",
       " [('point', 'NOUN'), (('off', 'PRT'), ('off', 'ADP'))],\n",
       " [('advertised', 'VERB'), (('finance', 'VERB'), ('finance', 'NOUN'))],\n",
       " [('of', 'ADP'), (('excesses', 'ADP'), ('excesses', 'NOUN'))],\n",
       " [('*ICH*-1', 'X'), (('out', 'PRT'), ('out', 'ADP'))],\n",
       " [('out', 'ADP'), (('there', 'DET'), ('there', 'ADV'))],\n",
       " [('there', 'ADV'), (('that', 'ADP'), ('that', 'DET'))],\n",
       " [('would', 'VERB'), (('tilt', 'ADP'), ('tilt', 'VERB'))],\n",
       " [(',', '.'), (('money-fund', 'ADP'), ('money-fund', 'NOUN'))],\n",
       " [('``', '.'), (('filled', 'ADP'), ('filled', 'VERB'))],\n",
       " [('the', 'DET'), (('solemn', 'ADP'), ('solemn', 'ADJ'))],\n",
       " [('solemn', 'ADJ'), (('intoxication', 'ADP'), ('intoxication', 'NOUN'))],\n",
       " [('that', 'DET'), (('*T*-226', 'ADP'), ('*T*-226', 'X'))],\n",
       " [('of', 'ADP'), (('intricate', 'ADP'), ('intricate', 'ADJ'))],\n",
       " [('intricate', 'ADJ'), (('ritual', 'ADP'), ('ritual', 'NOUN'))],\n",
       " [('ritual', 'NOUN'), (('faultlessly', 'ADP'), ('faultlessly', 'ADV'))],\n",
       " [('conversations', 'NOUN'), (('that', 'ADP'), ('that', 'DET'))],\n",
       " [('*', 'X'), (('tracking', 'ADP'), ('tracking', 'VERB'))],\n",
       " [('tracking', 'VERB'), (('down', 'ADV'), ('down', 'PRT'))],\n",
       " [('whose', 'PRON'), (('addresses', 'ADP'), ('addresses', 'NOUN'))],\n",
       " [('administrative', 'ADJ'), (('nightmare', 'ADP'), ('nightmare', 'NOUN'))],\n",
       " [('a', 'DET'), (('lynch-mob', 'ADP'), ('lynch-mob', 'ADJ'))],\n",
       " [('psychology', 'NOUN'), (('right', 'NOUN'), ('right', 'ADV'))],\n",
       " [('Mark', 'NOUN'), (('Shepperd', 'ADP'), ('Shepperd', 'NOUN'))],\n",
       " [('at', 'ADP'), (('UBS', 'ADP'), ('UBS', 'NOUN'))],\n",
       " [('&', 'CONJ'), (('Drew', 'ADP'), ('Drew', 'NOUN'))],\n",
       " [('fairly', 'ADV'), (('irrelevant', 'ADP'), ('irrelevant', 'ADJ'))],\n",
       " [('factors', 'NOUN'), (('affecting', 'ADP'), ('affecting', 'VERB'))],\n",
       " [('out', 'PRT'), (('that', 'DET'), ('that', 'ADP'))],\n",
       " [('may', 'VERB'), (('predispose', 'ADP'), ('predispose', 'VERB'))],\n",
       " [('a', 'DET'), (('consequence', 'ADP'), ('consequence', 'NOUN'))],\n",
       " [('is', 'VERB'), (('composed', 'ADP'), ('composed', 'VERB'))],\n",
       " [('lacks', 'VERB'), (('adequate', 'ADP'), ('adequate', 'ADJ'))],\n",
       " [('was', 'VERB'), (('kind', 'NOUN'), ('kind', 'ADJ'))],\n",
       " [('and', 'CONJ'), (('playful', 'ADP'), ('playful', 'ADJ'))],\n",
       " [('was', 'VERB'), (('dreadful', 'ADP'), ('dreadful', 'ADJ'))],\n",
       " [('her', 'PRON'), (('war-damaged', 'ADP'), ('war-damaged', 'ADJ'))],\n",
       " [('her', 'PRON'), (('lover', 'ADP'), ('lover', 'NOUN'))],\n",
       " [('rose', 'VERB'), (('1.20', 'ADP'), ('1.20', 'NUM'))],\n",
       " [('$', '.'), (('1.14', 'ADP'), ('1.14', 'NUM'))],\n",
       " [('--', '.'), (('271,124', 'ADP'), ('271,124', 'NUM'))],\n",
       " [('the', 'DET'), (('400,000', 'ADP'), ('400,000', 'NUM'))],\n",
       " [(\"'s\", 'PRT'), (('Eagleton', 'ADP'), ('Eagleton', 'NOUN'))],\n",
       " [('ad', 'NOUN'), (('that', 'ADP'), ('that', 'DET'))],\n",
       " [('*T*-1', 'X'), ((\"'s\", 'PRT'), (\"'s\", 'VERB'))],\n",
       " [('several', 'ADJ'), (('youthful', 'ADP'), ('youthful', 'ADJ'))],\n",
       " [(\"'s\", 'PRT'), (('brat', 'ADP'), ('brat', 'NOUN'))],\n",
       " [('brat', 'NOUN'), (('pack', 'ADP'), ('pack', 'NOUN'))],\n",
       " [('are', 'VERB'), (('dominating', 'ADP'), ('dominating', 'VERB'))],\n",
       " [('the', 'DET'), (('best-seller', 'ADP'), ('best-seller', 'NOUN'))],\n",
       " [('best-seller', 'NOUN'), (('charts', 'ADP'), ('charts', 'NOUN'))],\n",
       " [('continually', 'ADV'), (('advise', 'ADP'), ('advise', 'VERB'))],\n",
       " [('of', 'ADP'), (('excise', 'VERB'), ('excise', 'ADJ'))],\n",
       " [('too', 'ADV'), (('low', 'ADJ'), ('low', 'ADV'))],\n",
       " [('most', 'ADJ'), (('practical', 'ADP'), ('practical', 'ADJ'))],\n",
       " [('weak', 'ADJ'), (('links', 'ADP'), ('links', 'NOUN'))],\n",
       " [('*', 'X'), (('upsetting', 'ADP'), ('upsetting', 'VERB'))],\n",
       " [('Basin', 'NOUN'), (('allies', 'ADP'), ('allies', 'NOUN'))],\n",
       " [('apparently', 'ADV'), (('instructed', 'ADP'), ('instructed', 'VERB'))],\n",
       " [('its', 'PRON'), (('lobbyist', 'ADP'), ('lobbyist', 'NOUN'))],\n",
       " [('initially', 'ADV'), (('drafted', 'ADP'), ('drafted', 'VERB'))],\n",
       " [('to', 'PRT'), (('insert', 'ADP'), ('insert', 'VERB'))],\n",
       " [('a', 'DET'), (('claim', 'VERB'), ('claim', 'NOUN'))],\n",
       " [(',', '.'), (('so', 'ADV'), ('so', 'ADP'))],\n",
       " [('the', 'DET'), (('lieutenant', 'ADP'), ('lieutenant', 'NOUN'))],\n",
       " [('.', '.'), (('ASLACTON', 'ADP'), ('ASLACTON', 'NOUN'))],\n",
       " [('*', 'X'), (('Determining', 'ADP'), ('Determining', 'VERB'))],\n",
       " [('may', 'VERB'), (('enable', 'ADP'), ('enable', 'VERB'))],\n",
       " [('develop', 'VERB'), (('better', 'ADV'), ('better', 'ADJ'))],\n",
       " [('needed', 'VERB'),\n",
       "  (('crystal-lattice', 'ADJ'), ('crystal-lattice', 'NOUN'))],\n",
       " [('very', 'ADV'), (('persuasive', 'ADP'), ('persuasive', 'ADJ'))],\n",
       " [('a', 'DET'), (('solicitor', 'ADP'), ('solicitor', 'NOUN'))],\n",
       " [('.', '.'), (('DOONESBURY', 'ADP'), ('DOONESBURY', 'NOUN'))],\n",
       " [('DOONESBURY', 'NOUN'), ((\"CREATOR'S\", 'ADP'), (\"CREATOR'S\", 'NOUN'))],\n",
       " [(\"CREATOR'S\", 'NOUN'), (('UNION', 'ADP'), ('UNION', 'NOUN'))],\n",
       " [('UNION', 'NOUN'), (('TROUBLES', 'ADP'), ('TROUBLES', 'NOUN'))],\n",
       " [('no', 'DET'), (('laughing', 'VERB'), ('laughing', 'ADJ'))],\n",
       " [('``', '.'), (('scrupulously', 'ADP'), ('scrupulously', 'ADV'))],\n",
       " [('*-1', 'X'), (('replicating', 'ADP'), ('replicating', 'VERB'))],\n",
       " [('on', 'ADP'), (('recycled', 'ADP'), ('recycled', 'VERB'))],\n",
       " [('launched', 'VERB'), (('*-45', 'ADP'), ('*-45', 'X'))],\n",
       " [('the', 'DET'), (('more-advanced', 'ADP'), ('more-advanced', 'ADJ'))],\n",
       " [('386', 'NUM'), (('microprocessor', 'ADP'), ('microprocessor', 'NOUN'))],\n",
       " [('four', 'NUM'), (('megabytes', 'ADP'), ('megabytes', 'NOUN'))],\n",
       " [('a', 'DET'), (('100-megabyte', 'ADP'), ('100-megabyte', 'ADJ'))],\n",
       " [('$', '.'), (('5,699', 'ADP'), ('5,699', 'NUM'))],\n",
       " [('$', '.'), (('6,799', 'ADP'), ('6,799', 'NUM'))],\n",
       " [('almost', 'ADV'), (('single-handed', 'ADP'), ('single-handed', 'ADJ'))],\n",
       " [('buy', 'VERB'), ((\"'86\", 'ADP'), (\"'86\", 'NUM'))],\n",
       " [(',', '.'), (('as', 'ADP'), ('as', 'ADV'))],\n",
       " [('as', 'ADP'), (('Opus', 'ADP'), ('Opus', 'NOUN'))],\n",
       " [('and', 'CONJ'), (('Dominus', 'ADP'), ('Dominus', 'NOUN'))],\n",
       " [('.', '.'), (('Nearby', 'ADP'), ('Nearby', 'ADJ'))],\n",
       " [('as', 'ADP'), (('Pasadena', 'ADP'), ('Pasadena', 'NOUN'))],\n",
       " [('and', 'CONJ'), (('Long', 'ADJ'), ('Long', 'NOUN'))],\n",
       " [('The', 'DET'), (('minimum-wage', 'ADP'), ('minimum-wage', 'NOUN'))],\n",
       " [('of', 'ADP'), (('filter', 'ADP'), ('filter', 'NOUN'))],\n",
       " [(',', '.'), (('U.S.-Japanese', 'ADP'), ('U.S.-Japanese', 'ADJ'))],\n",
       " [('economic', 'ADJ'), (('behemoth', 'ADP'), ('behemoth', 'NOUN'))],\n",
       " [('*U*', 'X'), (('gain', 'VERB'), ('gain', 'NOUN'))],\n",
       " [('thing', 'NOUN'), (('that', 'ADP'), ('that', 'DET'))],\n",
       " [('market', 'NOUN'), (('right', 'NOUN'), ('right', 'ADV'))],\n",
       " [('right', 'ADV'), (('open', 'VERB'), ('open', 'ADJ'))],\n",
       " [('is', 'VERB'), (('merchandising', 'ADP'), ('merchandising', 'NOUN'))],\n",
       " [('the', 'DET'), (('1970s', 'ADP'), ('1970s', 'NUM'))],\n",
       " [('default', 'NOUN'), (('that', 'ADP'), ('that', 'DET'))],\n",
       " [('what', 'PRON'), (('*T*-252', 'ADP'), ('*T*-252', 'X'))],\n",
       " [('a', 'DET'), (('parking', 'ADP'), ('parking', 'NOUN'))],\n",
       " [('*-1', 'X'), (('complaining', 'ADP'), ('complaining', 'VERB'))],\n",
       " [('ended', 'VERB'), (('up', 'ADV'), ('up', 'PRT'))],\n",
       " [('Florio', 'NOUN'), ((\"'s\", 'PRT'), (\"'s\", 'VERB'))],\n",
       " [('goes', 'VERB'), (('on', 'ADP'), ('on', 'PRT'))],\n",
       " [(\"'s\", 'PRT'), (('land', 'VERB'), ('land', 'NOUN'))],\n",
       " [('was', 'VERB'), (('cleaned', 'ADP'), ('cleaned', 'VERB'))],\n",
       " [('no', 'DET'), (('pollution', 'ADP'), ('pollution', 'NOUN'))],\n",
       " [('yield', 'VERB'), (('7.65', 'ADP'), ('7.65', 'NUM'))],\n",
       " [('.', '.'), (('LSI', 'ADP'), ('LSI', 'NOUN'))],\n",
       " [('LSI', 'NOUN'), (('Logic', 'ADP'), ('Logic', 'NOUN'))],\n",
       " [('*U*', 'X'), (('third-quarter', 'NOUN'), ('third-quarter', 'ADJ'))],\n",
       " [('third-quarter', 'ADJ'), (('net', 'NOUN'), ('net', 'ADJ'))],\n",
       " [('charge', 'NOUN'), (('that', 'ADP'), ('that', 'DET'))],\n",
       " [('that', 'DET'), (('*T*-145', 'ADP'), ('*T*-145', 'X'))],\n",
       " [('continuing', 'VERB'),\n",
       "  (('industry-wide', 'ADP'), ('industry-wide', 'ADJ'))],\n",
       " [('in', 'ADP'), (('semiconductor', 'ADP'), ('semiconductor', 'NOUN'))],\n",
       " [('a', 'DET'), (('much', 'ADJ'), ('much', 'ADV'))],\n",
       " [('much', 'ADV'), (('more', 'ADJ'), ('more', 'ADV'))],\n",
       " [('currently', 'ADV'), (('possess', 'ADP'), ('possess', 'VERB'))],\n",
       " [('understanding', 'NOUN'), (('that', 'ADP'), ('that', 'DET'))],\n",
       " [('Van', 'NOUN'), (('Nuys', 'ADP'), ('Nuys', 'NOUN'))],\n",
       " [('$', '.'), (('132,000', 'ADP'), ('132,000', 'NUM'))],\n",
       " [('.', '.'), (('Inventories', 'ADP'), ('Inventories', 'NOUN'))],\n",
       " [('closely', 'ADV'), (('watched', 'ADP'), ('watched', 'VERB'))],\n",
       " [('RMS', 'NOUN'), (('distributes', 'ADP'), ('distributes', 'VERB'))],\n",
       " [('and', 'CONJ'), (('produces', 'ADP'), ('produces', 'VERB'))],\n",
       " [('power', 'NOUN'), (('supplies', 'VERB'), ('supplies', 'NOUN'))],\n",
       " [('plastic', 'ADJ'), (('literature', 'ADP'), ('literature', 'NOUN'))],\n",
       " [('literature', 'NOUN'), (('displays', 'ADP'), ('displays', 'NOUN'))],\n",
       " [('ad', 'NOUN'), (('charges', 'NOUN'), ('charges', 'VERB'))],\n",
       " [('to', 'PRT'), (('report', 'NOUN'), ('report', 'VERB'))],\n",
       " [('campaign', 'NOUN'), (('contributions', 'ADP'), ('contributions', 'NOUN'))],\n",
       " [('contributions', 'NOUN'), (('accurately', 'ADP'), ('accurately', 'ADV'))],\n",
       " [(',', '.'), (('hid', 'ADP'), ('hid', 'VERB'))],\n",
       " [('his', 'PRON'), (('links', 'ADP'), ('links', 'NOUN'))],\n",
       " [('convicted', 'VERB'), (('kidnapper', 'ADP'), ('kidnapper', 'NOUN'))],\n",
       " [('a', 'DET'), (('phony', 'ADP'), ('phony', 'ADJ'))],\n",
       " [('Its', 'PRON'), (('cereal', 'ADP'), ('cereal', 'NOUN'))],\n",
       " [('higher', 'ADJ'), (('operating', 'NOUN'), ('operating', 'VERB'))],\n",
       " [('spent', 'VERB'), (('more', 'ADV'), ('more', 'ADJ'))],\n",
       " [('.', '.'), (('Thousands', 'ADP'), ('Thousands', 'NOUN'))],\n",
       " [('Germans', 'NOUN'), (('fled', 'ADP'), ('fled', 'VERB'))],\n",
       " [('the', 'DET'), (('deregulation', 'ADP'), ('deregulation', 'NOUN'))],\n",
       " [('that', 'DET'), (('*T*-200', 'ADP'), ('*T*-200', 'X'))],\n",
       " [('late', 'ADJ'), (('1970s', 'ADP'), ('1970s', 'NUM'))],\n",
       " [('will', 'VERB'), (('adopt', 'ADP'), ('adopt', 'VERB'))],\n",
       " [('issue', 'NOUN'), (('disturbs', 'ADP'), ('disturbs', 'VERB'))],\n",
       " [('be', 'VERB'), (('less', 'ADJ'), ('less', 'ADV'))],\n",
       " [(\"'s\", 'PRT'), (('mediocre', 'ADP'), ('mediocre', 'ADJ'))],\n",
       " [('achieve', 'VERB'), (('near-record', 'ADP'), ('near-record', 'ADJ'))],\n",
       " [('also', 'ADV'), (('notched', 'ADP'), ('notched', 'VERB'))],\n",
       " [('market-makers', 'NOUN'), (('searched', 'ADP'), ('searched', 'VERB'))],\n",
       " [('defensive', 'ADJ'), (('qualities', 'ADP'), ('qualities', 'NOUN'))],\n",
       " [('funds', 'NOUN'), (('open', 'VERB'), ('open', 'ADJ'))],\n",
       " [('a', 'DET'), (('third-quarter', 'NOUN'), ('third-quarter', 'ADJ'))],\n",
       " [('*U*', 'X'), (('pretax', 'NOUN'), ('pretax', 'ADJ'))],\n",
       " [('mostly', 'ADV'), (('related', 'VERB'), ('related', 'ADJ'))],\n",
       " [('home', 'NOUN'), (('financing', 'NOUN'), ('financing', 'VERB'))],\n",
       " [('A', 'DET'), (('stockbroker', 'ADP'), ('stockbroker', 'NOUN'))],\n",
       " [('a', 'DET'), (('profession', 'ADP'), ('profession', 'NOUN'))],\n",
       " [('stock', 'NOUN'), (('indexes', 'ADP'), ('indexes', 'NOUN'))],\n",
       " [('the', 'DET'), (('underlying', 'ADJ'), ('underlying', 'VERB'))],\n",
       " [('a', 'DET'), (('stock-index', 'ADJ'), ('stock-index', 'NOUN'))],\n",
       " [('how', 'ADV'), (('much', 'ADV'), ('much', 'ADJ'))],\n",
       " [('simply', 'ADV'), (('nullified', 'ADP'), ('nullified', 'VERB'))],\n",
       " [('an', 'DET'), (('opposite', 'ADP'), ('opposite', 'ADJ'))],\n",
       " [('those', 'DET'), (('broadcasts', 'VERB'), ('broadcasts', 'NOUN'))],\n",
       " [('a', 'DET'), (('razor-thin', 'ADP'), ('razor-thin', 'ADJ'))],\n",
       " [('.', '.'), (('Preliminary', 'ADP'), ('Preliminary', 'ADJ'))],\n",
       " [('Preliminary', 'ADJ'), (('tallies', 'ADP'), ('tallies', 'NOUN'))],\n",
       " [('*', 'X'), (('casting', 'ADP'), ('casting', 'VERB'))],\n",
       " [('a', 'DET'), (('cloud', 'ADP'), ('cloud', 'NOUN'))],\n",
       " [(\"'s\", 'PRT'), (('export-oriented', 'ADP'), ('export-oriented', 'ADJ'))],\n",
       " [('involve', 'VERB'), (('anybody', 'ADP'), ('anybody', 'NOUN'))],\n",
       " [('.', '.'), (('Pan', 'ADP'), ('Pan', 'NOUN'))],\n",
       " [('Pan', 'NOUN'), (('Am', 'ADP'), ('Am', 'VERB'))],\n",
       " [('has', 'VERB'), (('subpoenaed', 'ADP'), ('subpoenaed', 'VERB'))],\n",
       " [('the', 'DET'), (('CIA', 'ADP'), ('CIA', 'NOUN'))],\n",
       " [('and', 'CONJ'), (('FBI', 'ADP'), ('FBI', 'NOUN'))],\n",
       " [('a', 'DET'), (('bomb', 'ADP'), ('bomb', 'NOUN'))],\n",
       " [('been', 'VERB'), (('planted', 'ADP'), ('planted', 'VERB'))],\n",
       " [('jet', 'NOUN'), (('that', 'ADP'), ('that', 'DET'))],\n",
       " [('*T*-3', 'X'), (('exploded', 'ADP'), ('exploded', 'VERB'))],\n",
       " [('over', 'ADP'), (('Scotland', 'ADP'), ('Scotland', 'NOUN'))],\n",
       " [('the', 'DET'), (('Civil', 'ADP'), ('Civil', 'NOUN'))],\n",
       " [('have', 'VERB'), (('shared', 'ADP'), ('shared', 'VERB'))],\n",
       " [('such', 'ADJ'), (('lawmaking', 'ADP'), ('lawmaking', 'ADJ'))],\n",
       " [('$', '.'), (('114', 'ADP'), ('114', 'NUM'))],\n",
       " [('Health', 'NOUN'), (('Facilities', 'ADP'), ('Facilities', 'NOUN'))],\n",
       " [('Facilities', 'NOUN'), (('Financing', 'ADP'), ('Financing', 'NOUN'))],\n",
       " [('Financing', 'NOUN'), (('Authority', 'ADP'), ('Authority', 'NOUN'))],\n",
       " [('by', 'ADP'), (('virtue', 'ADP'), ('virtue', 'NOUN'))],\n",
       " [('their', 'PRON'), (('monopoly', 'ADP'), ('monopoly', 'NOUN'))],\n",
       " [('publishes', 'VERB'), (('The', 'DET'), ('The', 'NOUN'))],\n",
       " [(',', '.'), (('Barron', 'ADP'), ('Barron', 'NOUN'))],\n",
       " [('That', 'DET'), (('designation', 'ADP'), ('designation', 'NOUN'))],\n",
       " [('more', 'ADV'), (('generous', 'ADP'), ('generous', 'ADJ'))],\n",
       " [('could', 'VERB'), (('purchase', 'NOUN'), ('purchase', 'VERB'))],\n",
       " [('to', 'PRT'), (('bolster', 'ADP'), ('bolster', 'VERB'))],\n",
       " [('Carl', 'NOUN'), (('Lindner', 'ADP'), ('Lindner', 'NOUN'))],\n",
       " [(\"'s\", 'PRT'), (('American', 'ADJ'), ('American', 'NOUN'))],\n",
       " [('investor', 'NOUN'), (('Irwin', 'ADP'), ('Irwin', 'NOUN'))],\n",
       " [('Irwin', 'NOUN'), (('Jacobs', 'ADP'), ('Jacobs', 'NOUN'))],\n",
       " [('the', 'DET'), (('latter', 'ADP'), ('latter', 'NOUN'))],\n",
       " [('latter', 'NOUN'), (('cut', 'NOUN'), ('cut', 'VERB'))],\n",
       " [('of', 'ADP'), (('rusted', 'ADP'), ('rusted', 'VERB'))],\n",
       " [('oil', 'NOUN'), (('drums', 'ADP'), ('drums', 'NOUN'))],\n",
       " [('drums', 'NOUN'), (('swim', 'ADP'), ('swim', 'VERB'))],\n",
       " [('voice', 'NOUN'), (('purrs', 'ADP'), ('purrs', 'VERB'))],\n",
       " [('the', 'DET'), (('neighbors', 'ADP'), ('neighbors', 'NOUN'))],\n",
       " [('the', 'DET'), (('red', 'ADJ'), ('red', 'NOUN'))],\n",
       " [('forced', 'VERB'), (('*-158', 'ADP'), ('*-158', 'X'))],\n",
       " [('registered', 'VERB'), (('reps', 'ADP'), ('reps', 'NOUN'))],\n",
       " [('and', 'CONJ'), (('security-type', 'ADP'), ('security-type', 'ADJ'))],\n",
       " [('training', 'NOUN'), (('so', 'ADV'), ('so', 'ADP'))],\n",
       " [('stupid', 'ADJ'), (('mistakes', 'ADP'), ('mistakes', 'NOUN'))],\n",
       " [('Leo', 'NOUN'), (('Melamed', 'ADP'), ('Melamed', 'NOUN'))],\n",
       " [('to', 'PRT'), (('lessen', 'ADP'), ('lessen', 'VERB'))],\n",
       " [('the', 'DET'), (('selling', 'VERB'), ('selling', 'NOUN'))],\n",
       " [('selling', 'NOUN'), (('panic', 'VERB'), ('panic', 'NOUN'))],\n",
       " [(\"'\", 'PRT'), (('binders', 'ADP'), ('binders', 'NOUN'))],\n",
       " [('*', 'X'), (('Compare', 'ADP'), ('Compare', 'VERB'))],\n",
       " [('.', '.'), (('Fifteen', 'ADP'), ('Fifteen', 'NUM'))],\n",
       " [('*ICH*-2', 'X'), (('attended', 'ADP'), ('attended', 'VERB'))],\n",
       " [('who', 'PRON'), (('*T*-216', 'ADP'), ('*T*-216', 'X'))],\n",
       " [('How', 'ADV'), ((\"'s\", 'PRT'), (\"'s\", 'VERB'))],\n",
       " [('?', '.'), (('Elisa', 'ADP'), ('Elisa', 'NOUN'))],\n",
       " [('Elisa', 'NOUN'), (('Hollis', 'ADP'), ('Hollis', 'NOUN'))],\n",
       " [('*', 'X'), (('sorting', 'ADP'), ('sorting', 'VERB'))],\n",
       " [('sorting', 'VERB'), (('out', 'ADP'), ('out', 'PRT'))],\n",
       " [('out', 'PRT'), (('specifics', 'ADP'), ('specifics', 'NOUN'))],\n",
       " [('the', 'DET'), (('Japanese', 'ADJ'), ('Japanese', 'NOUN'))],\n",
       " [('Dec.', 'NOUN'), (('2-3', 'ADP'), ('2-3', 'NUM'))],\n",
       " [('2-3', 'NUM'), (('tete-a-tete', 'ADP'), ('tete-a-tete', 'NOUN'))],\n",
       " [('with', 'ADP'), (('Premier', 'ADP'), ('Premier', 'NOUN'))],\n",
       " [('Li', 'NOUN'), (('Peng', 'ADP'), ('Peng', 'NOUN'))],\n",
       " [('he', 'PRON'), (('hoped', 'ADP'), ('hoped', 'VERB'))],\n",
       " [(\"n't\", 'ADV'), (('encounter', 'ADP'), ('encounter', 'VERB'))],\n",
       " [('machine', 'NOUN'), (('guns', 'ADP'), ('guns', 'NOUN'))],\n",
       " [('to', 'PRT'), (('292.32', 'ADP'), ('292.32', 'NUM'))],\n",
       " [('from', 'ADP'), (('263.07', 'ADP'), ('263.07', 'NUM'))],\n",
       " [('won', 'VERB'), (('grant', 'VERB'), ('grant', 'NOUN'))],\n",
       " [('advised', 'VERB'), (('cheerleaders', 'ADP'), ('cheerleaders', 'NOUN'))],\n",
       " [('the', 'DET'), (('pep', 'ADP'), ('pep', 'NOUN'))],\n",
       " [('``', '.'), (('Cultural', 'ADP'), ('Cultural', 'ADJ'))],\n",
       " [('Cultural', 'ADJ'), (('Literacy', 'ADP'), ('Literacy', 'NOUN'))],\n",
       " [('school', 'NOUN'), (('PTA', 'ADP'), ('PTA', 'NOUN'))],\n",
       " [('``', '.'), (('Teacher', 'ADP'), ('Teacher', 'NOUN'))],\n",
       " [('successor', 'NOUN'), (('centers', 'NOUN'), ('centers', 'VERB'))],\n",
       " [('division', 'NOUN'), (('heads', 'VERB'), ('heads', 'NOUN'))],\n",
       " [('.', '.'), (('Retail', 'ADP'), ('Retail', 'ADJ'))],\n",
       " [('*-2', 'X'), (('slow', 'VERB'), ('slow', 'ADV'))],\n",
       " [(',', '.'), (('big-ticket', 'ADP'), ('big-ticket', 'ADJ'))],\n",
       " [(\"''\", '.'), (('NEW', 'ADP'), ('NEW', 'NOUN'))],\n",
       " [('NEW', 'NOUN'), (('ACCOUNT', 'ADP'), ('ACCOUNT', 'NOUN'))],\n",
       " [(',', '.'), (('T-shirts', 'ADP'), ('T-shirts', 'NOUN'))],\n",
       " [('the', 'DET'), (('corridors', 'ADP'), ('corridors', 'NOUN'))],\n",
       " [('familiar', 'ADJ'), (('red-and-white', 'ADP'), ('red-and-white', 'ADJ'))],\n",
       " [('red-and-white', 'ADJ'), (('GHS', 'ADP'), ('GHS', 'NOUN'))],\n",
       " [('GHS', 'NOUN'), (('logo', 'ADP'), ('logo', 'NOUN'))],\n",
       " [('trade', 'NOUN'), (('publishing', 'NOUN'), ('publishing', 'VERB'))],\n",
       " [('a', 'DET'), (('discordant', 'ADP'), ('discordant', 'ADJ'))],\n",
       " [('heard', 'VERB'), (('*-135', 'ADP'), ('*-135', 'X'))],\n",
       " [('the', 'DET'), (('church-goers', 'ADP'), ('church-goers', 'NOUN'))],\n",
       " [('church-goers', 'NOUN'), (('enjoying', 'ADP'), ('enjoying', 'VERB'))],\n",
       " [('the', 'DET'), (('peal', 'ADP'), ('peal', 'NOUN'))],\n",
       " [('this', 'DET'), (('cool', 'ADP'), ('cool', 'ADJ'))],\n",
       " [('simply', 'ADV'), (('transfers', 'NOUN'), ('transfers', 'VERB'))],\n",
       " [('his', 'PRON'), (('selling', 'VERB'), ('selling', 'NOUN'))],\n",
       " [('*-1', 'X'), (('functioning', 'ADP'), ('functioning', 'VERB'))],\n",
       " [('one', 'NUM'), (('iota', 'ADP'), ('iota', 'NOUN'))],\n",
       " [(',', '.'), (('Hans', 'ADP'), ('Hans', 'NOUN'))],\n",
       " [('the', 'DET'), (('subject', 'ADJ'), ('subject', 'NOUN'))],\n",
       " [('the', 'DET'), (('Monopolies', 'ADP'), ('Monopolies', 'NOUN'))],\n",
       " [('and', 'CONJ'), (('Mergers', 'ADP'), ('Mergers', 'NOUN'))],\n",
       " [('replacement', 'NOUN'), (('tires', 'ADP'), ('tires', 'NOUN'))],\n",
       " [('more', 'ADV'), (('responsive', 'ADP'), ('responsive', 'ADJ'))],\n",
       " [('consumer', 'NOUN'), (('demands', 'ADP'), ('demands', 'NOUN'))],\n",
       " [('and', 'CONJ'),\n",
       "  (('parts-engineering', 'ADP'), ('parts-engineering', 'ADJ'))],\n",
       " [('traders', 'NOUN'), (('place', 'NOUN'), ('place', 'VERB'))],\n",
       " [('stocks', 'NOUN'), (('that', 'ADP'), ('that', 'DET'))],\n",
       " [('*T*-3', 'X'), (('constitute', 'ADP'), ('constitute', 'VERB'))],\n",
       " [('in', 'ADP'), (('whichever', 'ADP'), ('whichever', 'DET'))],\n",
       " [('the', 'DET'), (('more', 'ADJ'), ('more', 'ADV'))],\n",
       " [('lock', 'VERB'), (('in', 'ADP'), ('in', 'PRT'))],\n",
       " [('which', 'DET'), (('*T*-141', 'ADP'), ('*T*-141', 'X'))],\n",
       " [('community', 'NOUN'), (('papers', 'ADP'), ('papers', 'NOUN'))],\n",
       " [('and', 'CONJ'), (('Japanese', 'ADJ'), ('Japanese', 'NOUN'))],\n",
       " [('a', 'DET'), (('disproportionate', 'ADP'), ('disproportionate', 'ADJ'))],\n",
       " [('the', 'DET'), (('public', 'ADJ'), ('public', 'NOUN'))],\n",
       " [('the', 'DET'), (('table', 'ADP'), ('table', 'NOUN'))],\n",
       " [('a', 'DET'), (('net', 'ADJ'), ('net', 'NOUN'))],\n",
       " [('who', 'PRON'), (('*T*-135', 'ADP'), ('*T*-135', 'X'))],\n",
       " [('and', 'CONJ'), (('that', 'DET'), ('that', 'ADP'))],\n",
       " [('any', 'DET'), (('punishment', 'ADP'), ('punishment', 'NOUN'))],\n",
       " [('.', '.'), (('BRAMALEA', 'ADP'), ('BRAMALEA', 'NOUN'))],\n",
       " [('to', 'PRT'), (('issue', 'NOUN'), ('issue', 'VERB'))],\n",
       " [('US$', '.'), (('85.1', 'ADP'), ('85.1', 'NUM'))],\n",
       " [('of', 'ADP'), (('10.5', 'ADP'), ('10.5', 'NUM'))],\n",
       " [('and', 'CONJ'), (('Wellington', 'ADP'), ('Wellington', 'NOUN'))],\n",
       " [('and', 'CONJ'), (('little', 'ADJ'), ('little', 'ADV'))],\n",
       " [('in', 'ADP'), (('Sydney', 'ADP'), ('Sydney', 'NOUN'))],\n",
       " [('day', 'NOUN'), (('up', 'PRT'), ('up', 'ADV'))],\n",
       " [('-LRB-', '.'), (('56', 'ADP'), ('56', 'NUM'))],\n",
       " [('to', 'PRT'), (('1,880', 'ADP'), ('1,880', 'NUM'))],\n",
       " [('$', '.'), (('13.15', 'ADP'), ('13.15', 'NUM'))],\n",
       " [(\"'s\", 'PRT'), (('face', 'VERB'), ('face', 'NOUN'))]]"
      ]
     },
     "execution_count": 28,
     "metadata": {},
     "output_type": "execute_result"
    }
   ],
   "source": [
    "incorrect_tagged_cases"
   ]
  },
  {
   "cell_type": "markdown",
   "metadata": {},
   "source": [
    "### Let's find Unknown Words in the Corpus"
   ]
  },
  {
   "cell_type": "code",
   "execution_count": 29,
   "metadata": {},
   "outputs": [
    {
     "name": "stdout",
     "output_type": "stream",
     "text": [
      "Total Unknown words : 1855\n",
      "Unknown Words : ['Cluff', 'U.S.-Japanese', 'net', '*T*-224', 'prices', 'Campbell', 'however', 'difficult', 'Hungary', 'eligible', 'Ford', 'percentage', 'Scotland', 'heating', 'receipts', 'which', 'Stoll', 'Foundation', 'annual', 'replicating', 'for', 'Ministry', 'quipped', 'printed', '-RRB-', 'career', 'name', 'highest', 'visit', 'December', 'evidence', 'newspapers', 'GHS', '1989', 'more', 'Grandsire', 'justices', 'fell', 'higher', 'specifics', '*-23', 'investor', 'tires', 'deny', 'still', 'vary', 'executing', 'Tache', 'of', 'May', 'representing', 'church', '*EXP*-2', 'Assuming', 'internal', 'judge', 'promotion', 'uses', 'again', 'Stock', 'start', 'is', 'stock-index', 'changes', 'indicator', 'Jones', 'cut', 'PS', 'dominating', 'Typically', 'DES', 'wary', 'avoid', '*ICH*-2', 'people', 'Caribbean', 'authors', '20', 'their', 'FBI', 'We', 'look', 'prospect', 'advertised', 'operate', 'into', '*T*-1', 'comparable', 'About', 'club', 'warned', 'convicted', 'Braidwood', 'And', 'solid', 'Canadian', 'technical', 'wake', 'candidates', '33', 'children', 'badly', 'management', 'grows', 'cereal', 'due', 'facts', 'continued', 'offered', 'investments', 'GMAC', 'not', '1.8500', 'officer', 'Eagleton', 'Germans', '9.8', 'functioning', 'US$', 'those', 'lynch-mob', 'Tokyo', 'often', 'stake', 'proceedings', '100-megabyte', 'better', 'generally', 'excesses', 'support', 'bond', 'economy', '98', 'interview', 'bases', 'used', 'worthiness', 'slow', 'Sherwood', 'plans', 'less', 'profession', '*-2', '1979', 'The', 'tire', 'issues', 'reach', '26', 'line', 'surprise', 'grant', 'charts', 'decades', 'disorders', 'state', '-LRB-', 'Pa.', 'modern', 'lover', '5,699', 'extra', 'performance', 'minimum-wage', 'far', 'where', 'recycled', 'loss', 'progress', 'late', 'notched', 'direction', '292.32', 'consequence', 'failed', 'Dingell', 'billion', 'stocks', 'who', 'University', 'accept', 'takeover', 'litigation', 'You', 'dynamics', 'Samnick', '1988', 'Health', 'It', '100,000', 'thing', 'bomb', 'OSHA', 'dividend', 'Mr.', 'slowdown', 'semiconductor', 'PTA', 'Outside', 'One', 'example', 'disturbs', 'professor', 'growth', 'guests', 'Trade', 'Jacobs', 'megabytes', 'let', '8.55', 'through', 'RMS', 'Retail', 'futures', 'punishment', 'continue', 'wants', 'system', 'Post', 'Bond', 'Nixon', 'presidents', 'circulation', 'based', 'light', '271,124', 'advise', 'sometimes', 'West', 'centers', 'playful', 'S&L', 'sympathetic', 'certain', 'campaign', 'Improvement', 'Stephen', 'sales', 'valued', 'resolve', 'heavy', 'Thomas', 'elaborate', 'Singapore', 'Scoring', 'dollars', 'panic', 'spokesman', 'October', 'or', 'obtain', 'microprocessor', 'Major', 'electronic', 'Utilities', 'agencies', 'Black', 'Columbia', '4', 'weak', 'fluctuation', 'approval', 'study', 'during', 'earnings', 'S&P', 'Otero', 'job', 'mostly', '&', 'steep', '10,000', 'Australian', 'money', 'training', '150', '35.7', 'tests', 'financing', 'draw', 'close', 'will', 'to', 'Turkey', 'thrift', 'Dec.', 'tender', 'you', 'setback', 'relevance', 'Boston', 'LSI', 'January', 'Oct.', 'food', 'patterns', 'kidnapper', 'replaced', 'say', 'scores', 'understand', 'students', 'fraud', 'earned', 'second', 'Elisa', 'value', 'whichever', 'managers', 'Japan', \"'ll\", 'he', 'Just', 'Committee', 'heads', 'allies', \"'s\", 'Collins', 'scrupulously', 'transactions', 'dailies', 'geography', 'anybody', '15', 'transplant', 'La', \"'re\", '10.5', 'farmers', 'year-end', 'process', 'hearing', '*-5', 'News', 'major', 'withdraw', 'lobbyist', 'mistakes', 'financial-services', 'Speculation', 'goes', 'regulatory', 'packaging', 'easy', 'advertisers', 'abandon', 'voting', 'encounter', 'appliances', 'Hans', 'Giants', 'ventures', 'every', 'pound', 'we', 'nullified', 'Act', 'small', 'dozen', \"''\", 'Calif.', 'Van', 'sounded', 'Western', 'Sydney', '75', 'judgment', 'returns', 'concern', 'pack', 'team', 'nightmare', 'accurately', '1.8415', 'income', 'Arbitrage', 'default', 'founded', 'forces', 'fine', 'lifted', 'underlying', 'future', 'film', 'take', 'judges', 'MITI', 'Lindner', 'banks', 'disproportionate', '142.85', 'Herald', 'Group', 'called', 'Authority', 'fetal-tissue', 'clean-air', '1970s', 'persuasive', 'Landrieu', '*U*', 'charges', 'razor-thin', 'Yeargin', 'flat', 'stockbroker', 'iota', 'very', 'offset', '*T*-15', 'tallies', 'while', '3', 'compromise', 'meeting', 'expects', 'Taipei', 'pence', 'in', 'Kent', 'remaining', '*T*-17', 'lying', 'Basin', 'day', 'International', 'According', 'coming', ';', 'dealers', 'my', 'reorganization', 'between', '*', 'going', '?', 'conversations', 'Research', 'owns', '8.35', 'recession', 'ENERGY', 'set', 'similar', 'amounted', 'Savings', 'Journal', 'Northeast', 'currently', 'planning', 'Solomonic', 'wrong', 'several', 'Philippines', 'twice', 'eight', 'addresses', 'filling', 'Melamed', 'television', 'twindam', 'discussions', 'Thousands', 'sell', 'property', 'swim', 'columns', 'development', 'power', 'areas', 'polyester', 'France', 'advantage', 'regarding', 'door', 'maturities', 'next', 'reserved', 'offer', 'lot', 'Xerox', 'writers', 'substantially', 'low', 'problems', 'official', 'caused', 'they', 'acceleration', 'like', 'so-called', 'order', 'payment', 'I', 'big-ticket', 'editors', 'does', 'instance', 'association', 'restructuring', \"'\", 'survival', 'Pictures', 'investors', 'over', '263.07', 'commitment', 'use', 'upside', 'decade', 'crops', 'insurance', 'employees', 'Most', 'polyproplene', 'her', 'go', 'reached', 'Dinkins', '*T*-4', 'known', 'joint', 'cloud', 'Fred', 'bid', 'sophisticated', 'institutions', 'introduce', 'lawmakers', 'planted', 'Harper', 'favor', 'BRAMALEA', 'choose', 'corporate', 'had', '6,799', 'intense', 'consumer', '5,000', 'hoped', 'six', 'peal', 'first', 'end', 'apparently', 'refrigerator', 'East', 'cover', 'actually', 'cavernous', '1956', 'behemoth', 'speculation', 'Sea', 'piracy', 'week', 'machine', 'public', 'Despite', 'Soup', 'land', 'brought', 'exploded', 'searched', 'parts-engineering', 'rates', 'successor', 'America', 'it', 'finance', 'speculated', 'Berlin', 'affecting', 'political', 'large', 'Carl', 'advised', 'Baum', 'members', 'important', 'Harvard', 'female', 'Financial', 'youthful', 'kind', 'concept', 'greater', 'such', 'house', 'have', 'from', 'However', '1925', 'Insurance', 'trade', 'law', 'exceeding', 'Irwin', 'insisted', 'panel', 'Am', ':', 'near-record', 'Hammersmith', 'brat', 'Teacher', 'expressed', 'anticipation', 'card', 'warrants', 'pension', 'Ltd.', 'been', 'already', 'oil', 'Soviets', 'Bordeaux', 'reported', 'officials', 'UNION', 'parties', '1,880', 'forced', 'United', 'performed', 'many', 'convince', 'broke', 'EEOC', 'recorded', 'Typical', 'fast-food', 'disappointed', '40', 'issue', 'ran', 'diagram', 'Embassy', 'shed', 'UBS', 'phone', '382-37', 'disputes', 'until', 'jet', 'got', '8.60', 'common', 'Treble', 'industry', 'Learning', 'deficit', 'crystals', 'violations', 'little', 'discretionary', '*T*-20', 'lawmaking', 'giant', 'Moon', 'advertising', 'quarter', 'vote', '7.74', 'build', 'do', 'gains', 'Third', \"'m\", 'too', 'holders', 'enters', 'T-shirts', 'removed', 'quick', 'craft', 'adequate', 'well', 'give', 'withdrawn', 'mixed', 'top', 'a', 'Newhouse', 'volume', 'really', '1.18', 'odd-sounding', 'intricate', 'needs', 'what', 'U.S.', 'analyst', 'failing', 'nowhere', 'virtue', 'rusted', 'marketplace', 'any', 'heard', 'payments', 'number', 'cumbersome', 'Cultural', 'tilt', 'monthly', 'access', 'high', 'jury', 'Literacy', 'maturity', '*-19', 'sale', 'Southeast', 'censorship', 'bonds', 'England', 'involve', 'gaining', 'Japanese', 'Phillips', 'location', 'President', 'methods', '*T*-56', 'ways', 'money-fund', 'barrels', 'seeking', 'opposite', 'facility', 'other', 'War', 'High', 'filters', 'autumn', 'countries', 'debentures', 'House', 'reports', 'note', '1.1', 'complete', '1987', 'When', 'instructed', 'programming', 'Mrs.', 'the', 'constitute', 'largely', 'Orleans', 'privacy', 'monopoly', '$', 'disregard', '5\\\\/8', 'mean', 'effort', 'continues', 'boost', 'designation', 'Cerf', 'Valley', 'variety', 'Inventories', 'single-handed', 'operating', 'makes', 'All', '*-20', 'grain', 'Experts', 'impossible', 'others', 'place', 'Li', 'kids', 'its', 'Soon', 'Materials', 'front', '143.80', 'penalty', '*PPA*-1', 'focus', 'were', 'orders', 'insert', 'yen', 'unethical', 'chosen', 'Foster', 'announced', 'goal', 'ask', 'veto', 'Nov.', 'marks', 'Mark', 'attended', 'Shepperd', 'pep', 'Parent', 'couple', 'asbestos', 'qualities', '*-135', 'Elsewhere', '#', 'different', 'ASLACTON', 'terms', 'bonus', 'compared', 'districts', '*-158', 'claimed', 'point', 'newspaper', '50', 'Medicine', 'contain', 'schools', '*-156', '*-78', 'increase', 'shareholder', '*-68', 'levels', 'except', 'basket', 'nomination', '130', 'CIA', 'Pan', 'also', 'picture', 'fled', 'months', '*T*-200', '*-45', 'Pasadena', 'rate', 'discordant', 'days', 'an', 'program-trading', 'hid', 'governor', 'firm', 'unpublished', 'revenue', 'open', 'travel', 'binders', 'more-advanced', '270', 'afraid', 'Ringers', 'works', 'alleged', 'compliance', 'understanding', 'early', '*-154', 'clerks', 'sound', 'attention', '19', 'harder', 'might', 'backed', '1.19', 'minimum', 'weddings', 'bolstered', 'member', 'husband', 'Midwest', 'aboard', 'Hurricane', 'be', 'although', 'down', 'sugar', 'measure', \"'86\", 'Only', 'could', 'buy', 'control', '*-3', 'helped', 'purchase', 'market-makers', 'credit', 'his', 'remain', 'likely', '85.1', 'them', 'announcer', 'unfair', 'community', 'one', 'names', 'DOONESBURY', 'beyond', 'case', 'rebound', 'can', 'links', 'sentiment', '1\\\\/4', 'government', 'trying', 'nature', 'authority', 'Commission', 'status', '93.9', 'free', 'stock', 'Merc', '10', 'repair', 'Cancer', '*T*-22', 'John', 'leeway', 'Felten', 'McGovern', 'furniture', 'junk', 'Temple', '1991', 'York', 'helps', 'Nearby', 'treatment', 'review', 'electronics', '*-1', 'according', 'capacity', 'initially', 'secondary', '56', '89.9', 'Rep.', 'Earnings', 'Prosecutors', 'Washington', 'distributes', 'shelter', 'Seoul', 'launched', 'city', '16', 'traders', 'Street', 'symptoms', 'cases', 'barred', 'including', 'sector', '11', 'Younkers', 'Education', 'Closes', 'familiar', 'researchers', '*?*', 'Leo', 'continually', 'Bush', 'mobile', 'laughing', 'claim', 'agriculture', 'realized', 'program', 'How', 'division', 'providing', 'carry', 'Hugo', 'openly', 'all', 'slightly', 'holding', 'inherent', 'bolster', 'They', 'high-priced', 'Its', 'continuing', 'me', 'about', 'talks', 'subcommittee', 'referred', 'Korea', 'dreadful', 'guards', 'fringe', 'hope', 'demands', 'spokeswoman', 'cancer', '*T*-76', 'and', 'multi-crystal', 'assistance', 'using', 'upsetting', '*T*-37', 'influential', 'Energy', 'ratings', '*T*-2', 'wrote', 'added', '*T*-216', 'benefit', \"n't\", 'increasing', 'portfolio', 'Hollis', 'Dow', 'benefits', 'Federal', 'current-carrying', 'third', 'barrel', 'sorting', 'fee', 'Exchange', 'Monday', 'metal', 'registered', 'region', 'publication', 'Leap', 'D.', 'killing', 'At', 'Monopolies', 'neighborhood', 'crucial', 'just', 'closed', 'security-type', 'actual', 'chief', 'Kong', 'Express', 'proposed', 'diaper', 'losses', 'course', 'Drug', '13.15', 'NEW', 'Publications', 'Institute', 'A', 'Stag', 'superconductors', 'contract', 'may', 'factors', 'samples', 'drafted', 'exposures', 'type', 'Veraldi', 'led', 'brokerage', 'casting', 'estimates', 'long', 'previously', 'obviously', 'responsive', '*T*-3', 'respect', 'questions', 'box', 'full-year', 'Standard', 'Steve', 'table', 'with', 'exact', 'To', 'ruling', 'Caters', 'work', 'tax', 'occurs', 'Dallara', 'pharmaceutical', 'modestly', 'sizable', '400,000', 'special', 'reaction', 'restrictions', '722', '92.9', 'Payouts', '20,000', 'Equitable', 'Logic', 'specialist', 'Pacific', 'watch', 'transacting', 'discussed', 'put', 'average', 'home', 'young', '5', 'predispose', 'typically', 'mediocre', 'unhappy', 'modest', 'senior', 'Congress', 'broadcasts', 'latter', 'ca', 'funds', 'said', 'paid', 'tracking', 'seen', 'best-seller', '245', 'papers', 'advertise', 'series', 'Civilization', 'Richebourg', 'Robert', '2029', 'jurisdiction', 'deregulation', 'While', 'lungs', 'merchandising', 'report', 'up', '148', 'nose', 'only', 'Giant', '*T*-252', 'question', 'Drew', 'fully', 'market', 'effects', 'Courter', 'distribution', 'get', 'none', 'clients', 'million', 'supplies', 'after', 'having', 'subject', 'wage', 'sets', 'trading', 'Hampshire', '2', 'California', 'videocassette', 'making', 'out', 'changed', 'Intel', 'serious', 'drugs', 'Illuminating', 'recent', 'lock', 'voice', 'Edison', 'off', 'Fairlawn', 'S.', 'securities', '47.125', 'fairly', 'president', 'strong', 'Supreme', 'clipped', 'solemn', 'if', 'car', 'news', 'court', 'bureaucracy', 'quoted', 'among', 'brokers', 'almost', 'index', 'money-losing', 'though', 'product', 'charge', 'Candlestick', 'simply', 'Lorillard', 'gained', 'Inc.', '60', 'excise', 'sued', 'composed', 'now', 'handling', 'Co.', 'notably', 'becoming', 'appeared', 'superior', 'contributions', 'showed', 'line-item', 'outside', '0', 'Whelen', 'whether', 'Opus', '100', 'says', 'execute', 'person', 'suing', 'users', 'practical', 'buyer', 'Corp.', 'bells', 'allegedly', 'pollution', 'blue-chip', 'computer', 'Ms.', 'TROUBLES', 'able', 'won', 'things', 'three', 'firms', 'loan', 'health', 'yield', '1999', 'tested', 'College', 'Malaysia', '``', 'services', 'Barron', 'noted', 'pay', 'wish', 'on', 'ended', 'Dr.', 'risk', 'opinion', 'standardized', 'disciplinary', 'lobbies', 'another', 'priority', 'achieve', 'return', 'most', 'withhold', 'below', 'defensive', 'at', 'pretax', 'Esso', '1950s', '1.20', 'weeklies', 'category', 'by', '1,100', 'phony', 'gain', 'psychology', 'particularly', 'reporting', 'temporarily', 'unjustified', 'scientist', 'voted', 'lion', 'literature', '1990', 'willing', 'aid', 'displays', 'acquire', '*ICH*-3', '1972', 'expensive', 'reversed', 'red', 'lower', 'replacement', 'increases', 'economic', 'transfers', 'develop', 'Wood', 'Wellington', 'both', '*T*-10', 'federal', 'unit', 'South', 'past', 'yields', '6.9', 'drums', 'interest', 'Civil', 'generous', 'Bennett', 'Loan', 'received', 'NASD', 'hurt', 'Prices', 'suspect', 'markets', 'face', 'mayor', '-LCB-', 'agreed', '14', 'Sales', 'processors', 'departure', 'before', 'pass', 'lacks', 'shares', 'would', 'anything', '*T*-250', 'Other', 'administrative', 'via', 'church-goers', 'since', 'laid', 'Salmore', 'each', 'two-year', 'Faulding', 'as', 'indexes', 'cents', 'Jamaica', 'This', 'Year', 'Rosenblum', ',', 'beat', 'Long', 'profit', 'crystal-lattice', 'yesterday', 'accurate', 'No', 'complained', '244,000', 'ACCOUNT', 'Vanderbilt', \"CREATOR'S\", 'Moleculon', 'For', '132,000', 'Net', 'chain', 'Upjohn', 'lead', 'require', 'watched', 'welcomed', 'ticket', 'Peng', 'Compare', 'Indonesia', '*-4', 'unusually', '3.8', 'reserves', 'Carolina', 'group', 'year', 'cash', 'means', 'patent', 'stronger', 'assuming', 'Crum', 'tubes', 'amounts', '1\\\\/2', 'difference', 'teachers', 'boast', 'floor', 'transaction', 'suspension', 'arise', 'She', 'parking', '*EXP*-1', 'Atlantic', 'popular', 'filter', '*-85', 'country', '1', 'school', 'edition', 'no', 'careful', 'Princeton', 'agents', 'class', 'come', 'Talcott', 'needed', 'developed', 'chairman', 'industry-wide', 'Backe', 'Cask', 'department', 'reader', 'began', 'Little', 'solicitor', 'Gray', 'Dominus', '1.14', '*T*-141', 'independent', 'gasoline', 'Commonwealth', 'subpoenaed', 'seek', 'documents', 'State', 'even', 'Superdome', 'ad', 'Newsweek', 'That', 'whose', 'Determining', 'publishing', 'Nuys', 'London', 'limit', 'Fourteen', 'how', 'true', 'cities', 'expressly', 'Mergers', 'ties', 'bidding', 'investment', 'determine', 'Jersey', 'research', 'earlier', 'shared', 'reps', 'telephones', 'pleased', '1981', 'Wall', '*T*-226', 'companies', 'Facilities', 'Although', '114', 'lowered', 'signing', 'Gas', 'related', 'cheaper', 'sells', 'test', 'rose', 'spaces', 'disclosed', '*T*-57', 'red-and-white', 'purrs', 'decision', 'break', 'priced', 'shops', 'explain', 'pressman', 'bill', 'remains', '--', 'sold', 'neighbors', 'Preliminary', '30', 'last', 'considered', 'bankruptcy', 'corridors', 'operations', 'Spiegel', 'filled', 'American', 'logic', 'tete-a-tete', 'With', 'complaining', 'financial', 'executive', 'month', 'legislation', 'fiber', 'largest', 'results', 'so', 'show', 'Corporate', 'Florio', 'letters', 'First', 'dramatic', 'five', 'Constitution', 'In', 'magazine', 'vs.', 'Chicago', 'irrelevant', '-RCB-', 'went', 'administration', '70.7', 'customers', 'selling', '500', 'Watson', 'reluctance', '2009', '1984', 'Bob', 'announce', 'stupid', 'Ward', 'cheerleaders', 'operates', 'He', 'additional', 'are', '*ICH*-1', 'heart', 'narrowed', 'Sept.', 'debt', 'recently', 'Czechoslovakia', 'provision', 'takes', 'items', '2.3', '80', 'Ohio-based', 'enable', 'oppose', 'memory', 'Oil', 'carried', 'opportunities', 'move', 'years', 'hard', 'some', 'lessen', 'medical', 'moment', 'farm', 'under', 'possess', 'price', 'cool', 'pressure', 'Petrus', 'produces', 'segments', 'meanwhile', 'Poor', 'Beach', '11.57', 'Tuesday', 'enjoying', 'key', 'But', 'print', 'yet', '145', 'contained', 'plan', 'relatively', 'U.K.', 'comes', 'Mich.', 'short-term', 'two', 'incentive', 'efforts', 'closely', 'Markey', \"'ve\", 'pointing', 'Hong', 'being', 'giveaways', 'These', 'As', 'There', 'see', 'office', 'Interpublic', 'ritual', 'includes', 'arrows', 'company', 'adopt', 'refused', 'when', 'Industry', 'hazardous', 'compassion', 'decided', 'Aslacton', 'matter', 'eliminate', 'virtually', 'M.D.', 'provide', 'because', 'data', 'dollar', 'text', 'fifth', '23', 'why', 'service', 'surprisingly', 'clues', 'taught', 'Hubbell', '*T*-135', 'board', 'significant', 'guns', 'ago', 'right', 'cleaned', 'polystyrene', 'capital', 'Commerce', 'crocidolite', 'non-biodegradable', '7', 'share', 'N.J', '%', 'Examiner', 'bottles', 'homelessness', 'new', 'bidders', 'subscribers', 'evening', '7.65', 'paper', 'this', 'hours', 'Cray-3', 'pointed', '8.9', '...', 'publishes', 'relations', 'should', 'run', 'she', 'Both', 'fields', 'trades', 'Premier', '386', 'built', 'Court', 'Bernstein', 'four', 'Forster', 'waste', 'causing', 'lives', 'Leighton', 'tentatively', 'devices', 'higher-salaried', 'Inouye', 'chilled', 'export-oriented', 'list', 'us', 'pursuant', 'without', 'Chapter', 'view', 'helping', 'organization', 'contracts', '227', 'faultlessly', 'logo', 'Texas', '13', 'Johnson', 'demand', 'make', 'time', 'Mexico', 'came', 'assemble', 'Martin', 'slower', 'worked', 'Asia', 'plastic', 'than', 'watches', 'much', 'win', 'broken', 'was', 'foam', 'guild', 'scientists', 'subsidiary', 'but', 'there', 'computers', 'against', 'later', 'double-digit', 'export', 'National', 'partly', 'together', 'has', 'bottom', 'E.', 'addition', 'analysts', 'that', '3.375', 'New', 'did', 'possible', 'spent', 'introduction', 'Fifteen', '*T*-145', 'fat', '*-36', 'never', 'succeeded', 'once', 'agreement', 'war-damaged', 'reflects', 'positions', 'charged', 'daughters', '9', 'individual', 'memorize', 'Follow-up', 'lieutenant', 'overall', '1985', '12-point', '37', 'intoxication', '25,000', 'USX', 'patents', 'confidence', 'earns', 'resilient', 'level', 'saw', 'former', 'current', 'Coniston', 'marriages', 'Also', 'disk', '2-3', 'brief', 'summer', 'foreign', 'assets', 'committee', 'full', 'Containers', 'third-quarter', 'big', 'Financing', 'leaves', 'headlined', '63', 'these', 'Random', 'supercomputer']\n"
     ]
    }
   ],
   "source": [
    "# Unknown words \n",
    "\n",
    "test_voc = set([t for t in test_tagged_words])\n",
    "\n",
    "unknown_words = list(test_voc - T)\n",
    "print(\"Total Unknown words :\", len(unknown_words))\n",
    "print(\"Unknown Words :\", unknown_words)"
   ]
  },
  {
   "cell_type": "markdown",
   "metadata": {},
   "source": [
    "### Let's try to add Rule Based (Regular Expression) tagger"
   ]
  },
  {
   "cell_type": "markdown",
   "metadata": {},
   "source": [
    "Based on the incorrect tags identified from the Test Set, lets add a few Rule Based patterns to correct them"
   ]
  },
  {
   "cell_type": "code",
   "execution_count": 30,
   "metadata": {},
   "outputs": [],
   "source": [
    "# defining patterns for tagging\n",
    "patterns = [\n",
    "    (r'^([0-9]|[a-zA-Z])+\\-[a-zA-Z]*$','ADJ'),              # adjective\n",
    "    (r'^[a-zA-Z]+(ing|ed|es)$', 'VERB'),               # Verb Suffix\n",
    "    (r'.*ly$', 'ADV'),               #Adverbs\n",
    "    (r'.*\\'s$', 'NOUN'),              # possessive nouns\n",
    "    (r'.*s$', 'NOUN'),                # plural nouns\n",
    "    (r'^-?[0-9]+(.[0-9]+)?$', 'NUM'),# cardinal numbers\n",
    "    (r'(The|the|A|a|An|an|That|that|This|this|Those|those|These|these)$', 'DET'), #Determinants\n",
    "    (r'.*', 'NOUN')                    # nouns\n",
    "]"
   ]
  },
  {
   "cell_type": "code",
   "execution_count": 31,
   "metadata": {},
   "outputs": [],
   "source": [
    "regexp_tagger = nltk.RegexpTagger(patterns)\n",
    "# help(regexp_tagger)"
   ]
  },
  {
   "cell_type": "code",
   "execution_count": 32,
   "metadata": {},
   "outputs": [
    {
     "name": "stdout",
     "output_type": "stream",
     "text": [
      "0.41025641025641024\n"
     ]
    }
   ],
   "source": [
    "regexp_accuracy =  regexp_tagger.evaluate(test_set)\n",
    "print(regexp_accuracy)"
   ]
  },
  {
   "cell_type": "markdown",
   "metadata": {},
   "source": [
    "- We only get ~41% accuracy by using Regular Expression taggers"
   ]
  },
  {
   "cell_type": "markdown",
   "metadata": {},
   "source": [
    "### Combining Taggers (Unigram with Rule Based)"
   ]
  },
  {
   "cell_type": "code",
   "execution_count": 33,
   "metadata": {},
   "outputs": [
    {
     "name": "stdout",
     "output_type": "stream",
     "text": [
      "0.9483173076923077\n"
     ]
    }
   ],
   "source": [
    "# rule based tagger\n",
    "rule_based_tagger = nltk.RegexpTagger(patterns)\n",
    "\n",
    "# unigram backed up by the rule-based tagger\n",
    "unigram_tagger = nltk.UnigramTagger(train_set, backoff=rule_based_tagger)\n",
    "\n",
    "unigram_accuracy = unigram_tagger.evaluate(test_set)\n",
    "print(unigram_accuracy)"
   ]
  },
  {
   "cell_type": "markdown",
   "metadata": {},
   "source": [
    "- Unigram tagger backed off by Rule Based Tagger gives ~94% accuracy"
   ]
  },
  {
   "cell_type": "markdown",
   "metadata": {},
   "source": [
    "### Combining Taggers (Bigram, Unigram with Rule Based)"
   ]
  },
  {
   "cell_type": "code",
   "execution_count": 34,
   "metadata": {},
   "outputs": [
    {
     "name": "stdout",
     "output_type": "stream",
     "text": [
      "0.9545272435897436\n"
     ]
    }
   ],
   "source": [
    "# rule based tagger\n",
    "rule_based_tagger = nltk.RegexpTagger(patterns)\n",
    "\n",
    "# unigram backed up by the rule-based tagger\n",
    "unigram_tagger = nltk.UnigramTagger(train_set, backoff=rule_based_tagger)\n",
    "\n",
    "# bigram backed up by the unigram tagger\n",
    "bigram_tagger = nltk.BigramTagger(train_set, backoff=unigram_tagger)\n",
    "\n",
    "bigram_accuracy = bigram_tagger.evaluate(test_set)\n",
    "print(bigram_accuracy)"
   ]
  },
  {
   "cell_type": "markdown",
   "metadata": {},
   "source": [
    "- Combining Taggers with backoff gives an accuracy of ~95%"
   ]
  },
  {
   "cell_type": "markdown",
   "metadata": {},
   "source": [
    "#### This proves that combining  Bigram tagger with Unigram and Rule-Based Approach can definitely increase the accuracy"
   ]
  },
  {
   "cell_type": "markdown",
   "metadata": {},
   "source": [
    "### Solve the problem of unknown words"
   ]
  },
  {
   "cell_type": "markdown",
   "metadata": {},
   "source": [
    "We will try to solve the problem of unknown words with below 2 approaches - \n",
    "- Viterbi Modification-Technique I: Modify the Viterbi Algorithm to solve Unknown words using Rule Based Approach\n",
    "- Viterbi Modification-Technique II: Modify the Viterbi Algorithm to solve Unknown words by handling Emission Probability"
   ]
  },
  {
   "cell_type": "markdown",
   "metadata": {},
   "source": [
    "### Viterbi Modification-Technique I"
   ]
  },
  {
   "cell_type": "markdown",
   "metadata": {},
   "source": [
    "We will modify the Viterbi Algorithm to incorporte the rule based approach to handle unknown words"
   ]
  },
  {
   "cell_type": "code",
   "execution_count": 35,
   "metadata": {},
   "outputs": [],
   "source": [
    "def Rule_Based_tagger (word, train_set = train_set):\n",
    "    \n",
    "    patterns = [\n",
    "    (r'^([0-9]|[a-zA-Z])+\\-[a-zA-Z]*$','ADJ'),              # adjective\n",
    "    (r'^[a-zA-Z]+(able|ible|al|ful|ish|ive|less|ous)$', 'ADJ'),               # ADjective suffixes\n",
    "    (r'^[a-zA-Z]+(ing|ed|es|ate|en|ify|ise|ize)$', 'VERB'),               # Verb Suffix\n",
    "    (r'.*(ly|ward|wards|wise)$', 'ADV'),               #Adverbs  Suffix \n",
    "    (r'.*(er|or|hood|ment|ry|ship|ist|ness)$', 'NOUN'),              # possessive nouns\n",
    "    (r'.*\\'s$', 'NOUN'),              # possessive nouns\n",
    "    (r'.*s$', 'NOUN'),                # plural nouns\n",
    "    (r'^-?[0-9]+(.[0-9]+)?$', 'NUM'),# cardinal numbers\n",
    "    (r'(The|the|A|a|An|an|That|that|This|this|Those|those|These|these)$', 'DET'), #Determinants\n",
    "    (r'.*', 'NOUN')                    # nouns\n",
    "    ]\n",
    "\n",
    "    rule_based_tagger = nltk.RegexpTagger(patterns)\n",
    "    \n",
    "    return rule_based_tagger.tag_sents([[(word)]])"
   ]
  },
  {
   "cell_type": "code",
   "execution_count": 36,
   "metadata": {},
   "outputs": [],
   "source": [
    "# Modify viterbi algorithm to tag unknown words using regex patterns\n",
    "\n",
    "def Viterbi_Rule_Based_Unknown_Tagger(words, train_bag = train_tagged_words):\n",
    "    state = []\n",
    "    T = list(set([pair[1] for pair in train_bag]))\n",
    "    \n",
    "    for key, word in enumerate(words):\n",
    "        # unknown words logic\n",
    "        if word not in V:\n",
    "            unknown_wrd=Rule_Based_tagger(word) #Apply regex Rules to Unknown Words\n",
    "            for sent in unknown_wrd:\n",
    "                for tup in sent:\n",
    "                    state.append(tup[1])\n",
    "        # rest remains same            \n",
    "        else:            \n",
    "            p = [] \n",
    "            for tag in T:\n",
    "                if key == 0:\n",
    "                    transition_p = tags_df.loc['.', tag]\n",
    "                else:\n",
    "                    transition_p = tags_df.loc[state[-1], tag]\n",
    "                \n",
    "            # compute emission and state probabilities\n",
    "                emission_p = word_given_tag(words[key], tag)[0]/word_given_tag(words[key], tag)[1]\n",
    "                state_probability = emission_p * transition_p    \n",
    "                p.append(state_probability)\n",
    "            \n",
    "            pmax = max(p)\n",
    "            # getting state for which probability is maximum\n",
    "            state_max = T[p.index(pmax)] \n",
    "            state.append(state_max)\n",
    "            \n",
    "    return list(zip(words, state))"
   ]
  },
  {
   "cell_type": "markdown",
   "metadata": {},
   "source": [
    "#### Evaluating tagging accuracy"
   ]
  },
  {
   "cell_type": "code",
   "execution_count": 37,
   "metadata": {},
   "outputs": [
    {
     "name": "stdout",
     "output_type": "stream",
     "text": [
      "Time taken in seconds:  739.6129229068756\n",
      "Modified Viterbi Technique 1 Accuracy:  0.9535256410256411\n"
     ]
    }
   ],
   "source": [
    "# tagging the test sentences\n",
    "start = time.time()\n",
    "tagged_seq = Viterbi_Rule_Based_Unknown_Tagger(test_tagged_words)\n",
    "end = time.time()\n",
    "difference = end-start\n",
    "\n",
    "print(\"Time taken in seconds: \", difference)\n",
    "\n",
    "# accuracy\n",
    "viterbi_word_match_1 = [i for i, j in zip(tagged_seq, test_run_base) if i == j] \n",
    "viterbi_accuracy_1 = len(viterbi_word_match_1)/len(tagged_seq)\n",
    "print('Modified Viterbi Technique 1 Accuracy: ', viterbi_accuracy_1)"
   ]
  },
  {
   "cell_type": "markdown",
   "metadata": {},
   "source": [
    "#### Rule Based Approach helps to tag the unknown words in the test set and increase the accuracy by ~5% over Vanilla Viterbi Algorithm"
   ]
  },
  {
   "cell_type": "code",
   "execution_count": 38,
   "metadata": {},
   "outputs": [
    {
     "name": "stdout",
     "output_type": "stream",
     "text": [
      "Time Taken : 2.2526631355285645\n",
      "[('NASA', 'ADP'), ('invited', 'ADP'), ('social', 'ADJ'), ('media', 'NOUN'), ('users', 'NOUN'), ('to', 'PRT'), ('experience', 'NOUN'), ('the', 'DET'), ('launch', 'NOUN'), ('of', 'ADP'), ('ICESAT-2', 'ADP'), ('Satellite', 'ADP'), ('.', '.')]\n"
     ]
    }
   ],
   "source": [
    "#Check some Sample Test Case\n",
    "## Testing with Vanilla Viterbi Algorithm\n",
    "sentence_test = 'NASA invited social media users to experience the launch of ICESAT-2 Satellite.'\n",
    "#sentence_test_voc = set([t for t in sentence_test.split()])\n",
    "words = word_tokenize(sentence_test)\n",
    "start = time.time()\n",
    "tagged_seq = Viterbi(words)\n",
    "end = time.time()\n",
    "difference = end-start\n",
    "print ('Time Taken :', difference)\n",
    "print(tagged_seq)"
   ]
  },
  {
   "cell_type": "code",
   "execution_count": 39,
   "metadata": {},
   "outputs": [
    {
     "name": "stdout",
     "output_type": "stream",
     "text": [
      "[('NASA', 'NOUN'), ('invited', 'VERB'), ('social', 'ADJ'), ('media', 'NOUN'), ('users', 'NOUN'), ('to', 'PRT'), ('experience', 'NOUN'), ('the', 'DET'), ('launch', 'NOUN'), ('of', 'ADP'), ('ICESAT-2', 'NOUN'), ('Satellite', 'NOUN'), ('.', '.')]\n"
     ]
    }
   ],
   "source": [
    "## Testing with Modified Viterbi Algorithm\n",
    "tagged_seq_modified = Viterbi_Rule_Based_Unknown_Tagger(words)\n",
    "print(tagged_seq_modified)"
   ]
  },
  {
   "cell_type": "markdown",
   "metadata": {},
   "source": [
    "- __NASA,Satellite,ICESAT-2__ changed to NOUN correctly\n",
    "- __invited__ changed to VERB correctly"
   ]
  },
  {
   "cell_type": "markdown",
   "metadata": {},
   "source": [
    "### Viterbi Modification - Technique II "
   ]
  },
  {
   "cell_type": "markdown",
   "metadata": {},
   "source": [
    "As the Emission Probability will always be 0 for Unknown Words , we will modify the Viterbi Algorithm to assign Transition Probability to State Probability in such scenarios"
   ]
  },
  {
   "cell_type": "code",
   "execution_count": 40,
   "metadata": {},
   "outputs": [],
   "source": [
    "# use transition probability of tags when emission probability is zero (in case of unknown words)\n",
    "\n",
    "def Viterbi_Transition_Prob_Unknown_Word(words, train_bag = train_tagged_words):\n",
    "    state = []\n",
    "    T = list(set([pair[1] for pair in train_bag]))\n",
    "    \n",
    "    for key, word in enumerate(words):\n",
    "        #initialise list of probability column for a given observation\n",
    "        p = [] \n",
    "        p_trans =[] # storing transition probabilities\n",
    "        for tag in T:\n",
    "            if key == 0:\n",
    "                transition_p = tags_df.loc['.', tag]\n",
    "            else:\n",
    "                transition_p = tags_df.loc[state[-1], tag]\n",
    "                \n",
    "            # compute emission and state probabilities\n",
    "            emission_p = word_given_tag(words[key], tag)[0]/word_given_tag(words[key], tag)[1]\n",
    "            state_probability = emission_p * transition_p    \n",
    "            p.append(state_probability)\n",
    "            p_trans.append(transition_p)\n",
    "            \n",
    "        pmax = max(p)\n",
    "        state_max = T[p.index(pmax)] \n",
    "        \n",
    "      \n",
    "        # if probability is zero (unknown word) then use transition probability\n",
    "        if(pmax==0):\n",
    "            pmax = max(p_trans)\n",
    "            state_max = T[p_trans.index(pmax)]\n",
    "                           \n",
    "        else:\n",
    "            state_max = T[p.index(pmax)] \n",
    "        \n",
    "        state.append(state_max)\n",
    "    return list(zip(words, state))"
   ]
  },
  {
   "cell_type": "markdown",
   "metadata": {},
   "source": [
    "#### Evaluating tagging accuracy"
   ]
  },
  {
   "cell_type": "code",
   "execution_count": 41,
   "metadata": {},
   "outputs": [
    {
     "name": "stdout",
     "output_type": "stream",
     "text": [
      "Time taken in seconds:  802.7655119895935\n",
      "Modified Viterbi Technique 1 Accuracy:  0.9372996794871795\n"
     ]
    }
   ],
   "source": [
    "# tagging the test sentences\n",
    "start = time.time()\n",
    "tagged_seq = Viterbi_Transition_Prob_Unknown_Word(test_tagged_words)\n",
    "end = time.time()\n",
    "difference = end-start\n",
    "\n",
    "print(\"Time taken in seconds: \", difference)\n",
    "\n",
    "# accuracy\n",
    "viterbi_word_match_2 = [i for i, j in zip(tagged_seq, test_run_base) if i == j] \n",
    "viterbi_accuracy_2 = len(viterbi_word_match_2)/len(tagged_seq)\n",
    "print('Modified Viterbi Technique 1 Accuracy: ', viterbi_accuracy_2)"
   ]
  },
  {
   "cell_type": "markdown",
   "metadata": {},
   "source": [
    "#### The second approach to modify the Viterbi Algorithm to handle unknown words increases the accuracy by ~3%"
   ]
  },
  {
   "cell_type": "code",
   "execution_count": 42,
   "metadata": {},
   "outputs": [
    {
     "name": "stdout",
     "output_type": "stream",
     "text": [
      "Time Taken : 2.3268609046936035\n",
      "[('Before', 'ADP'), ('entering', 'VERB'), ('politics', 'NOUN'), (',', '.'), ('Donald', 'NOUN'), ('Trump', 'NOUN'), ('was', 'VERB'), ('a', 'DET'), ('domineering', 'ADP'), ('businessman', 'NOUN'), ('and', 'CONJ'), ('a', 'DET'), ('television', 'NOUN'), ('personality', 'ADP'), ('.', '.')]\n"
     ]
    }
   ],
   "source": [
    "#Check some Sample Test Case\n",
    "## Testing with Vanilla Viterbi Algorithm\n",
    "sentence_test = 'Before entering politics, Donald Trump was a domineering businessman and a television personality.'\n",
    "#sentence_test_voc = set([t for t in sentence_test.split()])\n",
    "words = word_tokenize(sentence_test)\n",
    "start = time.time()\n",
    "tagged_seq = Viterbi(words)\n",
    "end = time.time()\n",
    "difference = end-start\n",
    "print ('Time Taken :', difference)\n",
    "print(tagged_seq)"
   ]
  },
  {
   "cell_type": "code",
   "execution_count": 43,
   "metadata": {},
   "outputs": [
    {
     "name": "stdout",
     "output_type": "stream",
     "text": [
      "[('Before', 'ADP'), ('entering', 'VERB'), ('politics', 'NOUN'), (',', '.'), ('Donald', 'NOUN'), ('Trump', 'NOUN'), ('was', 'VERB'), ('a', 'DET'), ('domineering', 'NOUN'), ('businessman', 'NOUN'), ('and', 'CONJ'), ('a', 'DET'), ('television', 'NOUN'), ('personality', 'NOUN'), ('.', '.')]\n"
     ]
    }
   ],
   "source": [
    "## Testing with Modified Viterbi Algorithm\n",
    "tagged_seq_modified = Viterbi_Transition_Prob_Unknown_Word(words)\n",
    "print(tagged_seq_modified)"
   ]
  },
  {
   "cell_type": "markdown",
   "metadata": {},
   "source": [
    "- __personality__ changed to NOUN"
   ]
  },
  {
   "cell_type": "markdown",
   "metadata": {},
   "source": [
    "### Compare the tagging accuracies of the modifications with the vanilla Viterbi algorithm"
   ]
  },
  {
   "cell_type": "code",
   "execution_count": 44,
   "metadata": {},
   "outputs": [],
   "source": [
    "#Create dataframe with different Tagging Algorithm with their accuracies\n",
    "compare_accur = pd.DataFrame([['Vanilla Viterbi', vanilla_viterbi_accuracy], \n",
    "                              ['Rule Based Tagger', regexp_accuracy], \n",
    "                              ['Unigram Tagger backed off by Rule Based', unigram_accuracy ],\n",
    "                              ['Combined Tagger (Bigram, Unigram and Rule Based)', bigram_accuracy],\n",
    "                              ['Modified Viterbi Algorithm - Technique I', viterbi_accuracy_1],\n",
    "                              ['Modified Viterbi Algorithm - Technique II', viterbi_accuracy_2]]\n",
    "                              , columns = ['Algorithm', 'Accuracy'])"
   ]
  },
  {
   "cell_type": "code",
   "execution_count": 45,
   "metadata": {},
   "outputs": [
    {
     "data": {
      "text/html": [
       "<div>\n",
       "<style scoped>\n",
       "    .dataframe tbody tr th:only-of-type {\n",
       "        vertical-align: middle;\n",
       "    }\n",
       "\n",
       "    .dataframe tbody tr th {\n",
       "        vertical-align: top;\n",
       "    }\n",
       "\n",
       "    .dataframe thead th {\n",
       "        text-align: right;\n",
       "    }\n",
       "</style>\n",
       "<table border=\"1\" class=\"dataframe\">\n",
       "  <thead>\n",
       "    <tr style=\"text-align: right;\">\n",
       "      <th></th>\n",
       "      <th>Algorithm</th>\n",
       "      <th>Accuracy</th>\n",
       "    </tr>\n",
       "  </thead>\n",
       "  <tbody>\n",
       "    <tr>\n",
       "      <th>0</th>\n",
       "      <td>Vanilla Viterbi</td>\n",
       "      <td>0.906050</td>\n",
       "    </tr>\n",
       "    <tr>\n",
       "      <th>1</th>\n",
       "      <td>Rule Based Tagger</td>\n",
       "      <td>0.410256</td>\n",
       "    </tr>\n",
       "    <tr>\n",
       "      <th>2</th>\n",
       "      <td>Unigram Tagger backed off by Rule Based</td>\n",
       "      <td>0.948317</td>\n",
       "    </tr>\n",
       "    <tr>\n",
       "      <th>3</th>\n",
       "      <td>Combined Tagger (Bigram, Unigram and Rule Based)</td>\n",
       "      <td>0.954527</td>\n",
       "    </tr>\n",
       "    <tr>\n",
       "      <th>4</th>\n",
       "      <td>Modified Viterbi Algorithm - Technique I</td>\n",
       "      <td>0.953526</td>\n",
       "    </tr>\n",
       "    <tr>\n",
       "      <th>5</th>\n",
       "      <td>Modified Viterbi Algorithm - Technique II</td>\n",
       "      <td>0.937300</td>\n",
       "    </tr>\n",
       "  </tbody>\n",
       "</table>\n",
       "</div>"
      ],
      "text/plain": [
       "                                          Algorithm  Accuracy\n",
       "0                                   Vanilla Viterbi  0.906050\n",
       "1                                 Rule Based Tagger  0.410256\n",
       "2           Unigram Tagger backed off by Rule Based  0.948317\n",
       "3  Combined Tagger (Bigram, Unigram and Rule Based)  0.954527\n",
       "4          Modified Viterbi Algorithm - Technique I  0.953526\n",
       "5         Modified Viterbi Algorithm - Technique II  0.937300"
      ]
     },
     "execution_count": 45,
     "metadata": {},
     "output_type": "execute_result"
    }
   ],
   "source": [
    "compare_accur  # Compare the accuracies"
   ]
  },
  {
   "cell_type": "markdown",
   "metadata": {},
   "source": [
    "<div class=\"alert alert-block alert-success\">\n",
    "<a id=section12></a> \n",
    "<h3>Modified Viterbi Algorithm - Technique I: Rule Based Taggers performs the best in terms of handling the Unknown Words </h3>\n",
    "</div>"
   ]
  },
  {
   "cell_type": "markdown",
   "metadata": {},
   "source": [
    "### List down cases which were incorrectly tagged by original POS tagger and got corrected by your modifications"
   ]
  },
  {
   "cell_type": "code",
   "execution_count": 46,
   "metadata": {},
   "outputs": [
    {
     "name": "stdout",
     "output_type": "stream",
     "text": [
      "Time Taken : 3.4643161296844482\n",
      "[('The', 'DET'), ('2018', 'ADP'), ('FIFA', 'ADP'), ('World', 'NOUN'), ('Cup', 'ADP'), ('is', 'VERB'), ('the', 'DET'), ('21st', 'ADP'), ('FIFA', 'ADP'), ('World', 'NOUN'), ('Cup', 'ADP'), (',', '.'), ('an', 'DET'), ('international', 'ADJ'), ('football', 'NOUN'), ('tournament', 'ADP'), ('contested', 'ADP'), ('once', 'ADV'), ('every', 'DET'), ('four', 'NUM'), ('years', 'NOUN'), ('.', '.')]\n"
     ]
    }
   ],
   "source": [
    "## Testing with Vanilla Viterbi Algorithm\n",
    "sentence_test_1 = 'The 2018 FIFA World Cup is the 21st FIFA World Cup, an international football tournament contested once every four years.'\n",
    "#sentence_test_voc = set([t for t in sentence_test.split()])\n",
    "words = word_tokenize(sentence_test_1)\n",
    "start = time.time()\n",
    "tagged_seq = Viterbi(words)\n",
    "end = time.time()\n",
    "difference = end-start\n",
    "print ('Time Taken :', difference)\n",
    "print(tagged_seq)"
   ]
  },
  {
   "cell_type": "code",
   "execution_count": 47,
   "metadata": {},
   "outputs": [
    {
     "name": "stdout",
     "output_type": "stream",
     "text": [
      "[('The', 'DET'), ('2018', 'NUM'), ('FIFA', 'NOUN'), ('World', 'NOUN'), ('Cup', 'NOUN'), ('is', 'VERB'), ('the', 'DET'), ('21st', 'NOUN'), ('FIFA', 'NOUN'), ('World', 'NOUN'), ('Cup', 'NOUN'), (',', '.'), ('an', 'DET'), ('international', 'ADJ'), ('football', 'NOUN'), ('tournament', 'NOUN'), ('contested', 'VERB'), ('once', 'ADV'), ('every', 'DET'), ('four', 'NUM'), ('years', 'NOUN'), ('.', '.')]\n"
     ]
    }
   ],
   "source": [
    "## Testing with Modified Viterbi Algorithm\n",
    "tagged_seq_modified = Viterbi_Rule_Based_Unknown_Tagger(words)\n",
    "print(tagged_seq_modified)"
   ]
  },
  {
   "cell_type": "markdown",
   "metadata": {},
   "source": [
    "As you can see unknown words are tagged as \"ADP\" by Vanilla Viterbi Algorithm but the modified Viterbi Algorithm has converted those unknown words to right tags such as:\n",
    "- Year \"2018\" changed to NUM correctly\n",
    "- Words like \"contested\" changed to VERB correctly\n",
    "- Words like \"FIFA\", \"Cup\" and \"tournament\" changed to NOUN correctly"
   ]
  },
  {
   "cell_type": "code",
   "execution_count": 48,
   "metadata": {},
   "outputs": [
    {
     "name": "stdout",
     "output_type": "stream",
     "text": [
      "Time Taken : 2.687094211578369\n",
      "[('Android', 'ADP'), ('has', 'VERB'), ('been', 'VERB'), ('the', 'DET'), ('best-selling', 'ADJ'), ('OS', 'ADP'), ('worldwide', 'ADP'), ('on', 'ADP'), ('smartphones', 'ADP'), ('since', 'ADP'), ('2011', 'ADP'), ('and', 'CONJ'), ('on', 'ADP'), ('tablets', 'NOUN'), ('since', 'ADP'), ('2013', 'ADP'), ('.', '.')]\n"
     ]
    }
   ],
   "source": [
    "## Testing with Vanilla Viterbi Algorithm\n",
    "sentence_test_2 = 'Android has been the best-selling OS worldwide on smartphones since 2011 and on tablets since 2013.'\n",
    "#sentence_test_voc = set([t for t in sentence_test.split()])\n",
    "words = word_tokenize(sentence_test_2)\n",
    "start = time.time()\n",
    "tagged_seq = Viterbi(words)\n",
    "end = time.time()\n",
    "difference = end-start\n",
    "print ('Time Taken :', difference)\n",
    "print(tagged_seq)"
   ]
  },
  {
   "cell_type": "code",
   "execution_count": 49,
   "metadata": {},
   "outputs": [
    {
     "name": "stdout",
     "output_type": "stream",
     "text": [
      "[('Android', 'NOUN'), ('has', 'VERB'), ('been', 'VERB'), ('the', 'DET'), ('best-selling', 'ADJ'), ('OS', 'NOUN'), ('worldwide', 'NOUN'), ('on', 'ADP'), ('smartphones', 'VERB'), ('since', 'ADP'), ('2011', 'NUM'), ('and', 'CONJ'), ('on', 'ADP'), ('tablets', 'NOUN'), ('since', 'ADP'), ('2013', 'NUM'), ('.', '.')]\n"
     ]
    }
   ],
   "source": [
    "## Testing with Modified Viterbi Algorithm\n",
    "tagged_seq_modified = Viterbi_Rule_Based_Unknown_Tagger(words)\n",
    "print(tagged_seq_modified)"
   ]
  },
  {
   "cell_type": "markdown",
   "metadata": {},
   "source": [
    "As you can see unknown words are tagged as \"ADP\" by Vanilla Viterbi Algorithm but the modified Viterbi Algorithm has converted those unknown words to right tags such as:\n",
    "- Years \"2013\" and \"2011\" changed to NUM\n",
    "- Words like \"Android\" and \"OS\" changed to NOUN correctly"
   ]
  },
  {
   "cell_type": "code",
   "execution_count": 50,
   "metadata": {},
   "outputs": [
    {
     "name": "stdout",
     "output_type": "stream",
     "text": [
      "Time Taken : 3.2339251041412354\n",
      "[('Show', 'NOUN'), ('me', 'PRON'), ('the', 'DET'), ('price', 'NOUN'), ('of', 'ADP'), ('the', 'DET'), ('flights', 'NOUN'), ('leaving', 'VERB'), ('Atlanta', 'NOUN'), ('at', 'ADP'), ('about', 'ADP'), ('3', 'NUM'), ('in', 'ADP'), ('the', 'DET'), ('afternoon', 'NOUN'), ('and', 'CONJ'), ('arriving', 'ADP'), ('in', 'ADP'), ('San', 'NOUN'), ('Francisco', 'NOUN'), ('.', '.')]\n"
     ]
    }
   ],
   "source": [
    "## Testing with Vanilla Viterbi Algorithm\n",
    "sentence_test_3 = 'Show me the price of the flights leaving Atlanta at about 3 in the afternoon and arriving in San Francisco.'\n",
    "#sentence_test_voc = set([t for t in sentence_test.split()])\n",
    "words = word_tokenize(sentence_test_3)\n",
    "start = time.time()\n",
    "tagged_seq = Viterbi(words)\n",
    "end = time.time()\n",
    "difference = end-start\n",
    "print ('Time Taken :', difference)\n",
    "print(tagged_seq)"
   ]
  },
  {
   "cell_type": "code",
   "execution_count": 51,
   "metadata": {},
   "outputs": [
    {
     "name": "stdout",
     "output_type": "stream",
     "text": [
      "[('Show', 'NOUN'), ('me', 'PRON'), ('the', 'DET'), ('price', 'NOUN'), ('of', 'ADP'), ('the', 'DET'), ('flights', 'NOUN'), ('leaving', 'VERB'), ('Atlanta', 'NOUN'), ('at', 'ADP'), ('about', 'ADP'), ('3', 'NUM'), ('in', 'ADP'), ('the', 'DET'), ('afternoon', 'NOUN'), ('and', 'CONJ'), ('arriving', 'VERB'), ('in', 'ADP'), ('San', 'NOUN'), ('Francisco', 'NOUN'), ('.', '.')]\n"
     ]
    }
   ],
   "source": [
    "## Testing with Modified Viterbi Algorithm\n",
    "tagged_seq_modified = Viterbi_Rule_Based_Unknown_Tagger(words)\n",
    "print(tagged_seq_modified)"
   ]
  },
  {
   "cell_type": "markdown",
   "metadata": {},
   "source": [
    "As you can see unknown words are tagged as \"ADP\" by Vanilla Viterbi Algorithm but the modified Viterbi Algorithm has converted those unknown words to right tags such as:\n",
    "- Words like \"arriving\" changed to VERB correctly"
   ]
  }
 ],
 "metadata": {
  "kernelspec": {
   "display_name": "Python 3",
   "language": "python",
   "name": "python3"
  },
  "language_info": {
   "codemirror_mode": {
    "name": "ipython",
    "version": 3
   },
   "file_extension": ".py",
   "mimetype": "text/x-python",
   "name": "python",
   "nbconvert_exporter": "python",
   "pygments_lexer": "ipython3",
   "version": "3.8.3"
  }
 },
 "nbformat": 4,
 "nbformat_minor": 2
}
